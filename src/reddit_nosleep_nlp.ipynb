{
 "cells": [
  {
   "cell_type": "markdown",
   "metadata": {},
   "source": [
    "# Imports"
   ]
  },
  {
   "cell_type": "code",
   "execution_count": 19,
   "metadata": {
    "ExecuteTime": {
     "end_time": "2019-11-19T20:01:58.941085Z",
     "start_time": "2019-11-19T20:01:58.920836Z"
    }
   },
   "outputs": [],
   "source": [
    "#misc\n",
    "import logging\n",
    "import os\n",
    "import pprint\n",
    "logging.basicConfig(level=logging.INFO)\n",
    "\n",
    "# env vars\n",
    "import os\n",
    "from dotenv import load_dotenv\n",
    "\n",
    "# data viz\n",
    "import matplotlib.pyplot as plt\n",
    "import seaborn as sns\n",
    "sns.set()\n",
    "%matplotlib inline\n",
    "\n",
    "# data\n",
    "import numpy as np\n",
    "import pandas as pd\n",
    "import pickle\n",
    "from collections import defaultdict\n",
    "import re\n",
    "pd.set_option('display.max_columns', 500)\n",
    "pd.set_option('display.max_rows', 500)\n",
    "pd.set_option('display.max_colwidth', -1)\n",
    "\n",
    "#nlp\n",
    "import spacy\n",
    "from spacy.lemmatizer import Lemmatizer\n",
    "from spacy.lang.en.stop_words import STOP_WORDS\n",
    "# Leaving this in for future work, but couldn't get current Sense2Vec 1.0.0a2 to work \n",
    "# from sense2vec import Sense2VecComponent\n",
    "from tqdm import tqdm_notebook, notebook\n",
    "\n",
    "import gensim\n",
    "import gensim.corpora as corpora\n",
    "from gensim import matutils\n",
    "from gensim.utils import simple_preprocess\n",
    "from gensim.models.phrases import Phrases, Phraser\n",
    "\n",
    "# LDA ended up not being very effective\n",
    "from gensim.models.ldamulticore import LdaMulticore\n",
    "from gensim.models.ldamodel import LdaModel\n",
    "from gensim.models import CoherenceModel\n",
    "import pyLDAvis.gensim\n",
    "import pyLDAvis.sklearn\n",
    "pyLDAvis.enable_notebook()\n",
    "\n",
    "import pandas as pd\n",
    "from sklearn.feature_extraction.text import CountVectorizer, TfidfVectorizer \n",
    "from sklearn.decomposition import TruncatedSVD\n",
    "from sklearn.decomposition import NMF\n",
    "from sklearn.metrics.pairwise import cosine_similarity\n",
    "from sklearn.decomposition import LatentDirichletAllocation\n",
    "\n",
    "import nltk\n",
    "from nltk import tokenize\n",
    "#nltk.download('stopwords')\n",
    "from nltk.corpus import stopwords"
   ]
  },
  {
   "cell_type": "code",
   "execution_count": 22,
   "metadata": {
    "ExecuteTime": {
     "end_time": "2019-11-19T20:02:24.331200Z",
     "start_time": "2019-11-19T20:02:24.325235Z"
    }
   },
   "outputs": [],
   "source": [
    "# Constants\n",
    "load_dotenv(verbose=True, override=True)\n",
    "\n",
    "DATA_PATH = os.getenv(\"DATA_PATH\")\n",
    "RANDOM_STATE = os.getenv(\"RANDOM_STATE\")\n",
    "PICKLE_PATH = os.getenv(\"PICKLE_PATH\")\n",
    "nltk_stop_words = stopwords.words('english')\n",
    "SAMPLE_SIZE = 2000\n",
    "WORKERS = 3"
   ]
  },
  {
   "cell_type": "markdown",
   "metadata": {},
   "source": [
    "# Original data"
   ]
  },
  {
   "cell_type": "code",
   "execution_count": null,
   "metadata": {
    "ExecuteTime": {
     "end_time": "2019-11-19T19:15:14.166450Z",
     "start_time": "2019-11-19T19:15:14.134277Z"
    }
   },
   "outputs": [],
   "source": [
    "df_full = pd.read_json(f'{DATA_PATH}/nosleep.txt',lines=True)"
   ]
  },
  {
   "cell_type": "markdown",
   "metadata": {},
   "source": [
    "# Clean"
   ]
  },
  {
   "cell_type": "code",
   "execution_count": null,
   "metadata": {},
   "outputs": [],
   "source": [
    "def clean_frame(frame):\n",
    "    df = frame.copy()\n",
    "    \n",
    "    ##############\n",
    "    # Duplicates\n",
    "    ##############\n",
    "    df = df.drop_duplicates(subset='id')\n",
    "    \n",
    "    #######\n",
    "    # NAs\n",
    "    #######\n",
    "    df = df.dropna(subset=['selftext'])\n",
    "    #df = df[df['selftext'] != '[removed]']\n",
    "    #df = df[df['selftext'] != '[deleted]']\n",
    "    df = df[df['selftext'].str.len() > 300]\n",
    "    df = df[df['score'] > 0]\n",
    "    \n",
    "    ########\n",
    "    # Domain-Specific Filtering\n",
    "    ########\n",
    "    df['selftext'] = df['selftext'].replace(value = '', regex = 'amp;\\\\S+') \n",
    "    df = df[df['title'].str.contains('voting thread') != True]\n",
    "    df = df[df['title'].str.contains('NoSleep') != True]\n",
    "    \n",
    "    \n",
    "    ##################\n",
    "    # Date processing\n",
    "    ##################\n",
    "    df['created_utc'] = pd.to_datetime(df['created_utc'], unit='s')\n",
    "    df['created_year'] = pd.DatetimeIndex(df['created_utc']).year\n",
    "    df['created_month'] = pd.DatetimeIndex(df['created_utc']).month\n",
    "    #df['edited'] = pd.to_datetime(df['edited'], unit='s')\n",
    "    #df['retrieved_on'] = pd.to_datetime(df['retrieved_on'], unit='s')\n",
    "    #df['author_created_utc'] = pd.to_datetime(df['author_created_utc'], unit='s')\n",
    "\n",
    "    mask = ['author',\n",
    "        'created_utc',\n",
    "        'created_year',\n",
    "        'created_month', \n",
    "        'score', \n",
    "        'num_comments',\n",
    "        'full_link', \n",
    "        'title', \n",
    "        'selftext',]\n",
    "    \n",
    "    return df[mask] "
   ]
  },
  {
   "cell_type": "code",
   "execution_count": null,
   "metadata": {},
   "outputs": [],
   "source": [
    "# clean\n",
    "df_clean = clean_frame(df_full)\n",
    "# sort\n",
    "df_clean.sort_values(['score'], ascending=False, inplace=True)\n",
    "# pickle\n",
    "df_clean.to_pickle(f'{DATA_PATH}/reddit_df_clean.pkl')"
   ]
  },
  {
   "cell_type": "markdown",
   "metadata": {
    "ExecuteTime": {
     "end_time": "2019-11-12T19:03:49.169437Z",
     "start_time": "2019-11-12T19:03:49.166930Z"
    }
   },
   "source": [
    "# Sample to build initial model"
   ]
  },
  {
   "cell_type": "markdown",
   "metadata": {
    "ExecuteTime": {
     "end_time": "2019-11-13T04:52:59.700258Z",
     "start_time": "2019-11-13T04:52:59.682535Z"
    }
   },
   "source": [
    "I doubled the sample size iteratively until the resulting topics stopped changing 200->400->800->1600->3200"
   ]
  },
  {
   "cell_type": "code",
   "execution_count": null,
   "metadata": {},
   "outputs": [],
   "source": [
    "df_clean_sub = df_clean.head(25000).sample(3200, random_state=RANDOM_STATE)\n",
    "# this is small enough to commit to github\n",
    "df_clean_sub.to_pickle(f'{PICKLE_PATH}/reddit_df_clean_sub.pkl')"
   ]
  },
  {
   "cell_type": "code",
   "execution_count": 2,
   "metadata": {
    "ExecuteTime": {
     "end_time": "2019-11-14T02:07:00.539093Z",
     "start_time": "2019-11-14T02:07:00.472028Z"
    }
   },
   "outputs": [],
   "source": [
    "df_sample = pd.read_pickle(f'{PICKLE_PATH}/reddit_df_clean_sub.pkl')"
   ]
  },
  {
   "cell_type": "markdown",
   "metadata": {
    "ExecuteTime": {
     "end_time": "2019-11-09T23:40:12.984924Z",
     "start_time": "2019-11-09T23:40:12.971123Z"
    }
   },
   "source": [
    "# NLP on Sample Data"
   ]
  },
  {
   "cell_type": "markdown",
   "metadata": {},
   "source": [
    "## Build Stopwords List"
   ]
  },
  {
   "cell_type": "code",
   "execution_count": 59,
   "metadata": {
    "ExecuteTime": {
     "end_time": "2019-11-14T05:32:21.212592Z",
     "start_time": "2019-11-14T05:32:21.196681Z"
    }
   },
   "outputs": [],
   "source": [
    "stop_words_pd = pd.read_csv('news-stopwords/sw1k.csv')\n",
    "stop_words_pd.dropna(subset=['term'], inplace=True)\n",
    "nltk_stop_words.extend(stop_words_pd['term'].tolist())\n",
    "\n",
    "english_lit = 'faye, mel, morrison, natasha, solomon, josie, liz, tess, cameron, aiden, steph, luke, lucas, josh, matt, amelia, dylan, jake, pete, ethan, gabe, sandler, jessica, sander, dee, nate, tasha, trevor, candice, janie, cameron, willy, mikey, tess, alexs, avi, zack, lindsay, angie, avery, patty, chrissy, jude, finn, spencer, riley, kelsey, alyssa, meredith, savannah, evan, stan, sophie, timmy, jess, joey, liam, alex, nick, angela, alex, emma, lily, phil, sam, oliver, eric, claire, Mary, Katherine, Josephine, Ana, Heidi, Patricia, Joan, Thelma, Renee, Glenda, Linda, Ashley, Shannon, Ida, Lydia, Barbara, Judith, Sheila, Vivian, Viola, Elizabeth, Rose, Ethel, Roberta, Courtney, Jennifer, Janice, Ellen, Holly, Marian, Maria, Kelly, Elaine, Brittany, Stella, Susan, Nicole, Marjorie, Melanie, Caroline, Margaret, Judy, Carrie, Loretta, Dora, Dorothy, Christina, Charlotte, Yolanda, Jo, Lisa, Kathy, Monica, Jeanette, Vickie, Nancy, Theresa, Esther, Laurie, Mattie, Karen, Beverly, Pauline, Katie, Terry, Betty, Denise, Emma, Kristen, Maxine, Helen, Tammy, Juanita, Vanessa, Irma, Sandra, Irene, Anita, Alma, Mabel, Donna, Jane, Rhonda, Sue, Marsha, Carol, Lori, Hazel, Elsie, Myrtle, Ruth, Rachel, Amber, Beth, Lena, Sharon, Marilyn, Eva, Jeanne, Christy, Michelle, Andrea, Debbie, Vicki, Deanna, Laura, Kathryn, April, Carla, Patsy, Sarah, Louise, Leslie, Tara, Hilda, Kimberly, Sara, Clara, Rosemary, Gwendolyn, Deborah, Anne, Lucille, Eileen, Jennie, Jessica, Jacqueline, Jamie, Terri, Nora, Shirley, Wanda, Joanne, Gertrude, Margie, Cynthia, Bonnie, Eleanor, Lucy, Nina, Angela, Julia, Valerie, Tonya, Cassandra, Melissa, Ruby, Danielle, Ella, Leah, Brenda, Lois, Megan, Stacey, Penny, Amy, Tina, Alicia, Wilma, Kay, Anna, Phyllis, Suzanne, Gina, Priscilla, Rebecca, Norma, Michele, Kristin, Naomi, Virginia, Paula, Gail, Jessie, Carole, Kathleen, Diana, Bertha, Natalie, Brandy, Pamela, Annie, Darlene, Agnes, Olga, Martha, Lillian, Veronica, Vera, Billie, Debra, Emily, Jill, Willie, Dianne, Amanda, Robin, Erin, Charlene, Tracey, Stephanie, Peggy, Geraldine, Bessie, Leona, Carolyn, Crystal, Lauren, Delores, Jenny, Christine, Gladys, Cathy, Melinda, Felicia, Marie, Rita, Joann, Pearl, Sonia, Janet, Dawn, Lorraine, Arlene, Miriam, Catherine, Connie, Lynn, Maureen, Velma, Frances, Florence, Sally, Colleen, Becky, Ann, Tracy, Regina, Allison, Bobbie, Joyce, Edna, Erica, Tamara, Violet, Diane, Tiffany, Beatrice, Joy, Kristina, Alice, Carmen, Dolores, Georgia, Toni, Julie, Rosa, Bernice, Constance, Misty, Heather, Cindy, Audrey, Lillie, Mae, Teresa, Grace, Yvonne, Claudia, Shelly, Doris, Wendy, Annette, Jackie, Daisy, Gloria, Victoria, June, Marcia, Ramona, Evelyn, Edith, Samantha, Tanya, Sherri, Jean, Kim, Marion, Nellie, Erika, Cheryl, Sherry, Dana, Minnie, Katrina, Mildred, Sylvia, Stacy, Marlene, Claire , James, Willie, Chad, Zachary, Mathew, John, Ralph, Jacob, Corey, Tyrone, Robert, Lawrence, Lee, Herman, Darren, Michael, Nicholas, Melvin, Maurice, Lonnie, William, Roy, Alfred, Vernon, Lance, David, Benjamin, Kyle, Roberto, Cody, Richard, Bruce, Francis, Clyde, Julio, Charles, Brandon, Bradley, Glen, Kelly, Joseph, Adam, Jesus, Hector, Kurt, Thomas, Harry, Herbert, Shane, Allan, Christopher, Fred, Frederick, Ricardo, Nelson, Daniel, Wayne, Ray, Sam, Guy, Paul, Billy, Joel, Rick, Clayton, Mark, Steve, Edwin, Lester, Hugh, Donald, Louis, Don, Brent, Max, George, Jeremy, Eddie, Ramon, Dwayne, Kenneth, Aaron, Ricky, Charlie, Dwight, Steven, Randy, Troy, Tyler, Armando, Edward, Howard, Randall, Gilbert, Felix, Brian, Eugene, Barry, Gene, Jimmie, Ronald, Carlos, Alexander, Marc, Everett, Anthony, Russell, Bernard, Reginald, Jordan, Kevin, Bobby, Mario, Ruben, Ian, Jason, Victor, Leroy, Brett, Wallace, Matthew, Martin, Francisco, Angel, Ken, Gary, Ernest, Marcus, Nathaniel, Bob, Timothy, Phillip, Micheal, Rafael, Jaime, Jose, Todd, Theodore, Leslie, Casey, Larry, Jesse, Clifford, Edgar, Alfredo, Jeffrey, Craig, Miguel, Milton, Alberto, Frank, Alan, Oscar, Raul, Dave, Scott, Shawn, Jay, Ben, Ivan, Eric, Clarence, Jim, Chester, Johnnie, Stephen, Sean, Tom, Cecil, Sidney, Andrew, Philip, Calvin, Duane, Byron, Raymond, Chris, Alex, Franklin, Julian, Gregory, Johnny, Jon, Andre, Isaac, Joshua, Earl, Ronnie, Elmer, Morris, Jerry, Jimmy, Bill, Brad, Clifton, Dennis, Antonio, Lloyd, Gabriel, Willard, Walter, Danny, Tommy, Ron, Daryl, Patrick, Bryan, Leon, Mitchell, Ross, Peter, Tony, Derek, Roland, Virgil, Harold, Luis, Warren, Arnold, Andy, Douglas, Mike, Darrell, Harvey, Marshall, Henry, Stanley, Jerome, Jared, Salvador, Carl, Leonard, Floyd, Adrian, Perry, Arthur, Nathan, Leo, Karl, Kirk, Ryan, Dale, Alvin, Cory, Sergio, Roger, Manuel, Tim, Claude, Marion, Joe, Rodney, Wesley, Erik, Tracy, Juan, Curtis, Gordon, Darryl, Seth, Jack, Norman, Dean, Jamie, Kent, Albert, Allen, Greg, Neil, Terrance, Jonathan, Marvin, Jorge, Jessie, Rene, Justin, Vincent, Dustin, Christian, Eduardo, Terry, Glenn, Pedro, Javier, Terrence, Gerald, Jeffery, Derrick, Fernando, Enrique, Keith, Travis, Dan, Clinton, Freddie, Samuel, Jeff, Lewis, Ted, Wade'\n",
    "english_lit_stopwords = english_lit.lower().split(', ')\n",
    "nltk_stop_words.extend(english_lit_stopwords)\n",
    "\n",
    "nltk_stop_words.extend([\n",
    "    'know', 'like', 'look', 'nosleep', 'reddit', 'post', '’s', \"\\'s\", \"'s\",\n",
    "    'stuff', 'subreddit', 'gt', 'lt', 'en',  'r', 'comment', 'comments',\n",
    "    'gon', 'na', 'shit', 'guys', 'yeah', 'damn', 'dude', 'guess', 'ass',\n",
    "    'mods', 'update', 'part', 'one', 'two', 'three', 'four', 'five', 'six',\n",
    "    'seven', 'eight', 'nine', 'nsfw', 'previous', 'events', 'information',\n",
    "    'edit', 'edited', '1', '2', '3', '4', '5', '6', '7', '8', '9', '0', \n",
    "    'simply', 'anyway', 'whatever', 'fine', 'do', 'not', 's', 'r', 'kinda',\n",
    "    'so', 'sometimes', 'maybe', 'ok'\n",
    "])\n",
    "\n",
    "stop_words = nltk_stop_words"
   ]
  },
  {
   "cell_type": "markdown",
   "metadata": {
    "ExecuteTime": {
     "end_time": "2019-11-12T19:16:40.677021Z",
     "start_time": "2019-11-12T19:16:40.673828Z"
    }
   },
   "source": [
    "## Pipeline"
   ]
  },
  {
   "cell_type": "code",
   "execution_count": 60,
   "metadata": {
    "ExecuteTime": {
     "end_time": "2019-11-14T05:33:50.871818Z",
     "start_time": "2019-11-14T05:33:50.859527Z"
    }
   },
   "outputs": [],
   "source": [
    "def docs_to_bows(docs):\n",
    "    for doc in docs:\n",
    "        yield(gensim.utils.simple_preprocess(str(doc), deacc=True))  # deacc=True removes punctuations\n",
    "\n",
    "def remove_stopwords(texts, stop_words):\n",
    "    return [[word for word in simple_preprocess(str(doc)) if word not in stop_words] for doc in tqdm_notebook(texts)]\n",
    "\n",
    "def lemmatization(texts, allowed_postags=['NOUN', 'ADJ', 'VERB', 'ADV']):\n",
    "    \"\"\"https://spacy.io/api/annotation\"\"\"\n",
    "    texts_out = []\n",
    "    for sent in tqdm_notebook(texts):\n",
    "        doc = nlp(\" \".join(sent)) \n",
    "        texts_out.append([token.lemma_ for token in doc if token.pos_ in allowed_postags])\n",
    "    return texts_out\n",
    "\n",
    "def process_data(docs, stop_words):\n",
    "    # Remove Emails\n",
    "    docs = [re.sub(r'\\S*@\\S*\\s?', '', doc) for doc in docs]\n",
    "\n",
    "    # Normalize long chains of xxxs, these are redactions in the corpus\n",
    "    docs = [re.sub(r'xxx?', '', doc) for doc in docs]\n",
    "\n",
    "    # Normalize long chains of ooos\n",
    "    docs = [re.sub(r'oo+\\b', 'o', doc) for doc in docs]\n",
    "\n",
    "    # Remove URLs\n",
    "    docs = [re.sub(r'http\\S+', '', doc) for doc in docs]\n",
    "\n",
    "    # Remove new line characters\n",
    "    docs = [re.sub(r'\\s+', ' ', doc) for doc in docs]\n",
    "\n",
    "    # Remove single quotes\n",
    "    docs = [re.sub(\"\\'\", \"\", doc) for doc in docs]\n",
    "\n",
    "    # lowercase, this would break NER, but don't need it\n",
    "    docs = [doc.lower() for doc in docs]\n",
    "\n",
    "    # turn docs into bags of words\n",
    "    list_of_bows = list(docs_to_bows(docs))\n",
    "\n",
    "    # Build the bigram models\n",
    "    bigram = gensim.models.Phrases(list_of_bows, min_count=5, threshold=50) # higher threshold fewer phrases.\n",
    "\n",
    "    # Faster way to get a sentence clubbed as a bigram\n",
    "    bigram_model = gensim.models.phrases.Phraser(bigram)\n",
    "\n",
    "    # Remove Stop Words before after phrasing, but before spacy for efficiency\n",
    "    list_of_bows_nostops = remove_stopwords(list_of_bows, stop_words)\n",
    "\n",
    "    # Form Bigrams\n",
    "    list_of_bows_w_bigrams = [bigram_model[doc] for doc in list_of_bows_nostops]\n",
    "\n",
    "    # keeping only tagger component (for efficiency)\n",
    "    nlp = spacy.load('en_core_web_md', disable=['parser', 'ner'])\n",
    "\n",
    "    # Do lemmatization keeping only noun, adj, vb, adv, proper nount\n",
    "    data_lemmatized = lemmatization(list_of_bows_w_bigrams, allowed_postags=['NOUN', 'ADJ', 'VERB', 'ADV', 'PROPN'])\n",
    "\n",
    "    # second stopword pass on lemmatized words\n",
    "    data_lemmatized = remove_stopwords(data_lemmatized, stop_words)\n",
    "\n",
    "    print(data_lemmatized[:1])\n",
    "    return data_lemmatized\n"
   ]
  },
  {
   "cell_type": "markdown",
   "metadata": {},
   "source": [
    "## Topic Modeling (random 3,200 docs of top upvoted 25,000 of total 250,000; 1.4%)\n"
   ]
  },
  {
   "cell_type": "markdown",
   "metadata": {},
   "source": [
    "### Pass text column through pipeline. \n",
    "**Note** Exluding Titles—these will serve as a form of validation of the story text topic modeling"
   ]
  },
  {
   "cell_type": "code",
   "execution_count": 80,
   "metadata": {
    "ExecuteTime": {
     "end_time": "2019-11-14T16:30:04.241598Z",
     "start_time": "2019-11-14T16:26:34.865489Z"
    }
   },
   "outputs": [
    {
     "name": "stderr",
     "output_type": "stream",
     "text": [
      "INFO:gensim.models.phrases:collecting all words and their counts\n",
      "INFO:gensim.models.phrases:PROGRESS: at sentence #0, processed 0 words and 0 word types\n",
      "INFO:gensim.models.phrases:collected 1252940 word types from a corpus of 5425041 words (unigram + bigrams) and 3196 sentences\n",
      "INFO:gensim.models.phrases:using 1252940 counts as vocab in Phrases<0 vocab, min_count=5, threshold=50, max_vocab_size=40000000>\n",
      "INFO:gensim.models.phrases:source_vocab length 1252940\n",
      "INFO:gensim.models.phrases:Phraser built with 2267 phrasegrams\n",
      "//anaconda3/envs/reddit/lib/python3.7/site-packages/tqdm/__init__.py:27: TqdmDeprecationWarning: This function will be removed in tqdm==5.0.0\n",
      "Please use `tqdm.notebook.tqdm` instead of `tqdm.tqdm_notebook`\n",
      "  TqdmDeprecationWarning)\n"
     ]
    },
    {
     "data": {
      "application/vnd.jupyter.widget-view+json": {
       "model_id": "bca51ef4a4bd48f3942dc04f274d06b4",
       "version_major": 2,
       "version_minor": 0
      },
      "text/plain": [
       "HBox(children=(IntProgress(value=0, max=3196), HTML(value='')))"
      ]
     },
     "metadata": {},
     "output_type": "display_data"
    },
    {
     "name": "stdout",
     "output_type": "stream",
     "text": [
      "\n"
     ]
    },
    {
     "name": "stderr",
     "output_type": "stream",
     "text": [
      "//anaconda3/envs/reddit/lib/python3.7/site-packages/tqdm/__init__.py:27: TqdmDeprecationWarning: This function will be removed in tqdm==5.0.0\n",
      "Please use `tqdm.notebook.tqdm` instead of `tqdm.tqdm_notebook`\n",
      "  TqdmDeprecationWarning)\n"
     ]
    },
    {
     "data": {
      "application/vnd.jupyter.widget-view+json": {
       "model_id": "a7a928e5c3fe4729ae23498a895c432a",
       "version_major": 2,
       "version_minor": 0
      },
      "text/plain": [
       "HBox(children=(IntProgress(value=0, max=3196), HTML(value='')))"
      ]
     },
     "metadata": {},
     "output_type": "display_data"
    },
    {
     "name": "stdout",
     "output_type": "stream",
     "text": [
      "\n"
     ]
    },
    {
     "name": "stderr",
     "output_type": "stream",
     "text": [
      "//anaconda3/envs/reddit/lib/python3.7/site-packages/msgpack_numpy.py:184: DeprecationWarning: encoding is deprecated, Use raw=False instead.\n",
      "  return _unpackb(packed, **kwargs)\n",
      "//anaconda3/envs/reddit/lib/python3.7/site-packages/msgpack_numpy.py:184: DeprecationWarning: encoding is deprecated, Use raw=False instead.\n",
      "  return _unpackb(packed, **kwargs)\n",
      "//anaconda3/envs/reddit/lib/python3.7/site-packages/tqdm/__init__.py:27: TqdmDeprecationWarning: This function will be removed in tqdm==5.0.0\n",
      "Please use `tqdm.notebook.tqdm` instead of `tqdm.tqdm_notebook`\n",
      "  TqdmDeprecationWarning)\n"
     ]
    },
    {
     "data": {
      "application/vnd.jupyter.widget-view+json": {
       "model_id": "6ba34815f60d45ba97817b6efbda926b",
       "version_major": 2,
       "version_minor": 0
      },
      "text/plain": [
       "HBox(children=(IntProgress(value=0, max=3196), HTML(value='')))"
      ]
     },
     "metadata": {},
     "output_type": "display_data"
    },
    {
     "name": "stdout",
     "output_type": "stream",
     "text": [
      "\n"
     ]
    },
    {
     "name": "stderr",
     "output_type": "stream",
     "text": [
      "//anaconda3/envs/reddit/lib/python3.7/site-packages/tqdm/__init__.py:27: TqdmDeprecationWarning: This function will be removed in tqdm==5.0.0\n",
      "Please use `tqdm.notebook.tqdm` instead of `tqdm.tqdm_notebook`\n",
      "  TqdmDeprecationWarning)\n"
     ]
    },
    {
     "data": {
      "application/vnd.jupyter.widget-view+json": {
       "model_id": "2ee91ccd475e4351a434058f37ef7176",
       "version_major": 2,
       "version_minor": 0
      },
      "text/plain": [
       "HBox(children=(IntProgress(value=0, max=3196), HTML(value='')))"
      ]
     },
     "metadata": {},
     "output_type": "display_data"
    },
    {
     "name": "stdout",
     "output_type": "stream",
     "text": [
      "\n",
      "[['maddie', 'confuse', 'learn', 'type', 'legalize', 'marriage', 'ms', 'jone', 'confuse', 'nice', 'brother', 'sister', 'aunt', 'wait', 'mommy', 'dad', 'sister', 'ms', 'jone', 'type', 'exist', 'dinner', 'mommy', 'dad', 'cool', 'nice', 'mommy', 'dad', 'lie', 'sister', 'dad', 'dark', 'fast', 'concerned', 'whisper', 'impaginery', 'sikiatrist', 'dinner', 'upset', 'upstairs', 'sister', 'mad', 'crying', 'forget', 'sad', 'cry', 'ms', 'jone', 'kid', 'sad', 'kid', 'ms', 'jone', 'funny', 'smile', 'sister', 'breathe', 'sister', 'friend', 'sister', 'funny', 'touch', 'sister', 'whisper', 'whimper', 'pain', 'soooo', 'weird', 'ms', 'jone', 'sister', 'cry', 'wish', 'breathe', 'confused', 'dad', 'super', 'mad', 'mention', 'cry', 'sleep', 'anymore', 'basement', 'floor', 'shovel']]\n"
     ]
    }
   ],
   "source": [
    "data_lemmatized = process_data(df_sample['selftext'].tolist(), stop_words)"
   ]
  },
  {
   "cell_type": "code",
   "execution_count": 81,
   "metadata": {
    "ExecuteTime": {
     "end_time": "2019-11-14T16:31:22.321783Z",
     "start_time": "2019-11-14T16:31:22.220006Z"
    }
   },
   "outputs": [],
   "source": [
    "docs_list_joined = [' '.join(words) for words in data_lemmatized]"
   ]
  },
  {
   "cell_type": "markdown",
   "metadata": {},
   "source": [
    "### Grid Search for Best Topic Model"
   ]
  },
  {
   "cell_type": "code",
   "execution_count": 136,
   "metadata": {
    "ExecuteTime": {
     "end_time": "2019-11-14T23:46:46.681060Z",
     "start_time": "2019-11-14T23:46:46.594762Z"
    }
   },
   "outputs": [],
   "source": [
    "def display_topics(model, feature_names, no_top_words=15, topic_names=topics):\n",
    "    for ix, topic in enumerate(model.components_):\n",
    "        if not topic_names or not topic_names[ix]:\n",
    "            print(\"\\nTopic \", ix)\n",
    "        else:\n",
    "            print(\"\\nTopic: '\",topic_names[ix],\"'\")\n",
    "        print(\", \".join([feature_names[i]\n",
    "                        for i in topic.argsort()[:-no_top_words - 1:-1]]))"
   ]
  },
  {
   "cell_type": "code",
   "execution_count": 65,
   "metadata": {
    "ExecuteTime": {
     "end_time": "2019-11-14T05:39:07.990558Z",
     "start_time": "2019-11-14T05:39:07.981749Z"
    }
   },
   "outputs": [],
   "source": [
    "def hyperparameter_topics(docs_list, vectorizer='count', num_topic=15,\n",
    "                          binary=False, max_df=0.08, min_df=1, stop_words = 'english',\n",
    "                         model='lda', no_top_words = 15):\n",
    "    print('\\n\\n', model, vectorizer, f'num_topic:{num_topic}', f'binary:{binary}' , f'max_df:{max_df}', f'min_df:{min_df}')\n",
    "    vec = None\n",
    "    if vectorizer == 'count':\n",
    "        vec = CountVectorizer(stop_words=stop_words, binary=binary, max_df=max_df, min_df=min_df)\n",
    "    elif vectorizer == 'tfidf':\n",
    "        vec = TfidfVectorizer(stop_words=stop_words, binary=binary, max_df=max_df, min_df=min_df)\n",
    "        \n",
    "        \n",
    "    doc_word_matrix = vec.fit_transform(docs_list)\n",
    "    feature_names = vec.get_feature_names()\n",
    "    \n",
    "    doc_topic = None\n",
    "    mod = None\n",
    "    if model == 'lda':\n",
    "        # Convert sparse matrix of counts to a gensim corpus\n",
    "        corpus = matutils.Sparse2Corpus(doc_word_matrix.transpose())\n",
    "        # We need to save a mapping (dict) of row id to word (token) for later use by gensim:\n",
    "        id2word = dict((v, k) for k, v in vec.vocabulary_.items())\n",
    "        mod = LatentDirichletAllocation(n_components=num_topic,random_state=RANDOM_STATE)\n",
    "        mod.fit(doc_word_matrix)\n",
    "        pyLDAvis.sklearn.prepare(mod, doc_words_matrix, vec)\n",
    "    elif model == 'lsa':\n",
    "        mod = TruncatedSVD(num_topic,random_state=RANDOM_STATE)\n",
    "        doc_topic = mod.fit_transform(doc_word_matrix)\n",
    "        print('explained_variance_ratio_', lsa.explained_variance_ratio_)\n",
    "        display_topics(mod, feature_names, no_top_words)\n",
    "    elif model == 'nmf':\n",
    "        mod = NMF(num_topic,random_state=RANDOM_STATE)\n",
    "        doc_topic = mod.fit_transform(doc_word_matrix)\n",
    "        display_topics(mod, feature_names, no_top_words)\n",
    "        \n",
    "    return (mod, vec, feature_names, doc_word_matrix, doc_topic)"
   ]
  },
  {
   "cell_type": "code",
   "execution_count": 66,
   "metadata": {
    "ExecuteTime": {
     "end_time": "2019-11-14T05:40:42.985169Z",
     "start_time": "2019-11-14T05:39:09.313501Z"
    }
   },
   "outputs": [
    {
     "name": "stdout",
     "output_type": "stream",
     "text": [
      "\n",
      "\n",
      " nmf tfidf num_topic:5 binary:True max_df:0.2 min_df:5\n",
      "\n",
      "Topic  0\n",
      "lip, tooth, grip, cheek, lean, lift, sharp, knee, slide, gasp, soft, bone, flesh, wet, nose, breathe, swallow, wrap, gaze, inch\n",
      "\n",
      "Topic  1\n",
      "text, freak, apartment, camera, screen, computer, type, click, definitely, creepy, hallway, tonight, laptop, upstairs, stair, movie, tomorrow, downstairs, couch, random\n",
      "\n",
      "Topic  2\n",
      "doctor, patient, attempt, learn, contact, subject, victim, effect, choose, perhaps, remove, truth, discover, truly, exist, murder, escape, suffer, trust, contain\n",
      "\n",
      "Topic  3\n",
      "baby, sister, dinner, daughter, brother, sad, hug, sweet, kiss, angry, upset, daddy, bear, beautiful, favorite, fun, perfect, husband, funny, mommy\n",
      "\n",
      "Topic  4\n",
      "tree, mile, forest, animal, distance, direction, path, sun, flashlight, dirt, surround, sky, yard, wind, truck, rock, mountain, pack, hill, branch\n",
      "\n",
      "\n",
      " nmf tfidf num_topic:5 binary:True max_df:0.2 min_df:15\n",
      "\n",
      "Topic  0\n",
      "lip, tooth, grip, cheek, lean, lift, sharp, knee, slide, gasp, soft, flesh, nose, wet, bone, swallow, breathe, wrap, gaze, wave\n",
      "\n",
      "Topic  1\n",
      "text, freak, camera, computer, screen, apartment, click, type, definitely, laptop, creepy, tonight, hallway, tomorrow, movie, random, upstairs, send, stair, couch\n",
      "\n",
      "Topic  2\n",
      "doctor, patient, attempt, learn, subject, victim, contact, choose, effect, perhaps, truth, discover, remove, exist, truly, murder, suffer, escape, destroy, secret\n",
      "\n",
      "Topic  3\n",
      "baby, sister, dinner, daughter, brother, sweet, sad, hug, kiss, angry, upset, daddy, bear, beautiful, favorite, fun, husband, funny, perfect, mommy\n",
      "\n",
      "Topic  4\n",
      "tree, mile, forest, animal, distance, direction, flashlight, sun, path, dirt, surround, yard, sky, wind, truck, rock, hill, mountain, branch, pack\n",
      "\n",
      "\n",
      " nmf tfidf num_topic:5 binary:True max_df:0.5 min_df:5\n",
      "\n",
      "Topic  0\n",
      "skin, mouth, finger, throat, chest, lip, arm, breath, blood, pain, tooth, shoulder, tear, neck, flesh, push, grip, bone, floor, ear\n",
      "\n",
      "Topic  1\n",
      "bedroom, sleep, bed, wake, window, kitchen, noise, bathroom, lock, asleep, floor, hallway, weird, stair, freak, upstairs, shut, downstairs, loud, awake\n",
      "\n",
      "Topic  2\n",
      "write, contact, type, camera, file, computer, picture, page, mention, explain, begin, conversation, suppose, answer, desk, exactly, interesting, apparently, figure, word\n",
      "\n",
      "Topic  3\n",
      "kid, mom, girl, dad, cry, baby, hurt, smile, boy, sister, anymore, nice, eat, miss, sad, dinner, daughter, brother, hug, fun\n",
      "\n",
      "Topic  4\n",
      "tree, wood, mile, forest, distance, direction, path, animal, foot, dirt, sky, sun, flashlight, surround, dark, fast, wind, truck, edge, spot\n",
      "\n",
      "\n",
      " nmf tfidf num_topic:5 binary:True max_df:0.5 min_df:15\n",
      "\n",
      "Topic  0\n",
      "skin, mouth, finger, throat, chest, lip, arm, breath, blood, pain, tooth, shoulder, tear, neck, flesh, push, grip, floor, ear, slowly\n",
      "\n",
      "Topic  1\n",
      "bedroom, sleep, bed, wake, window, kitchen, lock, noise, bathroom, asleep, weird, floor, hallway, freak, stair, upstairs, shut, downstairs, loud, awake\n",
      "\n",
      "Topic  2\n",
      "write, contact, type, file, camera, computer, begin, page, picture, mention, explain, conversation, suppose, answer, interesting, exactly, apparently, word, assume, desk\n",
      "\n",
      "Topic  3\n",
      "kid, mom, girl, dad, cry, baby, hurt, smile, boy, sister, nice, anymore, eat, miss, dinner, sad, daughter, brother, fun, hug\n",
      "\n",
      "Topic  4\n",
      "tree, wood, mile, forest, distance, direction, path, animal, foot, sun, dirt, sky, flashlight, surround, wind, dark, fast, edge, truck, spot\n",
      "\n",
      "\n",
      " nmf tfidf num_topic:10 binary:True max_df:0.2 min_df:5\n",
      "\n",
      "Topic  0\n",
      "glance, lean, sigh, shout, gasp, grip, slam, gaze, pause, slow, seat, softly, sob, echo, freeze, rush, snap, slide, expression, wave\n",
      "\n",
      "Topic  1\n",
      "computer, screen, click, text, camera, page, type, link, delete, laptop, internet, send, file, random, google, button, background, download, log, notification\n",
      "\n",
      "Topic  2\n",
      "soul, truth, truly, earth, perhaps, existence, exist, evil, accept, alive, presence, choose, desire, reality, draw, escape, horror, memory, suffer, destroy\n",
      "\n",
      "Topic  3\n",
      "baby, sister, daughter, dinner, daddy, sad, hug, mommy, brother, upset, kiss, bear, sweet, breakfast, toy, angry, birthday, favorite, crying, beautiful\n",
      "\n",
      "Topic  4\n",
      "tree, forest, mile, distance, sky, path, sun, animal, direction, camp, wind, dirt, mountain, rock, surround, branch, truck, clearing, hill, flashlight\n",
      "\n",
      "Topic  5\n",
      "freak, awake, scary, creepy, downstairs, terrified, hallway, nightmare, creep, chill, upstairs, dog, apartment, footstep, cat, ghost, woke, paranoid, couch, stair\n",
      "\n",
      "Topic  6\n",
      "box, basement, stair, paper, upstairs, shelf, closet, neighbor, paint, bottom, bag, store, wooden, flashlight, owner, flip, metal, porch, hallway, furniture\n",
      "\n",
      "Topic  7\n",
      "cop, drunk, bar, girlfriend, apartment, bitch, asshole, beer, fun, honestly, college, drug, seat, joke, stupid, definitely, shitty, text, honest, swear\n",
      "\n",
      "Topic  8\n",
      "tooth, flesh, bone, wet, bite, lip, tongue, cheek, dry, fat, hot, muscle, meat, curl, tiny, nose, taste, wrap, wash, bleed\n",
      "\n",
      "Topic  9\n",
      "doctor, patient, dr, nurse, remove, contact, subject, attempt, respond, inform, file, experiment, condition, location, facility, refer, apparently, mental, suspect, assume\n",
      "\n",
      "\n",
      " nmf tfidf num_topic:10 binary:True max_df:0.2 min_df:15\n",
      "\n",
      "Topic  0\n",
      "glance, lean, sigh, shout, gaze, gasp, pause, grip, slam, slow, seat, softly, echo, expression, slide, snap, rush, wave, chuckle, sob\n",
      "\n",
      "Topic  1\n",
      "click, computer, screen, text, camera, page, link, type, delete, laptop, internet, send, file, random, google, button, background, download, letter, notification\n",
      "\n",
      "Topic  2\n",
      "soul, truth, truly, existence, earth, exist, alive, perhaps, evil, accept, presence, choose, desire, reality, suffer, horror, escape, memory, draw, bear\n",
      "\n",
      "Topic  3\n",
      "baby, sister, dinner, daughter, daddy, sad, hug, mommy, brother, kiss, upset, sweet, bear, breakfast, favorite, toy, birthday, angry, crying, beautiful\n",
      "\n",
      "Topic  4\n",
      "tree, forest, mile, distance, sky, sun, path, animal, direction, wind, dirt, camp, mountain, rock, surround, branch, hill, clearing, truck, flashlight\n",
      "\n",
      "Topic  5\n",
      "freak, awake, creepy, downstairs, scary, terrified, hallway, upstairs, creep, nightmare, dog, stair, chill, footstep, cat, apartment, ghost, couch, woke, freeze\n",
      "\n",
      "Topic  6\n",
      "box, basement, stair, paper, shelf, paint, closet, upstairs, store, neighbor, bag, bottom, owner, wooden, metal, flip, clothe, porch, hallway, flashlight\n",
      "\n",
      "Topic  7\n",
      "cop, drunk, girlfriend, apartment, bar, bitch, asshole, beer, honestly, fun, college, drug, joke, stupid, definitely, seat, shitty, text, honest, thinking\n",
      "\n",
      "Topic  8\n",
      "tooth, flesh, bone, wet, bite, lip, tongue, dry, cheek, fat, hot, muscle, curl, nose, tiny, meat, bleed, wash, wrap, taste\n",
      "\n",
      "Topic  9\n",
      "doctor, patient, dr, nurse, remove, contact, subject, attempt, inform, respond, experiment, file, location, condition, facility, refer, assume, apparently, mental, effect\n",
      "\n",
      "\n",
      " nmf tfidf num_topic:10 binary:True max_df:0.5 min_df:5\n",
      "\n",
      "Topic  0\n",
      "voice, nod, shoulder, whisper, sigh, lean, glance, shout, shake, breath, seat, silence, pause, gasp, smile, ear, gaze, slowly, grip, approach\n",
      "\n",
      "Topic  1\n",
      "fuck, weird, fucking, freak, crazy, hell, friend, text, girlfriend, honestly, definitely, ill, seriously, scared, cop, creepy, joke, scar, drunk, tonight\n",
      "\n",
      "Topic  2\n",
      "computer, screen, click, camera, page, picture, link, text, delete, type, laptop, internet, file, write, button, send, google, random, letter, background\n",
      "\n",
      "Topic  3\n",
      "mom, dad, kid, cry, baby, sister, girl, sad, boy, daddy, smile, dinner, daughter, brother, hug, nice, hurt, mommy, anymore, bear\n",
      "\n",
      "Topic  4\n",
      "tree, wood, forest, mile, distance, path, sky, animal, sun, direction, wind, flashlight, edge, foot, dirt, surround, branch, rock, mountain, dark\n",
      "\n",
      "Topic  5\n",
      "clean, paper, kitchen, store, box, bag, table, basement, wear, smell, lock, floor, stair, paint, counter, piece, owner, throw, shelf, corner\n",
      "\n",
      "Topic  6\n",
      "bedroom, sleep, bed, wake, asleep, noise, bathroom, kitchen, window, awake, lock, downstairs, hallway, floor, stair, upstairs, shut, dark, loud, fear\n",
      "\n",
      "Topic  7\n",
      "die, soul, kill, alive, god, fear, escape, truth, evil, existence, destroy, monster, pain, blood, horror, imagine, earth, deserve, truly, suffer\n",
      "\n",
      "Topic  8\n",
      "skin, tooth, flesh, mouth, finger, lip, smell, blood, bone, leg, wet, throat, hair, cheek, neck, chest, tongue, stomach, bite, hot\n",
      "\n",
      "Topic  9\n",
      "doctor, patient, dr, explain, subject, attempt, contact, nurse, inform, arrive, begin, remove, refer, concern, respond, conversation, assume, mention, condition, apparently\n",
      "\n",
      "\n",
      " nmf tfidf num_topic:10 binary:True max_df:0.5 min_df:15\n"
     ]
    },
    {
     "name": "stdout",
     "output_type": "stream",
     "text": [
      "\n",
      "Topic  0\n",
      "breath, whisper, voice, darkness, ear, silence, gasp, shoulder, glance, grip, lean, gaze, chest, shake, echo, shadow, fear, slowly, slow, sigh\n",
      "\n",
      "Topic  1\n",
      "sleep, wake, bed, asleep, awake, bedroom, weird, bathroom, dream, freak, noise, scared, completely, scar, normal, dark, usually, figure, woke, nightmare\n",
      "\n",
      "Topic  2\n",
      "patient, perhaps, begin, attempt, doctor, discover, subject, learn, effect, exist, explain, victim, truly, suffer, choose, destroy, remove, truth, condition, none\n",
      "\n",
      "Topic  3\n",
      "mom, dad, cry, kid, sister, baby, girl, boy, brother, daughter, sad, anymore, daddy, hurt, bear, upset, hug, mommy, nice, smile\n",
      "\n",
      "Topic  4\n",
      "tree, wood, forest, mile, distance, path, animal, sun, sky, direction, wind, dirt, mountain, flashlight, surround, camp, foot, edge, rock, clearing\n",
      "\n",
      "Topic  5\n",
      "drink, seat, table, smile, laugh, nod, bar, finish, reply, store, nice, lunch, parking, shrug, apartment, wear, restaurant, conversation, pocket, dinner\n",
      "\n",
      "Topic  6\n",
      "stair, kitchen, lock, upstairs, bedroom, basement, window, floor, closet, downstairs, neighbor, hallway, box, knock, hall, porch, shut, grab, creak, driveway\n",
      "\n",
      "Topic  7\n",
      "fuck, kill, fucking, gun, hell, die, god, cop, blood, knife, bitch, murder, yell, shoot, hurt, throw, alive, grab, crazy, knock\n",
      "\n",
      "Topic  8\n",
      "skin, tooth, flesh, blood, smell, mouth, bone, finger, leg, hair, bite, lip, tongue, stomach, fat, wet, cover, dry, meat, wash\n",
      "\n",
      "Topic  9\n",
      "computer, text, click, screen, picture, camera, type, page, link, delete, internet, write, send, file, friend, freak, laptop, google, random, contact\n",
      "\n",
      "\n",
      " nmf tfidf num_topic:15 binary:True max_df:0.2 min_df:5\n",
      "\n",
      "Topic  0\n",
      "sigh, lean, glance, pause, shrug, nodded, frown, grin, chuckle, expression, gaze, softly, lip, gasp, tone, gesture, seat, shout, interrupt, wave\n",
      "\n",
      "Topic  1\n",
      "freak, text, apartment, seriously, girlfriend, creepy, tonight, honestly, yesterday, joke, definitely, conversation, boyfriend, advice, freaking, tomorrow, totally, funny, obviously, mention\n",
      "\n",
      "Topic  2\n",
      "soul, truly, earth, perhaps, existence, exist, presence, choose, accept, truth, desire, evil, escape, creature, reality, horror, destroy, fate, spirit, ritual\n",
      "\n",
      "Topic  3\n",
      "baby, daughter, sister, daddy, mommy, brother, bear, sad, hug, upset, aunt, crying, husband, doctor, pregnant, toy, kiss, sweet, grandmother, memory\n",
      "\n",
      "Topic  4\n",
      "tree, forest, mile, path, distance, sky, camp, sun, branch, direction, rock, hike, mountain, wind, clearing, surround, flashlight, hill, animal, dirt\n",
      "\n",
      "Topic  5\n",
      "stair, hallway, footstep, downstairs, upstairs, awake, creak, freeze, hall, louder, slam, switch, shadow, doorway, closer, unlock, bang, closet, breathing, creep\n",
      "\n",
      "Topic  6\n",
      "box, paper, paint, shelf, basement, store, metal, letter, bag, yellow, bottom, item, clothe, desk, owner, stain, stair, closet, wooden, flip\n",
      "\n",
      "Topic  7\n",
      "gun, murder, knife, cop, bullet, shoot, bitch, trigger, alive, aim, pistol, weapon, stab, rip, kick, wound, gunshot, tie, escape, bastard\n",
      "\n",
      "Topic  8\n",
      "tooth, flesh, bone, wet, lip, muscle, cheek, nose, curl, skull, stretch, crawl, hot, thick, dry, thin, wrap, breathe, soak, lift\n",
      "\n",
      "Topic  9\n",
      "doctor, patient, dr, nurse, remove, medication, subject, file, contact, facility, condition, experiment, attempt, respond, mental, treatment, severe, inform, operation, refer\n",
      "\n",
      "Topic  10\n",
      "computer, screen, click, camera, laptop, page, link, delete, text, file, type, internet, button, send, download, background, title, notification, pop, youtube\n",
      "\n",
      "Topic  11\n",
      "dinner, cook, meal, meat, hungry, plate, taste, breakfast, cooking, bowl, dish, delicious, egg, fridge, sweet, enjoy, bag, favorite, bite, restaurant\n",
      "\n",
      "Topic  12\n",
      "dog, neighbor, yard, cat, animal, bark, pet, backyard, neighborhood, porch, fur, scratch, growl, couch, fence, owner, property, paw, driveway, garage\n",
      "\n",
      "Topic  13\n",
      "teacher, college, grade, student, classroom, lunch, teach, bully, principal, fun, learn, homework, graduate, campus, desk, classmate, paper, freshman, elementary, professor\n",
      "\n",
      "Topic  14\n",
      "driver, seat, truck, parking, ride, passenger, vehicle, highway, mile, radio, speed, engine, driving, station, brake, tire, wheel, route, headlight, backseat\n",
      "\n",
      "\n",
      " nmf tfidf num_topic:15 binary:True max_df:0.2 min_df:15\n",
      "\n",
      "Topic  0\n",
      "sigh, lean, glance, pause, shrug, nodded, frown, expression, chuckle, grin, gaze, tone, softly, lip, seat, gasp, shout, gesture, interrupt, pocket\n",
      "\n",
      "Topic  1\n",
      "freak, creepy, seriously, yesterday, honestly, text, definitely, tomorrow, tonight, mention, conversation, advice, obviously, joke, freaking, type, scare, prank, totally, basically\n",
      "\n",
      "Topic  2\n",
      "perhaps, soul, earth, truly, choose, exist, existence, truth, accept, presence, destroy, desire, escape, discover, learn, creature, humanity, ability, evil, reality\n",
      "\n",
      "Topic  3\n",
      "baby, daughter, sister, daddy, bear, brother, mommy, sad, hug, upset, aunt, crying, husband, pregnant, toy, birthday, memory, sweet, grandmother, kiss\n",
      "\n",
      "Topic  4\n",
      "tree, forest, mile, path, distance, sky, sun, camp, branch, rock, direction, wind, hike, mountain, clearing, hill, flashlight, surround, dirt, bush\n",
      "\n",
      "Topic  5\n",
      "stair, hallway, downstairs, footstep, upstairs, awake, creak, hall, freeze, slam, switch, closet, louder, bang, shadow, doorway, unlock, closer, ceiling, breathing\n",
      "\n",
      "Topic  6\n",
      "paper, box, paint, shelf, store, letter, basement, bag, metal, desk, yellow, bottom, clothe, item, newspaper, owner, flip, stain, page, wooden\n",
      "\n",
      "Topic  7\n",
      "gun, knife, murder, bullet, shoot, cop, trigger, aim, pistol, weapon, bitch, alive, rip, wound, gunshot, kick, stab, send, shout, escape\n",
      "\n",
      "Topic  8\n",
      "flesh, tooth, bone, wet, lip, nose, cheek, curl, muscle, stretch, skull, thin, thick, breathe, dry, lung, sharp, wrap, crawl, lift\n",
      "\n",
      "Topic  9\n",
      "doctor, patient, nurse, dr, medication, treatment, file, severe, diagnose, mental, symptom, condition, remove, surgery, session, respond, procedure, drug, subject, transfer\n",
      "\n",
      "Topic  10\n",
      "click, computer, screen, camera, laptop, link, page, text, delete, file, type, button, internet, send, background, download, pop, copy, desk, title\n",
      "\n",
      "Topic  11\n",
      "dinner, cook, meat, meal, hungry, plate, breakfast, taste, bowl, cooking, dish, bite, delicious, egg, fridge, bag, chicken, bread, knife, enjoy\n",
      "\n",
      "Topic  12\n",
      "dog, neighbor, cat, yard, animal, bark, pet, neighborhood, backyard, porch, fur, scratch, couch, growl, fence, paw, owner, property, driveway, garage\n",
      "\n",
      "Topic  13\n",
      "driver, seat, parking, truck, vehicle, passenger, ride, highway, mile, radio, station, speed, engine, driving, wheel, route, brake, exit, tire, headlight\n",
      "\n",
      "Topic  14\n",
      "college, drunk, apartment, girlfriend, drug, bar, fun, beer, grade, perfect, alcohol, drinking, spend, bitch, asshole, sex, boyfriend, beautiful, roommate, cool\n",
      "\n",
      "\n",
      " nmf tfidf num_topic:15 binary:True max_df:0.5 min_df:5\n",
      "\n",
      "Topic  0\n",
      "nod, sigh, lean, pause, whisper, nodded, smile, voice, glance, shoulder, shrug, shake, expression, reply, speak, sorry, chuckle, tone, frown, answer\n",
      "\n",
      "Topic  1\n",
      "freak, weird, text, friend, fuck, fucking, seriously, creepy, girlfriend, ill, crazy, apartment, definitely, honestly, conversation, joke, totally, scared, hell, yesterday\n",
      "\n",
      "Topic  2\n",
      "soul, truly, perhaps, truth, fear, accept, exist, choose, earth, desire, existence, presence, learn, imagine, reality, bear, suffer, die, god, grow\n",
      "\n",
      "Topic  3\n",
      "mom, dad, cry, kid, sister, baby, brother, daddy, girl, sad, boy, anymore, daughter, hurt, mommy, bear, upset, grow, aunt, hug\n",
      "\n",
      "Topic  4\n",
      "tree, forest, wood, mile, path, distance, camp, sky, branch, sun, flashlight, direction, rock, clearing, edge, hike, mountain, wind, foot, surround\n",
      "\n",
      "Topic  5\n",
      "driver, seat, parking, truck, ride, passenger, vehicle, mile, highway, radio, speed, window, engine, station, tire, brake, driving, exit, headlight, route\n",
      "\n",
      "Topic  6\n",
      "stair, upstairs, kitchen, hallway, floor, lock, downstairs, basement, bedroom, window, footstep, hall, creak, closet, noise, shut, grab, unlock, knock, slam\n",
      "\n",
      "Topic  7\n",
      "kill, gun, fuck, knife, fucking, blood, die, hell, murder, god, bitch, shoot, alive, cop, bullet, rip, throw, hurt, grab, yell\n",
      "\n",
      "Topic  8\n",
      "skin, flesh, bone, chest, finger, pain, throat, lung, wet, tooth, crack, cheek, lip, thick, stretch, breath, nose, leg, grip, weight\n",
      "\n",
      "Topic  9\n",
      "doctor, patient, dr, nurse, remove, facility, file, medication, contact, treatment, subject, experiment, condition, operation, attempt, severe, respond, procedure, inform, mental\n",
      "\n",
      "Topic  10\n",
      "computer, screen, camera, click, page, link, picture, laptop, delete, file, type, text, internet, write, letter, send, button, title, desk, copy\n",
      "\n",
      "Topic  11\n",
      "wake, sleep, asleep, bed, awake, dream, bedroom, nightmare, bathroom, tired, noise, lie, dark, fear, woke, slowly, terrified, completely, scared, figure\n",
      "\n",
      "Topic  12\n",
      "dog, neighbor, yard, neighborhood, cat, animal, porch, backyard, bark, pet, property, scratch, driveway, window, owner, fur, fence, garage, lock, couch\n",
      "\n",
      "Topic  13\n",
      "eat, dinner, cook, kitchen, meat, meal, hungry, plate, breakfast, table, taste, smell, clean, bowl, dish, fridge, cooking, egg, bite, feed\n",
      "\n",
      "Topic  14\n",
      "wear, dress, hair, girl, blue, shirt, clothe, pink, skin, yellow, paint, green, grin, suit, stain, brown, smile, paper, color, shoe\n",
      "\n",
      "\n",
      " nmf tfidf num_topic:15 binary:True max_df:0.5 min_df:15\n"
     ]
    },
    {
     "name": "stdout",
     "output_type": "stream",
     "text": [
      "\n",
      "Topic  0\n",
      "nod, sigh, lean, glance, seat, smile, pause, shoulder, whisper, nodded, voice, shrug, shake, chuckle, gaze, reply, tone, expression, frown, answer\n",
      "\n",
      "Topic  1\n",
      "freak, weird, creepy, ill, friend, scared, seriously, crazy, definitely, answer, honestly, yesterday, scar, explain, fuck, hell, mention, tomorrow, figure, freaking\n",
      "\n",
      "Topic  2\n",
      "soul, fear, truth, truly, exist, perhaps, earth, accept, existence, die, desire, presence, god, choose, evil, reality, imagine, grow, horror, suffer\n",
      "\n",
      "Topic  3\n",
      "mom, dad, cry, kid, sister, baby, brother, girl, boy, daddy, sad, daughter, hurt, anymore, mommy, bear, upset, grow, hug, smile\n",
      "\n",
      "Topic  4\n",
      "wake, asleep, sleep, bed, dream, awake, bedroom, nightmare, lie, tired, woke, bathroom, dark, slowly, fear, completely, lay, tonight, terrified, notice\n",
      "\n",
      "Topic  5\n",
      "tree, forest, wood, mile, distance, sky, path, direction, sun, camp, rock, mountain, wind, branch, foot, surround, edge, darkness, clearing, dirt\n",
      "\n",
      "Topic  6\n",
      "stair, kitchen, upstairs, lock, hallway, downstairs, floor, bedroom, footstep, window, noise, bathroom, creak, basement, hall, shut, slam, knock, bang, unlock\n",
      "\n",
      "Topic  7\n",
      "gun, kill, fuck, knife, blood, fucking, die, hell, murder, god, shoot, bullet, alive, cop, rip, throw, yell, grab, bitch, trigger\n",
      "\n",
      "Topic  8\n",
      "skin, tooth, flesh, finger, chest, lip, bone, wet, throat, mouth, cheek, leg, nose, pain, crack, neck, blood, thick, thin, soft\n",
      "\n",
      "Topic  9\n",
      "doctor, patient, dr, nurse, remove, contact, attempt, subject, inform, facility, experiment, condition, file, operation, arrive, effect, request, location, refer, locate\n",
      "\n",
      "Topic  10\n",
      "click, computer, screen, camera, text, page, link, laptop, delete, picture, file, type, internet, button, send, download, pop, background, notification, scroll\n",
      "\n",
      "Topic  11\n",
      "wear, paper, box, paint, shelf, yellow, store, clothe, letter, desk, bag, piece, picture, stain, blue, item, write, shirt, dress, newspaper\n",
      "\n",
      "Topic  12\n",
      "drink, drunk, bar, apartment, girlfriend, beer, college, drug, fuck, fucking, alcohol, girl, fun, drinking, bathroom, bottle, sex, bitch, perfect, asshole\n",
      "\n",
      "Topic  13\n",
      "eat, dinner, kitchen, cook, meat, meal, hungry, plate, breakfast, table, taste, smell, bowl, clean, dish, cooking, fridge, bite, egg, feed\n",
      "\n",
      "Topic  14\n",
      "dog, neighbor, yard, cat, animal, neighborhood, bark, backyard, pet, porch, fur, scratch, property, couch, fence, driveway, window, growl, lock, garage\n",
      "\n",
      "\n",
      " nmf tfidf num_topic:20 binary:True max_df:0.2 min_df:5\n",
      "\n",
      "Topic  0\n",
      "sigh, lean, glance, pause, shrug, nodded, frown, expression, chuckle, gaze, grin, gasp, softly, shout, lip, tone, gesture, interrupt, wave, pocket\n",
      "\n",
      "Topic  1\n",
      "freak, text, seriously, yesterday, tomorrow, tonight, conversation, apartment, honestly, advice, type, freaking, contact, creepy, definitely, mention, totally, boyfriend, obviously, joke\n",
      "\n",
      "Topic  2\n",
      "soul, earth, existence, exist, perhaps, destroy, choose, evil, creature, escape, truly, humanity, spirit, powerful, presence, demon, desire, ritual, accept, entity\n",
      "\n",
      "Topic  3\n",
      "beautiful, baby, pregnant, marry, bear, perfect, husband, daughter, spend, doctor, fault, birth, married, marriage, truth, blame, sadness, accept, hug, angry\n",
      "\n",
      "Topic  4\n",
      "tree, forest, path, mile, camp, branch, distance, hike, clearing, dirt, flashlight, animal, sun, rock, direction, mountain, sky, bush, deer, wind\n",
      "\n",
      "Topic  5\n",
      "awake, nightmare, terrified, chill, imagination, scary, closer, faint, spine, usual, breathe, feeling, breathing, reflection, mirror, absolutely, uneasy, terrifying, movement, ghost\n",
      "\n",
      "Topic  6\n",
      "stair, upstairs, downstairs, hallway, footstep, basement, creak, hall, slam, unlock, bang, closet, ceiling, climb, bottom, knob, doorway, unlocked, attic, pound\n",
      "\n",
      "Topic  7\n",
      "gun, murder, knife, cop, bullet, trigger, shoot, alive, pistol, aim, weapon, gunshot, stab, wound, rip, scene, victim, escape, kidnap, bitch\n",
      "\n",
      "Topic  8\n",
      "flesh, bone, tooth, wet, cheek, lip, skull, curl, nose, muscle, crawl, stretch, thick, thin, knee, dry, weight, soak, soft, wrap\n",
      "\n",
      "Topic  9\n",
      "patient, doctor, dr, nurse, medication, file, remove, subject, treatment, experiment, facility, condition, severe, mental, respond, symptom, contact, attempt, effect, procedure\n",
      "\n",
      "Topic  10\n",
      "computer, screen, click, camera, laptop, link, page, delete, file, internet, button, type, download, text, background, pop, title, youtube, scroll, notification\n",
      "\n",
      "Topic  11\n",
      "dog, cat, neighbor, bark, yard, animal, pet, backyard, fur, scratch, neighborhood, growl, paw, porch, owner, couch, fence, tail, property, vet\n",
      "\n",
      "Topic  12\n",
      "daddy, mommy, baby, kiss, toy, crying, funny, favorite, sad, fun, giggle, daughter, hug, mad, silly, yesterday, upset, christma, sweet, breakfast\n",
      "\n",
      "Topic  13\n",
      "paper, box, paint, shelf, store, letter, yellow, item, desk, clothe, metal, bag, owner, stain, flip, page, newspaper, sell, print, stack\n",
      "\n",
      "Topic  14\n",
      "driver, seat, truck, vehicle, parking, passenger, highway, ride, mile, radio, speed, engine, driving, brake, tire, route, station, wheel, headlight, backseat\n",
      "\n",
      "Topic  15\n",
      "ocean, sea, boat, shore, swim, surface, beach, fish, float, swimming, island, coast, sand, swam, splash, sky, ship, deck, fishing, cloud\n",
      "\n",
      "Topic  16\n",
      "drunk, bar, beer, drug, drinking, alcohol, fun, bottle, asshole, apartment, girlfriend, bitch, smoke, dick, piss, shitty, hot, college, stupid, cool\n",
      "\n",
      "Topic  17\n",
      "teacher, classroom, student, lunch, grade, teach, principal, desk, college, bully, classmate, paper, homework, locker, elementary, learn, math, professor, campus, seat\n",
      "\n",
      "Topic  18\n",
      "sister, brother, grandma, grandmother, grandparent, aunt, uncle, cousin, grandfather, neighbor, memory, grandpa, bear, shed, mum, confuse, lady, childhood, teenager, older_sister\n",
      "\n",
      "Topic  19\n",
      "dinner, cook, meat, meal, hungry, plate, cooking, taste, dish, breakfast, bowl, delicious, fridge, bread, egg, chicken, restaurant, bag, bite, prepare\n",
      "\n",
      "\n",
      " nmf tfidf num_topic:20 binary:True max_df:0.2 min_df:15\n",
      "\n",
      "Topic  0\n",
      "glow, shadow, gasp, grip, terror, gaze, echo, shriek, heavy, lung, dim, knee, burst, vision, sky, illuminate, distant, flash, warm, twisted\n",
      "\n",
      "Topic  1\n",
      "text, freak, apartment, girlfriend, boyfriend, tonight, yesterday, seriously, conversation, totally, contact, drunk, college, honestly, tomorrow, cop, type, funny, roommate, definitely\n",
      "\n",
      "Topic  2\n",
      "location, contact, attempt, locate, investigate, station, remove, discover, subject, occur, assume, appear, transcript, inform, identify, equipment, source, contain, operation, unknown\n",
      "\n",
      "Topic  3\n",
      "baby, daddy, mommy, daughter, kiss, hug, sweet, crying, honey, toy, favorite, giggle, beautiful, sad, sweetie, upset, sing, perfect, tight, doll\n",
      "\n",
      "Topic  4\n",
      "tree, forest, path, mile, camp, hike, branch, clearing, dirt, distance, animal, sun, flashlight, rock, mountain, bush, deer, direction, trail, wind\n",
      "\n",
      "Topic  5\n",
      "scary, terrified, creepy, ghost, nightmare, chill, imagination, extremely, absolutely, paranormal, mirror, usual, terrifying, pitch, feeling, reflection, awake, breathe, literally, scare\n",
      "\n",
      "Topic  6\n",
      "stair, upstairs, downstairs, hallway, footstep, hall, creak, basement, closet, slam, unlock, bang, climb, bottom, doorway, ceiling, knob, awake, closed, unlocked\n",
      "\n",
      "Topic  7\n",
      "gun, murder, knife, cop, shoot, bullet, trigger, bitch, aim, pistol, stab, weapon, alive, kick, rip, gunshot, wound, punch, bastard, tie\n",
      "\n",
      "Topic  8\n",
      "tooth, flesh, bone, tongue, fat, wet, vomit, nail, stain, lip, bite, thigh, cheek, dry, naked, sweat, muscle, disgusting, sink, soak\n",
      "\n",
      "Topic  9\n",
      "doctor, patient, nurse, dr, medication, diagnose, treatment, severe, session, therapist, drug, medicine, brain, appointment, therapy, surgery, mental, symptom, psychiatrist, delusion\n",
      "\n",
      "Topic  10\n",
      "click, computer, screen, camera, laptop, link, page, delete, internet, file, type, button, text, download, pop, background, notification, title, scroll, send\n",
      "\n",
      "Topic  11\n",
      "dog, cat, neighbor, yard, bark, pet, animal, backyard, neighborhood, fur, scratch, growl, porch, couch, paw, owner, fence, garage, tail, property\n",
      "\n",
      "Topic  12\n",
      "teacher, classroom, student, grade, lunch, teach, college, principal, desk, bully, homework, classmate, elementary, learn, paper, fun, locker, campus, math, professor\n",
      "\n",
      "Topic  13\n",
      "paper, box, store, paint, shelf, letter, yellow, sell, item, bag, desk, clothe, owner, metal, newspaper, print, page, stain, flip, shop\n",
      "\n",
      "Topic  14\n",
      "driver, seat, truck, parking, ride, passenger, highway, vehicle, mile, driving, speed, engine, radio, brake, tire, wheel, headlight, backseat, rear, passenger_seat\n",
      "\n",
      "Topic  15\n",
      "sigh, lean, shrug, nodded, chuckle, pause, frown, glance, expression, grin, lip, gaze, pocket, interrupt, softly, tone, seat, gesture, confused, rub\n",
      "\n",
      "Topic  16\n",
      "ocean, sea, boat, shore, swim, beach, surface, swimming, fish, sand, float, island, coast, swam, splash, sky, ship, drown, sun, fishing\n",
      "\n",
      "Topic  17\n",
      "soul, accept, truly, truth, choose, desire, existence, forever, deserve, beautiful, learn, perhaps, earth, suffer, perfect, fate, exist, choice, evil, peace\n",
      "\n",
      "Topic  18\n",
      "sister, brother, grandmother, aunt, grandma, grandparent, uncle, cousin, memory, bear, shed, childhood, grandfather, neighbor, funeral, sad, husband, mum, grandpa, upset\n",
      "\n",
      "Topic  19\n",
      "dinner, cook, meal, hungry, plate, meat, cooking, breakfast, bowl, dish, taste, delicious, egg, enjoy, chicken, bread, restaurant, fridge, prepare, lunch\n",
      "\n",
      "\n",
      " nmf tfidf num_topic:20 binary:True max_df:0.5 min_df:5\n"
     ]
    },
    {
     "name": "stdout",
     "output_type": "stream",
     "text": [
      "\n",
      "Topic  0\n",
      "nod, sigh, lean, nodded, whisper, pause, smile, voice, shoulder, glance, shrug, shake, chuckle, sorry, laugh, frown, expression, answer, shout, speak\n",
      "\n",
      "Topic  1\n",
      "freak, weird, fuck, text, fucking, tonight, friend, seriously, ill, crazy, creepy, apartment, freaking, hell, girlfriend, scared, boyfriend, totally, tomorrow, definitely\n",
      "\n",
      "Topic  2\n",
      "location, station, locate, attempt, contact, radio, arrive, investigate, enter, transcript, identify, occur, weapon, equipment, base, begin, soldier, subject, discover, remove\n",
      "\n",
      "Topic  3\n",
      "baby, daughter, daddy, kiss, cry, girl, mommy, beautiful, hug, sweet, hair, boy, pregnant, smile, hurt, perfect, husband, giggle, bed, dress\n",
      "\n",
      "Topic  4\n",
      "tree, forest, wood, path, mile, branch, distance, clearing, camp, flashlight, hike, animal, dirt, direction, rock, sun, deer, edge, mountain, leaf\n",
      "\n",
      "Topic  5\n",
      "driver, seat, parking, truck, ride, passenger, highway, vehicle, mile, speed, tire, driving, brake, window, engine, headlight, wheel, rear, radio, backseat\n",
      "\n",
      "Topic  6\n",
      "stair, kitchen, upstairs, lock, hallway, bedroom, floor, downstairs, window, footstep, basement, hall, creak, unlock, slam, bathroom, grab, shut, closet, knock\n",
      "\n",
      "Topic  7\n",
      "kill, gun, knife, blood, fuck, murder, die, fucking, hell, alive, cop, rip, throw, bitch, hurt, shoot, bullet, arm, god, kick\n",
      "\n",
      "Topic  8\n",
      "skin, flesh, bone, throat, chest, finger, tooth, stretch, wet, crack, grip, thick, lip, limb, cheek, sharp, skull, knee, muscle, crawl\n",
      "\n",
      "Topic  9\n",
      "doctor, patient, nurse, dr, medication, pain, surgery, diagnose, treatment, medicine, severe, drug, symptom, brain, therapy, condition, procedure, appointment, pill, normal\n",
      "\n",
      "Topic  10\n",
      "computer, screen, click, camera, page, link, delete, laptop, file, picture, internet, text, type, download, button, write, google, notification, title, send\n",
      "\n",
      "Topic  11\n",
      "eat, dinner, cook, kitchen, meat, meal, hungry, plate, breakfast, taste, table, smell, clean, dish, cooking, bowl, egg, fridge, bite, delicious\n",
      "\n",
      "Topic  12\n",
      "wear, paint, paper, box, clothe, yellow, shelf, store, shirt, stain, dress, clean, bag, blue, hair, pink, sell, suit, smell, letter\n",
      "\n",
      "Topic  13\n",
      "dog, cat, neighbor, yard, bark, pet, animal, backyard, neighborhood, fur, scratch, growl, porch, paw, couch, owner, window, fence, garage, tail\n",
      "\n",
      "Topic  14\n",
      "wake, asleep, sleep, bed, awake, dream, nightmare, bedroom, dark, noise, bathroom, fear, tired, completely, woke, lie, scared, terrified, slowly, scary\n",
      "\n",
      "Topic  15\n",
      "mom, dad, brother, sister, kid, aunt, grandma, anymore, sad, grandparent, friend, neighbor, uncle, cry, grandmother, ill, memory, forget, grandpa, childhood\n",
      "\n",
      "Topic  16\n",
      "conversation, consider, apparently, exactly, mention, clearly, explain, doubt, somehow, agree, strange, obviously, honestly, completely, absolutely, assume, concern, eventually, surprise, bother\n",
      "\n",
      "Topic  17\n",
      "soul, god, die, earth, existence, evil, spirit, choose, fear, exist, truth, truly, ritual, destroy, forever, demon, bear, peace, perhaps, accept\n",
      "\n",
      "Topic  18\n",
      "ocean, sea, boat, shore, swim, surface, beach, swimming, fish, float, sand, island, swam, splash, sky, coast, cold, ship, drown, sun\n",
      "\n",
      "Topic  19\n",
      "teacher, classroom, student, grade, college, lunch, teach, principal, kid, girl, desk, bully, classmate, homework, campus, paper, learn, elementary, fun, professor\n",
      "\n",
      "\n",
      " nmf tfidf num_topic:20 binary:True max_df:0.5 min_df:15\n",
      "\n",
      "Topic  0\n",
      "nod, sigh, lean, pause, whisper, nodded, smile, voice, shoulder, glance, shrug, shake, chuckle, sorry, frown, laugh, expression, answer, speak, shout\n",
      "\n",
      "Topic  1\n",
      "freak, weird, fuck, fucking, text, apartment, tonight, girlfriend, seriously, friend, ill, hell, creepy, freaking, boyfriend, crazy, drunk, totally, tomorrow, scared\n",
      "\n",
      "Topic  2\n",
      "location, station, locate, contact, attempt, arrive, investigate, radio, transcript, enter, identify, discover, subject, remove, base, unknown, equipment, begin, occur, weapon\n",
      "\n",
      "Topic  3\n",
      "baby, daughter, daddy, girl, kiss, cry, beautiful, mommy, sweet, hair, hug, pregnant, smile, husband, perfect, dress, boy, bear, blue, hurt\n",
      "\n",
      "Topic  4\n",
      "tree, forest, wood, path, mile, branch, distance, camp, clearing, flashlight, hike, dirt, animal, rock, sun, direction, deer, leaf, wind, bush\n",
      "\n",
      "Topic  5\n",
      "driver, seat, parking, truck, ride, highway, passenger, vehicle, mile, speed, window, tire, brake, engine, driving, rear, wheel, headlight, radio, backseat\n",
      "\n",
      "Topic  6\n",
      "stair, kitchen, upstairs, hallway, lock, floor, bedroom, downstairs, footstep, window, hall, creak, bathroom, basement, noise, unlock, shut, slam, grab, bang\n",
      "\n",
      "Topic  7\n",
      "kill, gun, knife, blood, fuck, die, murder, fucking, hell, alive, rip, throw, cop, hurt, shoot, bitch, bullet, god, kick, pain\n",
      "\n",
      "Topic  8\n",
      "skin, flesh, bone, tooth, throat, wet, finger, chest, stretch, crack, thick, lip, sharp, limb, thin, cheek, grip, skull, muscle, nose\n",
      "\n",
      "Topic  9\n",
      "doctor, patient, nurse, dr, medication, pain, diagnose, surgery, treatment, drug, medicine, severe, symptom, therapy, brain, condition, appointment, session, pill, therapist\n",
      "\n",
      "Topic  10\n",
      "click, computer, screen, camera, page, link, delete, laptop, picture, text, file, internet, type, button, download, write, notification, send, pop, letter\n",
      "\n",
      "Topic  11\n",
      "eat, dinner, cook, kitchen, meat, meal, hungry, plate, breakfast, taste, table, clean, smell, dish, cooking, bowl, fridge, egg, bite, delicious\n",
      "\n",
      "Topic  12\n",
      "wear, paper, paint, box, shelf, clothe, store, yellow, stain, shirt, bag, clean, dress, sell, letter, blue, piece, item, desk, pink\n",
      "\n",
      "Topic  13\n",
      "dog, neighbor, cat, yard, bark, pet, animal, neighborhood, backyard, scratch, fur, porch, growl, couch, window, fence, paw, owner, lock, garage\n",
      "\n",
      "Topic  14\n",
      "wake, asleep, sleep, bed, awake, dream, nightmare, bedroom, tired, dark, woke, noise, lie, bathroom, scared, fear, slowly, terrified, completely, whisper\n",
      "\n",
      "Topic  15\n",
      "mom, dad, brother, sister, kid, anymore, grandma, aunt, sad, cry, friend, grandparent, uncle, ill, memory, neighbor, grandmother, scared, grandpa, scar\n",
      "\n",
      "Topic  16\n",
      "completely, exactly, mention, clearly, apparently, explain, somehow, consider, obviously, strange, sort, honestly, absolutely, conversation, extremely, doubt, assume, definitely, odd, figure\n",
      "\n",
      "Topic  17\n",
      "soul, god, earth, die, fear, existence, truth, evil, choose, exist, truly, spirit, suffer, accept, forever, desire, presence, perhaps, destroy, bear\n",
      "\n",
      "Topic  18\n",
      "ocean, sea, shore, boat, swim, surface, beach, float, fish, swimming, sand, sky, island, swam, splash, coast, cold, cloud, drown, sun\n",
      "\n",
      "Topic  19\n",
      "teacher, grade, student, classroom, college, lunch, teach, kid, girl, principal, bully, desk, learn, homework, classmate, graduate, campus, fun, elementary, paper\n",
      "\n",
      "\n",
      " nmf tfidf num_topic:25 binary:True max_df:0.2 min_df:5\n",
      "\n",
      "Topic  0\n",
      "sigh, lean, glance, shrug, pause, nodded, chuckle, frown, expression, gaze, grin, gasp, interrupt, gesture, pocket, softly, shout, tone, wave, confused\n",
      "\n",
      "Topic  1\n",
      "freak, text, yesterday, conversation, seriously, contact, tomorrow, tonight, apartment, advice, definitely, boyfriend, honestly, girlfriend, type, obviously, respond, mention, totally, freaking\n",
      "\n",
      "Topic  2\n",
      "location, attempt, locate, contact, subject, occur, investigate, appear, experiment, effect, contain, remove, discover, source, base, operation, inform, equipment, soldier, station\n",
      "\n",
      "Topic  3\n",
      "soul, accept, truth, truly, suffer, desire, forever, existence, peace, fate, reality, exist, choose, evil, choice, earth, deserve, perhaps, learn, anger\n",
      "\n",
      "Topic  4\n",
      "tree, forest, path, mile, branch, distance, camp, hike, clearing, dirt, sun, sky, rock, direction, animal, wind, deer, mountain, bush, leaf\n",
      "\n",
      "Topic  5\n",
      "stair, upstairs, downstairs, hallway, footstep, basement, creak, unlock, slam, bang, hall, closet, knob, unlocked, bottom, climb, ceiling, doorway, locked, pound\n",
      "\n",
      "Topic  6\n",
      "paint, box, shelf, store, metal, yellow, item, owner, sell, paper, bag, stain, desk, rent, shoe, wooden, tool, hole, clothe, pile\n",
      "\n",
      "Topic  7\n",
      "gun, murder, knife, bullet, trigger, shoot, cop, aim, pistol, alive, gunshot, wound, stab, weapon, rip, bitch, scene, tie, kidnap, escape\n",
      "\n",
      "Topic  8\n",
      "flesh, bone, tooth, wet, cheek, skull, stretch, lip, nose, thick, muscle, knee, sharp, thin, crawl, curl, limb, tongue, inch, slide\n",
      "\n",
      "Topic  9\n",
      "doctor, patient, nurse, dr, medication, diagnose, surgery, treatment, severe, drug, medicine, appointment, symptom, mental, session, therapy, psychiatrist, therapist, condition, brain\n",
      "\n",
      "Topic  10\n",
      "computer, screen, click, camera, laptop, delete, link, file, button, type, internet, download, text, pop, background, page, title, scroll, desk, notification\n",
      "\n",
      "Topic  11\n",
      "dog, cat, neighbor, bark, pet, yard, animal, backyard, fur, neighborhood, scratch, growl, porch, paw, couch, owner, fence, tail, vet, garage\n",
      "\n",
      "Topic  12\n",
      "scary, ghost, creepy, scare, fun, haunt, paranormal, literally, terrified, demon, basically, monster, bunch, pitch, terrifying, stupid, spirit, ride, horror_movie, evil\n",
      "\n",
      "Topic  13\n",
      "dinner, cook, meat, meal, hungry, plate, cooking, taste, bowl, breakfast, dish, egg, bite, fridge, delicious, bread, chicken, bag, prepare, restaurant\n",
      "\n",
      "Topic  14\n",
      "driver, seat, truck, parking, passenger, vehicle, highway, ride, mile, speed, radio, driving, engine, brake, tire, wheel, headlight, backseat, route, rear\n",
      "\n",
      "Topic  15\n",
      "grandma, grandmother, grandparent, uncle, aunt, cousin, grandpa, grandfather, mum, memory, bear, shed, funeral, alive, agree, conversation, teenager, husband, someday, garden\n",
      "\n",
      "Topic  16\n",
      "ocean, sea, boat, shore, swim, beach, surface, fish, swimming, sand, float, island, coast, swam, splash, sky, ship, drown, fishing, deck\n",
      "\n",
      "Topic  17\n",
      "beautiful, perfect, kiss, dress, warm, sweet, amazing, sex, lip, baby, grin, cute, gorgeous, marry, mine, blonde_hair, surprise, brush, lovely, pregnant\n",
      "\n",
      "Topic  18\n",
      "teacher, classroom, student, grade, teach, lunch, principal, desk, college, bully, classmate, elementary, homework, learn, locker, math, bus, hallway, campus, parent\n",
      "\n",
      "Topic  19\n",
      "brother, sister, younger_brother, older_brother, neighbor, older_sister, christma, childhood, assume, spend, neighborhood, twin, divorce, steal, sibling, candy, aunt, refuse, goodbye, accident\n",
      "\n",
      "Topic  20\n",
      "page, letter, paper, entry, diary, journal, notebook, envelope, pen, scribble, handwriting, reading, flip, writing, draw, print, yesterday, library, detective, box\n",
      "\n",
      "Topic  21\n",
      "winner, podcast, contest, ebook, prize, episode, flair, receive, signify, gold, feature, moderator, congratulation, suitable, audio, contribute, adaptation, latte, henceforth, literature\n",
      "\n",
      "Topic  22\n",
      "awake, nightmare, usual, breathing, faint, closer, feeling, imagination, terrified, movement, clock, chill, spine, hallway, tired, breathe, lamp, shadow, reflection, mirror\n",
      "\n",
      "Topic  23\n",
      "daddy, mommy, daughter, baby, crying, hug, kiss, toy, upset, honey, sad, sweetie, funny, mad, favorite, tonight, giggle, angry, dinner, breakfast\n",
      "\n",
      "Topic  24\n",
      "drunk, beer, bar, drug, drinking, alcohol, bottle, asshole, college, apartment, bitch, smoke, piss, shitty, booze, girlfriend, fun, cigarette, bullshit, cop\n",
      "\n",
      "\n",
      " nmf tfidf num_topic:25 binary:True max_df:0.2 min_df:15\n"
     ]
    },
    {
     "name": "stdout",
     "output_type": "stream",
     "text": [
      "\n",
      "Topic  0\n",
      "sigh, lean, pause, shrug, glance, nodded, chuckle, frown, expression, gaze, grin, gasp, lip, softly, wave, interrupt, gesture, shout, pocket, seat\n",
      "\n",
      "Topic  1\n",
      "consider, apparently, mention, obviously, honestly, doubt, assume, conversation, absolutely, clearly, concern, surprise, odd, disturb, usual, honest, agree, definitely, chat, bother\n",
      "\n",
      "Topic  2\n",
      "soul, existence, accept, truly, earth, truth, desire, exist, choose, evil, suffer, forever, presence, fade, perhaps, reality, escape, fate, powerful, destroy\n",
      "\n",
      "Topic  3\n",
      "baby, daddy, daughter, mommy, kiss, hug, beautiful, sweet, sad, honey, crying, favorite, pregnant, toy, upset, bear, giggle, perfect, husband, sweetie\n",
      "\n",
      "Topic  4\n",
      "tree, forest, path, mile, branch, distance, camp, hike, dirt, clearing, sun, rock, direction, wind, animal, sky, mountain, leaf, bush, deer\n",
      "\n",
      "Topic  5\n",
      "hallway, awake, footstep, hall, freeze, shadow, breathing, creak, nightmare, louder, movement, closer, faint, slam, tired, slow, quietly, blanket, pound, closed\n",
      "\n",
      "Topic  6\n",
      "paper, box, paint, shelf, store, letter, yellow, clothe, item, desk, bag, flip, metal, stain, print, newspaper, page, owner, stack, sell\n",
      "\n",
      "Topic  7\n",
      "gun, murder, knife, cop, bullet, trigger, shoot, alive, aim, stab, pistol, rip, bitch, wound, gunshot, kick, weapon, tie, scene, bleed\n",
      "\n",
      "Topic  8\n",
      "flesh, tooth, bone, wet, skull, cheek, thick, nose, muscle, lip, stretch, thin, limb, sharp, tongue, dry, liquid, jaw, curl, crawl\n",
      "\n",
      "Topic  9\n",
      "doctor, patient, nurse, dr, medication, diagnose, surgery, treatment, severe, medicine, symptom, drug, brain, therapy, appointment, session, psychiatrist, mental, condition, therapist\n",
      "\n",
      "Topic  10\n",
      "click, computer, screen, camera, laptop, link, delete, page, file, internet, button, type, download, title, scroll, pop, text, notification, background, music\n",
      "\n",
      "Topic  11\n",
      "dog, cat, neighbor, yard, bark, pet, animal, backyard, fur, neighborhood, scratch, growl, porch, couch, paw, owner, fence, tail, garage, vet\n",
      "\n",
      "Topic  12\n",
      "scary, ghost, creepy, scare, fun, haunt, terrified, paranormal, demon, basically, bunch, terrifying, literally, chill, pitch, stupid, monster, imagination, horror_movie, evil\n",
      "\n",
      "Topic  13\n",
      "dinner, cook, meat, meal, hungry, plate, cooking, taste, breakfast, bowl, dish, delicious, bread, egg, chicken, fridge, bite, enjoy, bag, restaurant\n",
      "\n",
      "Topic  14\n",
      "driver, seat, truck, parking, highway, passenger, vehicle, ride, mile, speed, engine, wheel, driving, radio, brake, tire, rear, headlight, backseat, passenger_seat\n",
      "\n",
      "Topic  15\n",
      "grandmother, grandma, grandparent, aunt, uncle, cousin, grandfather, grandpa, memory, funeral, bear, shed, teenager, mum, alive, husband, sister, agree, relative, whenever\n",
      "\n",
      "Topic  16\n",
      "location, locate, attempt, contact, station, subject, discover, transcript, operation, remove, radio, appear, equipment, base, experiment, facility, contain, unknown, investigate, identify\n",
      "\n",
      "Topic  17\n",
      "drunk, bar, drug, beer, drinking, alcohol, apartment, bottle, girlfriend, asshole, bitch, college, sex, fun, dick, hot, smoke, piss, shitty, dress\n",
      "\n",
      "Topic  18\n",
      "teacher, classroom, student, grade, lunch, teach, principal, desk, college, bully, paper, classmate, homework, learn, locker, elementary, math, professor, fun, campus\n",
      "\n",
      "Topic  19\n",
      "brother, sister, younger_brother, older_brother, neighbor, christma, older_sister, funny, childhood, twin, steal, candy, assume, accident, goodbye, neighborhood, backyard, nightmare, sibling, refuse\n",
      "\n",
      "Topic  20\n",
      "freak, text, yesterday, apartment, respond, texting, boyfriend, girlfriend, contact, freaking, conversation, seriously, send, cop, couch, chill, totally, creepy, prank, voicemail\n",
      "\n",
      "Topic  21\n",
      "winner, contest, prize, receive, episode, gold, feature, signify, congratulation, suitable, audio, contribute, literature, user, approximately, volume, reminder, contact, copy, monthly\n",
      "\n",
      "Topic  22\n",
      "ocean, sea, boat, shore, swim, surface, beach, float, swimming, sand, fish, island, coast, swam, sky, splash, ship, cloud, drown, sun\n",
      "\n",
      "Topic  23\n",
      "upstairs, stair, downstairs, basement, bottom, staircase, closet, footstep, attic, creak, unlock, climb, box, ceiling, hallway, wooden, slam, bang, flashlight, knob\n",
      "\n",
      "Topic  24\n",
      "tonight, tomorrow, hopefully, suggestion, advice, luck, tired, mention, type, suggest, original, hotel, entry, camera, odd, joke, figured, upload, awake, investigate\n",
      "\n",
      "\n",
      " nmf tfidf num_topic:25 binary:True max_df:0.5 min_df:5\n",
      "\n",
      "Topic  0\n",
      "nod, sigh, lean, nodded, shrug, smile, glance, shoulder, pause, frown, chuckle, expression, shake, whisper, sorry, gaze, chair, seat, grin, reply\n",
      "\n",
      "Topic  1\n",
      "freak, weird, creepy, seriously, scared, crazy, ill, scar, friend, definitely, honestly, text, explain, freaking, fuck, advice, totally, obviously, scare, mention\n",
      "\n",
      "Topic  2\n",
      "attempt, locate, location, subject, source, base, occur, begin, soldier, contact, assume, enter, appear, effect, experiment, weapon, remove, equipment, contain, operation\n",
      "\n",
      "Topic  3\n",
      "baby, daddy, cry, mommy, daughter, kiss, hug, hurt, girl, boy, crying, toy, favorite, sweet, upset, honey, giggle, sad, beautiful, pregnant\n",
      "\n",
      "Topic  4\n",
      "skin, flesh, finger, throat, bone, cheek, lip, stretch, tooth, chest, wet, crack, thick, grip, thin, limb, soft, knee, muscle, crawl\n",
      "\n",
      "Topic  5\n",
      "tree, forest, wood, path, mile, branch, distance, camp, clearing, hike, flashlight, animal, dirt, sun, rock, direction, edge, deer, leaf, bush\n",
      "\n",
      "Topic  6\n",
      "box, paint, shelf, metal, smell, bag, paper, store, basement, floor, item, desk, empty, clean, yellow, stain, owner, corner, sell, bottom\n",
      "\n",
      "Topic  7\n",
      "gun, kill, blood, fuck, fucking, die, hell, knife, rip, alive, pain, shoot, bullet, arm, leg, yell, kick, grab, throw, god\n",
      "\n",
      "Topic  8\n",
      "eat, dinner, cook, kitchen, meat, meal, hungry, plate, breakfast, table, taste, cooking, bowl, smell, dish, clean, egg, bite, fridge, delicious\n",
      "\n",
      "Topic  9\n",
      "doctor, patient, nurse, dr, medication, diagnose, pain, surgery, treatment, severe, symptom, medicine, drug, condition, appointment, therapy, brain, therapist, session, procedure\n",
      "\n",
      "Topic  10\n",
      "computer, screen, click, camera, delete, laptop, link, text, type, file, picture, internet, page, download, button, notification, title, scroll, pop, app\n",
      "\n",
      "Topic  11\n",
      "driver, seat, truck, parking, passenger, highway, vehicle, ride, mile, tire, speed, brake, window, driving, engine, rear, headlight, wheel, backseat, route\n",
      "\n",
      "Topic  12\n",
      "wear, dress, hair, clothe, shirt, skin, blue, suit, green, girl, bright, smile, dirty, shoe, brown, clothing, pale, tall, pink, skinny\n",
      "\n",
      "Topic  13\n",
      "murder, cop, suspect, crime, victim, station, detective, search, miss, daughter, husband, killer, discover, innocent, arrive, witness, murderer, investigate, scene, disappearance\n",
      "\n",
      "Topic  14\n",
      "asleep, wake, sleep, bed, awake, dream, nightmare, bedroom, tired, lie, woke, bathroom, dark, fear, slowly, completely, drift, figure, usual, noise\n",
      "\n",
      "Topic  15\n",
      "drink, drunk, bar, beer, fucking, apartment, drug, alcohol, girlfriend, fuck, drinking, bottle, bitch, fun, college, sex, asshole, bathroom, hang, girl\n",
      "\n",
      "Topic  16\n",
      "loud, voice, static, noise, listen, ring, ear, silence, dial, answer, whispering, quiet, silent, louder, volume, speaker, background, breathe, send, caller\n",
      "\n",
      "Topic  17\n",
      "soul, fear, accept, truly, truth, god, die, exist, desire, suffer, forever, choose, existence, reality, evil, presence, earth, perhaps, peace, bear\n",
      "\n",
      "Topic  18\n",
      "ocean, sea, boat, shore, swim, surface, beach, swimming, fish, float, sand, island, swam, splash, coast, sky, cold, ship, sun, drown\n",
      "\n",
      "Topic  19\n",
      "mom, dad, brother, sister, kid, aunt, grandma, grandparent, uncle, grandmother, childhood, cousin, friend, forget, memory, anymore, bear, neighbor, grandpa, older_brother\n",
      "\n",
      "Topic  20\n",
      "stair, kitchen, upstairs, lock, bedroom, downstairs, hallway, bathroom, window, floor, footstep, unlock, slam, grab, creak, knock, hall, shut, bang, closet\n",
      "\n",
      "Topic  21\n",
      "dog, cat, pet, bark, neighbor, animal, yard, fur, scratch, backyard, growl, neighborhood, paw, owner, couch, porch, fence, vet, tail, sniff\n",
      "\n",
      "Topic  22\n",
      "write, page, entry, journal, letter, diary, paper, yesterday, writing, notebook, ill, tomorrow, handwriting, pen, reading, envelope, normal, scribble, word, library\n",
      "\n",
      "Topic  23\n",
      "winner, podcast, contest, ebook, prize, episode, flair, signify, receive, gold, feature, moderator, congratulation, suitable, contribute, adaptation, audio, henceforth, latte, literature\n",
      "\n",
      "Topic  24\n",
      "teacher, classroom, student, grade, teach, lunch, principal, desk, college, bully, kid, girl, classmate, elementary, homework, math, learn, locker, campus, professor\n",
      "\n",
      "\n",
      " nmf tfidf num_topic:25 binary:True max_df:0.5 min_df:15\n"
     ]
    },
    {
     "name": "stdout",
     "output_type": "stream",
     "text": [
      "\n",
      "Topic  0\n",
      "nod, sigh, lean, nodded, smile, shrug, shoulder, shake, pause, frown, chuckle, whisper, glance, expression, sorry, chair, lip, reply, seat, answer\n",
      "\n",
      "Topic  1\n",
      "freak, weird, creepy, ill, seriously, scared, crazy, friend, scar, honestly, definitely, yesterday, fuck, freaking, explain, tomorrow, advice, mention, totally, text\n",
      "\n",
      "Topic  2\n",
      "attempt, locate, subject, begin, location, occur, source, assume, remove, enter, effect, appear, contact, base, inform, experiment, equipment, contain, arrive, extremely\n",
      "\n",
      "Topic  3\n",
      "eat, dinner, cook, kitchen, meal, hungry, plate, meat, breakfast, table, cooking, dish, bowl, taste, delicious, egg, lunch, chicken, fridge, restaurant\n",
      "\n",
      "Topic  4\n",
      "darkness, glow, shadow, grip, gaze, echo, terror, breath, illuminate, dim, heavy, gasp, grasp, peer, frame, shriek, flicker, sharp, stretch, stumble\n",
      "\n",
      "Topic  5\n",
      "tree, forest, wood, path, mile, camp, clearing, branch, hike, distance, flashlight, animal, dirt, sun, deer, rock, bush, trail, direction, mountain\n",
      "\n",
      "Topic  6\n",
      "box, paper, shelf, paint, store, bag, letter, desk, metal, piece, item, flip, basement, write, owner, yellow, page, floor, clean, sell\n",
      "\n",
      "Topic  7\n",
      "gun, kill, fuck, fucking, shoot, bullet, hell, aim, knife, die, blood, trigger, pistol, rip, kick, bitch, alive, weapon, yell, wound\n",
      "\n",
      "Topic  8\n",
      "skin, flesh, tooth, blood, bone, smell, mouth, leg, cover, wet, finger, tongue, cheek, pain, vomit, lip, stomach, fat, throat, muscle\n",
      "\n",
      "Topic  9\n",
      "doctor, patient, nurse, dr, medication, diagnose, treatment, severe, surgery, medicine, pain, symptom, therapy, therapist, session, appointment, brain, drug, mental, psychiatrist\n",
      "\n",
      "Topic  10\n",
      "click, computer, screen, camera, link, delete, page, laptop, text, type, picture, file, internet, download, button, notification, scroll, title, app, pop\n",
      "\n",
      "Topic  11\n",
      "driver, seat, parking, truck, highway, passenger, vehicle, ride, mile, tire, brake, window, driving, speed, engine, rear, headlight, backseat, wheel, route\n",
      "\n",
      "Topic  12\n",
      "wear, dress, hair, shirt, clothe, suit, blue, skin, green, girl, bright, clothing, shoe, smile, tall, tie, dirty, purple, pale, brown\n",
      "\n",
      "Topic  13\n",
      "murder, cop, suspect, crime, victim, search, detective, miss, station, killer, discover, murderer, scene, kill, husband, innocent, investigate, knife, arrive, witness\n",
      "\n",
      "Topic  14\n",
      "asleep, wake, sleep, bed, awake, dream, nightmare, bedroom, tired, lie, woke, drift, dark, slowly, fear, completely, usual, bathroom, figure, lay\n",
      "\n",
      "Topic  15\n",
      "drink, drunk, bar, beer, apartment, drug, fuck, girlfriend, fucking, alcohol, drinking, bottle, college, bitch, asshole, sex, fun, hang, boyfriend, girl\n",
      "\n",
      "Topic  16\n",
      "loud, voice, noise, ring, listen, static, ear, dial, silence, answer, whispering, silent, quiet, background, louder, send, caller, whisper, breathe, hang\n",
      "\n",
      "Topic  17\n",
      "soul, truth, die, fear, accept, god, truly, suffer, forever, choose, bear, desire, reality, existence, deserve, peace, exist, evil, alive, grow\n",
      "\n",
      "Topic  18\n",
      "ocean, sea, boat, shore, swim, beach, surface, swimming, float, fish, sand, island, sky, coast, swam, splash, cold, drown, sun, ship\n",
      "\n",
      "Topic  19\n",
      "mom, dad, brother, sister, kid, aunt, grandma, grandparent, uncle, anymore, grandmother, friend, memory, childhood, neighbor, forget, grandpa, cousin, sad, cry\n",
      "\n",
      "Topic  20\n",
      "baby, daddy, daughter, mommy, cry, kiss, hug, girl, boy, hurt, crying, sweet, favorite, toy, honey, pregnant, giggle, upset, beautiful, sad\n",
      "\n",
      "Topic  21\n",
      "dog, cat, neighbor, pet, bark, animal, yard, fur, backyard, scratch, neighborhood, growl, paw, couch, owner, porch, fence, vet, tail, noise\n",
      "\n",
      "Topic  22\n",
      "teacher, classroom, student, grade, lunch, teach, principal, desk, college, kid, bully, girl, classmate, paper, homework, elementary, locker, learn, math, professor\n",
      "\n",
      "Topic  23\n",
      "winner, contest, prize, episode, receive, gold, signify, feature, congratulation, suitable, contribute, audio, literature, user, approximately, reminder, volume, contact, copy, monthly\n",
      "\n",
      "Topic  24\n",
      "stair, kitchen, upstairs, lock, bedroom, hallway, downstairs, bathroom, floor, window, footstep, grab, unlock, hall, creak, slam, knock, shut, basement, bang\n"
     ]
    }
   ],
   "source": [
    "no_top_words = 13\n",
    "\n",
    "for num_topic in [5, 10, 15, 20, 25]: \n",
    "    for vectorizer in ['tfidf', 'count']: \n",
    "        for binary in [False, True]:\n",
    "            for max_df in [.2,.35,.5]:\n",
    "                for min_df in [3, 5, 15]:\n",
    "                    for model in ['nmf','lda']:\n",
    "                        hyperparameter_topics(docs_list_joined, \n",
    "                                             vectorizer=vectorizer, \n",
    "                                             binary=binary, \n",
    "                                             max_df=max_df, \n",
    "                                             min_df=min_df, \n",
    "                                             stop_words = stop_words,\n",
    "                                             model=model,\n",
    "                                             num_topic=num_topic,\n",
    "                                             no_top_words = no_top_words\n",
    "                                            )\n",
    "\n",
    "       \n"
   ]
  },
  {
   "cell_type": "markdown",
   "metadata": {},
   "source": [
    "# NLP on Full Dataset"
   ]
  },
  {
   "cell_type": "markdown",
   "metadata": {
    "heading_collapsed": true
   },
   "source": [
    "## Full Data Preprocess \n",
    "(Caution — took hours on macbook pro)"
   ]
  },
  {
   "cell_type": "code",
   "execution_count": 67,
   "metadata": {
    "ExecuteTime": {
     "end_time": "2019-11-14T05:40:47.172763Z",
     "start_time": "2019-11-14T05:40:44.323252Z"
    },
    "hidden": true
   },
   "outputs": [],
   "source": [
    "df_full = pd.read_pickle(f'{DATA_PATH}/reddit_df_clean.pkl')"
   ]
  },
  {
   "cell_type": "code",
   "execution_count": 69,
   "metadata": {
    "ExecuteTime": {
     "end_time": "2019-11-14T08:00:00.036430Z",
     "start_time": "2019-11-14T05:41:00.591778Z"
    },
    "hidden": true
   },
   "outputs": [
    {
     "name": "stderr",
     "output_type": "stream",
     "text": [
      "INFO:gensim.models.phrases:collecting all words and their counts\n",
      "INFO:gensim.models.phrases:PROGRESS: at sentence #0, processed 0 words and 0 word types\n",
      "INFO:gensim.models.phrases:PROGRESS: at sentence #10000, processed 17949912 words and 2871400 word types\n",
      "INFO:gensim.models.phrases:PROGRESS: at sentence #20000, processed 34132921 words and 4383686 word types\n",
      "INFO:gensim.models.phrases:PROGRESS: at sentence #30000, processed 49493398 words and 5575488 word types\n",
      "INFO:gensim.models.phrases:PROGRESS: at sentence #40000, processed 63992630 words and 6576384 word types\n",
      "INFO:gensim.models.phrases:PROGRESS: at sentence #50000, processed 77804005 words and 7437971 word types\n",
      "INFO:gensim.models.phrases:PROGRESS: at sentence #60000, processed 91259683 words and 8231239 word types\n",
      "INFO:gensim.models.phrases:PROGRESS: at sentence #70000, processed 104087411 words and 8940176 word types\n",
      "INFO:gensim.models.phrases:PROGRESS: at sentence #80000, processed 116460087 words and 9583337 word types\n",
      "INFO:gensim.models.phrases:PROGRESS: at sentence #90000, processed 128056201 words and 10150981 word types\n",
      "INFO:gensim.models.phrases:PROGRESS: at sentence #100000, processed 139096171 words and 10674650 word types\n",
      "INFO:gensim.models.phrases:PROGRESS: at sentence #110000, processed 149903303 words and 11155622 word types\n",
      "INFO:gensim.models.phrases:PROGRESS: at sentence #120000, processed 160362877 words and 11588131 word types\n",
      "INFO:gensim.models.phrases:PROGRESS: at sentence #130000, processed 170561896 words and 11959721 word types\n",
      "INFO:gensim.models.phrases:PROGRESS: at sentence #140000, processed 180353157 words and 12206319 word types\n",
      "INFO:gensim.models.phrases:PROGRESS: at sentence #150000, processed 191170665 words and 12543910 word types\n",
      "INFO:gensim.models.phrases:PROGRESS: at sentence #160000, processed 204067351 words and 13016900 word types\n",
      "INFO:gensim.models.phrases:collected 13242540 word types from a corpus of 211051886 words (unigram + bigrams) and 165814 sentences\n",
      "INFO:gensim.models.phrases:using 13242540 counts as vocab in Phrases<0 vocab, min_count=5, threshold=50, max_vocab_size=40000000>\n",
      "INFO:gensim.models.phrases:source_vocab length 13242540\n",
      "INFO:gensim.models.phrases:Phraser built with 27220 phrasegrams\n",
      "//anaconda3/envs/reddit/lib/python3.7/site-packages/tqdm/__init__.py:27: TqdmDeprecationWarning: This function will be removed in tqdm==5.0.0\n",
      "Please use `tqdm.notebook.tqdm` instead of `tqdm.tqdm_notebook`\n",
      "  TqdmDeprecationWarning)\n"
     ]
    },
    {
     "data": {
      "application/vnd.jupyter.widget-view+json": {
       "model_id": "78081341298e4583944dd2e8df9762c9",
       "version_major": 2,
       "version_minor": 0
      },
      "text/plain": [
       "HBox(children=(IntProgress(value=0, max=165814), HTML(value='')))"
      ]
     },
     "metadata": {},
     "output_type": "display_data"
    },
    {
     "name": "stdout",
     "output_type": "stream",
     "text": [
      "\n"
     ]
    },
    {
     "name": "stderr",
     "output_type": "stream",
     "text": [
      "//anaconda3/envs/reddit/lib/python3.7/site-packages/tqdm/__init__.py:27: TqdmDeprecationWarning: This function will be removed in tqdm==5.0.0\n",
      "Please use `tqdm.notebook.tqdm` instead of `tqdm.tqdm_notebook`\n",
      "  TqdmDeprecationWarning)\n"
     ]
    },
    {
     "data": {
      "application/vnd.jupyter.widget-view+json": {
       "model_id": "6a0a0b901a234537ac6e9ce45ee336a8",
       "version_major": 2,
       "version_minor": 0
      },
      "text/plain": [
       "HBox(children=(IntProgress(value=0, max=165814), HTML(value='')))"
      ]
     },
     "metadata": {},
     "output_type": "display_data"
    },
    {
     "name": "stdout",
     "output_type": "stream",
     "text": [
      "\n"
     ]
    },
    {
     "name": "stderr",
     "output_type": "stream",
     "text": [
      "//anaconda3/envs/reddit/lib/python3.7/site-packages/msgpack_numpy.py:184: DeprecationWarning: encoding is deprecated, Use raw=False instead.\n",
      "  return _unpackb(packed, **kwargs)\n",
      "//anaconda3/envs/reddit/lib/python3.7/site-packages/msgpack_numpy.py:184: DeprecationWarning: encoding is deprecated, Use raw=False instead.\n",
      "  return _unpackb(packed, **kwargs)\n",
      "//anaconda3/envs/reddit/lib/python3.7/site-packages/tqdm/__init__.py:27: TqdmDeprecationWarning: This function will be removed in tqdm==5.0.0\n",
      "Please use `tqdm.notebook.tqdm` instead of `tqdm.tqdm_notebook`\n",
      "  TqdmDeprecationWarning)\n"
     ]
    },
    {
     "data": {
      "application/vnd.jupyter.widget-view+json": {
       "model_id": "26059654714f42c8b9320ef4b795ce52",
       "version_major": 2,
       "version_minor": 0
      },
      "text/plain": [
       "HBox(children=(IntProgress(value=0, max=165814), HTML(value='')))"
      ]
     },
     "metadata": {},
     "output_type": "display_data"
    },
    {
     "name": "stdout",
     "output_type": "stream",
     "text": [
      "\n"
     ]
    },
    {
     "name": "stderr",
     "output_type": "stream",
     "text": [
      "//anaconda3/envs/reddit/lib/python3.7/site-packages/tqdm/__init__.py:27: TqdmDeprecationWarning: This function will be removed in tqdm==5.0.0\n",
      "Please use `tqdm.notebook.tqdm` instead of `tqdm.tqdm_notebook`\n",
      "  TqdmDeprecationWarning)\n"
     ]
    },
    {
     "data": {
      "application/vnd.jupyter.widget-view+json": {
       "model_id": "d594cf027d274094ace98a3741680983",
       "version_major": 2,
       "version_minor": 0
      },
      "text/plain": [
       "HBox(children=(IntProgress(value=0, max=165814), HTML(value='')))"
      ]
     },
     "metadata": {},
     "output_type": "display_data"
    },
    {
     "name": "stdout",
     "output_type": "stream",
     "text": [
      "\n",
      "[['react', 'constricting', 'sit', 'baffle', 'unsure', 'internet', 'alone', 'rent', 'employ', 'army', 'door', 'dark', 'frame', 'sister', 'rot', 'floorboard', 'pile', 'trash', 'pale', 'glow', 'monitor', 'thinning', 'frame', 'concern', 'possibly', 'healthy', 'ignore', 'completely', 'raise', 'figure', 'raise', 'fund', 'greedy', 'habit', 'monitor', 'brightness', 'dimming', 'slowly', 'shut', 'sister', 'fragile', 'frame', 'weighing', 'option', 'puzzled', 'fee', 'shut', 'computer', 'settle', 'choice', 'display', 'slowly', 'fade', 'bath', 'shadow', 'precariously', 'switch', 'jagged', 'edge', 'slice', 'decaying', 'shoe', 'piece', 'flip', 'switch', 'shut', 'computer', 'sister', 'pull', 'lighter', 'tattered', 'pocket', 'combat', 'darkness', 'surrounding', 'shade', 'mold', 'downstairs', 'arrive', 'kitchen', 'confront', 'inaction', 'computer', 'fade', 'eat', 'computer', 'wage', 'stomach', 'hungry', 'eat', 'shy', 'confrontation', 'sit', 'trash', 'spot', 'floor', 'walk', 'store', 'eat', 'anyways', 'mumble', 'comply', 'pull', 'door', 'unstuck', 'replace', 'humidity', 'heat', 'aback', 'initially', 'track', 'computer', 'sleep', 'hurry', 'sidewalk', 'eager', 'errand', 'fast', 'familiar', 'glow', 'window', 'block', 'falling_apart', 'internet', 'store', 'attendant', 'nice', 'instruct', 'faster', 'rounded', 'corner', 'raid', 'setup', 'rush', 'sister', 'gag', 'bind', 'knee', 'riot', 'gear', 'clearly', 'instruct', 'sound', 'door', 'smile', 'unsure', 'grocery', 'climate', 'breathing', 'neck', 'file', 'internet', 'shame', 'faux', 'sadness', 'voice', 'anger', 'treat', 'sister', 'swinging', 'weapon', 'meat', 'kevlar', 'annoy', 'smirk', 'hook', 'jaw', 'topple', 'dazed', 'sister', 'scream', 'gag', 'plant', 'boot', 'firmly', 'pin', 'rot', 'floor', 'lean', 'whisper', 'ear', 'audible', 'smirk', 'voice', 'internet', 'battleforthenet']]\n"
     ]
    }
   ],
   "source": [
    "data_full_lemmatized = process_data(df_full['selftext'].tolist())"
   ]
  },
  {
   "cell_type": "code",
   "execution_count": 70,
   "metadata": {
    "ExecuteTime": {
     "end_time": "2019-11-14T08:00:48.207967Z",
     "start_time": "2019-11-14T08:00:46.727922Z"
    },
    "hidden": true
   },
   "outputs": [],
   "source": [
    "docs_full_list_joined = [' '.join(words) for words in data_full_lemmatized]"
   ]
  },
  {
   "cell_type": "markdown",
   "metadata": {
    "ExecuteTime": {
     "end_time": "2019-11-19T19:25:02.127971Z",
     "start_time": "2019-11-19T19:25:02.125525Z"
    },
    "hidden": true
   },
   "source": [
    "### Pickle"
   ]
  },
  {
   "cell_type": "code",
   "execution_count": 71,
   "metadata": {
    "ExecuteTime": {
     "end_time": "2019-11-14T13:32:12.403172Z",
     "start_time": "2019-11-14T13:32:11.424281Z"
    },
    "hidden": true
   },
   "outputs": [],
   "source": [
    "# too big for github\n",
    "with open(f'{DATA_PATH}/full_lemmatized.pickle', 'wb') as f:\n",
    "    pickle.dump(docs_full_list_joined, f, pickle.HIGHEST_PROTOCOL)"
   ]
  },
  {
   "cell_type": "code",
   "execution_count": null,
   "metadata": {
    "hidden": true
   },
   "outputs": [],
   "source": [
    "# with open(f'{DATA_PATH}/full_lemmatized.pickle', 'rb') as f:\n",
    "#     docs_full_list_joined_data = pickle.load(f)"
   ]
  },
  {
   "cell_type": "markdown",
   "metadata": {
    "heading_collapsed": true
   },
   "source": [
    "## Fit small model with final params"
   ]
  },
  {
   "cell_type": "code",
   "execution_count": 111,
   "metadata": {
    "ExecuteTime": {
     "end_time": "2019-11-14T19:29:51.914769Z",
     "start_time": "2019-11-14T19:29:43.748947Z"
    },
    "hidden": true
   },
   "outputs": [
    {
     "name": "stdout",
     "output_type": "stream",
     "text": [
      "\n",
      "Topic  0\n",
      "nod, sigh, lean, nodded, smile, shrug, glance, shoulder, frown, chuckle, pause, chair, whisper, shake, grin, expression, sorry, seat, gaze, laugh, lip, wave\n",
      "\n",
      "Topic  1\n",
      "freak, weird, scared, creepy, ill, scar, crazy, fuck, seriously, freaking, friend, fucking, text, yesterday, tomorrow, hell, tonight, scare, totally, scary, advice, definitely\n",
      "\n",
      "Topic  2\n",
      "locate, location, attempt, soldier, base, subject, source, experiment, weapon, enter, contact, begin, remove, contain, facility, effect, equipment, operation, occur, mission, size, appear\n",
      "\n",
      "Topic  3\n",
      "baby, daddy, cry, mommy, daughter, girl, kiss, boy, hug, hurt, beautiful, hair, sweet, favorite, smile, crying, toy, nice, giggle, arm, pregnant, sad\n",
      "\n",
      "Topic  4\n",
      "tree, forest, wood, path, mile, branch, distance, camp, clearing, flashlight, hike, dirt, animal, rock, sun, direction, edge, deer, leaf, trail, bush, wind\n",
      "\n",
      "Topic  5\n",
      "driver, seat, truck, parking, highway, passenger, ride, vehicle, mile, brake, speed, tire, window, wheel, driving, engine, rear, route, headlight, backseat, gas, exit\n",
      "\n",
      "Topic  6\n",
      "stair, upstairs, kitchen, hallway, floor, lock, basement, downstairs, bedroom, closet, hall, window, creak, bathroom, unlock, grab, ceiling, corner, footstep, shut, slam, foot\n",
      "\n",
      "Topic  7\n",
      "gun, kill, knife, blood, fuck, die, fucking, rip, pain, leg, alive, arm, kick, hell, bullet, grab, yell, hurt, wound, shoot, throw, aim\n",
      "\n",
      "Topic  8\n",
      "skin, flesh, bone, tooth, finger, wet, thick, chest, lip, throat, stretch, thin, nose, cheek, skull, mouth, crack, curl, limb, sharp, muscle, yellow\n",
      "\n",
      "Topic  9\n",
      "doctor, patient, nurse, dr, medication, diagnose, pain, surgery, treatment, medicine, severe, drug, symptom, therapy, brain, appointment, condition, pill, bruise, procedure, normal, mental\n",
      "\n",
      "Topic  10\n",
      "computer, screen, click, camera, page, laptop, delete, link, picture, text, file, type, internet, button, download, title, write, desk, google, notification, pop, scroll\n",
      "\n",
      "Topic  11\n",
      "drink, drunk, bar, beer, drug, drinking, fuck, fucking, alcohol, bottle, apartment, girlfriend, bitch, college, asshole, girl, fun, smoke, hang, sex, hot, bathroom\n",
      "\n",
      "Topic  12\n",
      "dog, cat, bark, neighbor, pet, yard, animal, fur, backyard, scratch, neighborhood, growl, paw, couch, porch, owner, fence, window, tail, vet, sniff, noise\n",
      "\n",
      "Topic  13\n",
      "eat, dinner, cook, kitchen, meat, meal, hungry, plate, table, breakfast, taste, smell, clean, bowl, cooking, dish, fridge, bite, egg, bread, bag, delicious\n",
      "\n",
      "Topic  14\n",
      "asleep, wake, sleep, bed, awake, dream, bedroom, nightmare, bathroom, tired, woke, lie, fear, slowly, dark, figure, completely, noise, drift, terrified, notice, closer\n",
      "\n",
      "Topic  15\n",
      "mom, dad, brother, sister, kid, aunt, grandma, grandparent, uncle, grandmother, anymore, neighbor, memory, childhood, forget, friend, grandpa, cousin, sad, cry, bear, older_brother\n",
      "\n",
      "Topic  16\n",
      "loud, noise, listen, ring, static, ear, silence, quiet, louder, whispering, whisper, silent, shout, breathe, calm, footstep, dial, answer, volume, repeat, sob, send\n",
      "\n",
      "Topic  17\n",
      "soul, god, die, fear, truth, evil, forever, truly, spirit, suffer, exist, existence, earth, choose, accept, peace, desire, bear, ritual, presence, demon, pray\n",
      "\n",
      "Topic  18\n",
      "teacher, classroom, student, lunch, grade, teach, desk, principal, paper, kid, college, girl, bully, classmate, locker, elementary, homework, math, professor, learn, hallway, pencil\n",
      "\n",
      "Topic  19\n",
      "ocean, sea, shore, boat, swim, surface, beach, swimming, float, fish, sand, island, swam, splash, coast, sky, cold, ship, sun, drown, cloud, lung\n",
      "\n",
      "Topic  20\n",
      "conversation, chat, explain, apparently, assume, mention, eventually, agree, obviously, consider, concern, surprise, completely, clearly, strange, realise, bother, exactly, honestly, absolutely, entirely, usual\n",
      "\n",
      "Topic  21\n",
      "murder, cop, suspect, detective, victim, crime, paper, miss, search, picture, station, scene, print, husband, discover, letter, wear, crime_scene, daughter, killer, exactly, piece\n"
     ]
    }
   ],
   "source": [
    "# Final params from grid search\n",
    "num_topic=22\n",
    "min_df = 3\n",
    "max_df = .5\n",
    "no_top_words = 22\n",
    "binary=True\n",
    "final_model, final_vec, feature_names, doc_word_matrix, doc_topic_sub = hyperparameter_topics(docs_list_joined, \n",
    "                                                                                     vectorizer=vectorizer, \n",
    "                                                                                     binary=binary, \n",
    "                                                                                     max_df=max_df, \n",
    "                                                                                     min_df=min_df, \n",
    "                                                                                     stop_words = stop_words,\n",
    "                                                                                     model='nmf',\n",
    "                                                                                     num_topic=num_topic,\n",
    "                                                                                     no_top_words = no_top_words\n",
    "                                                                                    )\n"
   ]
  },
  {
   "cell_type": "code",
   "execution_count": 139,
   "metadata": {
    "ExecuteTime": {
     "end_time": "2019-11-14T23:48:44.921962Z",
     "start_time": "2019-11-14T23:48:44.817521Z"
    },
    "hidden": true
   },
   "outputs": [],
   "source": [
    "topics = ['Subtle Cues',\n",
    "       'True Confessional', 'Experimental Facility', 'Newborn Child', 'Wilderness', 'Automotive',\n",
    "       \"In The House\", 'Violent Action', 'Bones & Flesh', 'Medical', 'Technology', 'Party Hard',\n",
    "       'Neighborhood', \"Food\", 'Night Terrors', 'Family', 'What Was That Sound?', 'Evil Spirit', 'Schools Out Forever',\n",
    "       'The Ocean', 'Contemplation', 'Crime & Punishment']"
   ]
  },
  {
   "cell_type": "markdown",
   "metadata": {
    "heading_collapsed": true
   },
   "source": [
    "## save word strengths"
   ]
  },
  {
   "cell_type": "code",
   "execution_count": 159,
   "metadata": {
    "ExecuteTime": {
     "end_time": "2019-11-15T00:19:58.767937Z",
     "start_time": "2019-11-15T00:19:58.758134Z"
    },
    "hidden": true
   },
   "outputs": [],
   "source": [
    "def display_t(model, feature_names, no_top_words=15, topic_names=topics):\n",
    "    cols = ['word', 'strength', 'topic']\n",
    "    df = pd.DataFrame(columns=cols)\n",
    "    for ix, topic in enumerate(model.components_):\n",
    "        if not topic_names or not topic_names[ix]:\n",
    "            print(\"\\nTopic \", ix)\n",
    "        else:\n",
    "            print(\"\\nTopic: '\",topic_names[ix],\"'\")\n",
    "        df2 = pd.DataFrame([[feature_names[i], topic[i], topic_names[ix]] for i in topic.argsort()[:-no_top_words - 1:-1]], columns=cols)\n",
    "        print(\", \".join(df2['word'].tolist()))\n",
    "        df = df.append(df2)\n",
    "    return df"
   ]
  },
  {
   "cell_type": "code",
   "execution_count": 160,
   "metadata": {
    "ExecuteTime": {
     "end_time": "2019-11-15T00:20:03.627826Z",
     "start_time": "2019-11-15T00:20:03.480842Z"
    },
    "hidden": true
   },
   "outputs": [
    {
     "name": "stdout",
     "output_type": "stream",
     "text": [
      "\n",
      "Topic: ' Subtle Cues '\n",
      "nod, sigh, lean, nodded, smile, shrug, glance, shoulder, frown, chuckle, pause, chair, whisper, shake, grin, expression, sorry, seat, gaze, laugh, lip, wave\n",
      "\n",
      "Topic: ' True Confessional '\n",
      "freak, weird, scared, creepy, ill, scar, crazy, fuck, seriously, freaking, friend, fucking, text, yesterday, tomorrow, hell, tonight, scare, totally, scary, advice, definitely\n",
      "\n",
      "Topic: ' Experimental Facility '\n",
      "locate, location, attempt, soldier, base, subject, source, experiment, weapon, enter, contact, begin, remove, contain, facility, effect, equipment, operation, occur, mission, size, appear\n",
      "\n",
      "Topic: ' Newborn Child '\n",
      "baby, daddy, cry, mommy, daughter, girl, kiss, boy, hug, hurt, beautiful, hair, sweet, favorite, smile, crying, toy, nice, giggle, arm, pregnant, sad\n",
      "\n",
      "Topic: ' Wilderness '\n",
      "tree, forest, wood, path, mile, branch, distance, camp, clearing, flashlight, hike, dirt, animal, rock, sun, direction, edge, deer, leaf, trail, bush, wind\n",
      "\n",
      "Topic: ' Automotive '\n",
      "driver, seat, truck, parking, highway, passenger, ride, vehicle, mile, brake, speed, tire, window, wheel, driving, engine, rear, route, headlight, backseat, gas, exit\n",
      "\n",
      "Topic: ' In The House '\n",
      "stair, upstairs, kitchen, hallway, floor, lock, basement, downstairs, bedroom, closet, hall, window, creak, bathroom, unlock, grab, ceiling, corner, footstep, shut, slam, foot\n",
      "\n",
      "Topic: ' Violent Action '\n",
      "gun, kill, knife, blood, fuck, die, fucking, rip, pain, leg, alive, arm, kick, hell, bullet, grab, yell, hurt, wound, shoot, throw, aim\n",
      "\n",
      "Topic: ' Bones & Flesh '\n",
      "skin, flesh, bone, tooth, finger, wet, thick, chest, lip, throat, stretch, thin, nose, cheek, skull, mouth, crack, curl, limb, sharp, muscle, yellow\n",
      "\n",
      "Topic: ' Medical '\n",
      "doctor, patient, nurse, dr, medication, diagnose, pain, surgery, treatment, medicine, severe, drug, symptom, therapy, brain, appointment, condition, pill, bruise, procedure, normal, mental\n",
      "\n",
      "Topic: ' Technology '\n",
      "computer, screen, click, camera, page, laptop, delete, link, picture, text, file, type, internet, button, download, title, write, desk, google, notification, pop, scroll\n",
      "\n",
      "Topic: ' Party Hard '\n",
      "drink, drunk, bar, beer, drug, drinking, fuck, fucking, alcohol, bottle, apartment, girlfriend, bitch, college, asshole, girl, fun, smoke, hang, sex, hot, bathroom\n",
      "\n",
      "Topic: ' Neighborhood '\n",
      "dog, cat, bark, neighbor, pet, yard, animal, fur, backyard, scratch, neighborhood, growl, paw, couch, porch, owner, fence, window, tail, vet, sniff, noise\n",
      "\n",
      "Topic: ' Food '\n",
      "eat, dinner, cook, kitchen, meat, meal, hungry, plate, table, breakfast, taste, smell, clean, bowl, cooking, dish, fridge, bite, egg, bread, bag, delicious\n",
      "\n",
      "Topic: ' Night Terrors '\n",
      "asleep, wake, sleep, bed, awake, dream, bedroom, nightmare, bathroom, tired, woke, lie, fear, slowly, dark, figure, completely, noise, drift, terrified, notice, closer\n",
      "\n",
      "Topic: ' Family '\n",
      "mom, dad, brother, sister, kid, aunt, grandma, grandparent, uncle, grandmother, anymore, neighbor, memory, childhood, forget, friend, grandpa, cousin, sad, cry, bear, older_brother\n",
      "\n",
      "Topic: ' What Was That Sound? '\n",
      "loud, noise, listen, ring, static, ear, silence, quiet, louder, whispering, whisper, silent, shout, breathe, calm, footstep, dial, answer, volume, repeat, sob, send\n",
      "\n",
      "Topic: ' Evil Spirit '\n",
      "soul, god, die, fear, truth, evil, forever, truly, spirit, suffer, exist, existence, earth, choose, accept, peace, desire, bear, ritual, presence, demon, pray\n",
      "\n",
      "Topic: ' Schools Out Forever '\n",
      "teacher, classroom, student, lunch, grade, teach, desk, principal, paper, kid, college, girl, bully, classmate, locker, elementary, homework, math, professor, learn, hallway, pencil\n",
      "\n",
      "Topic: ' The Ocean '\n",
      "ocean, sea, shore, boat, swim, surface, beach, swimming, float, fish, sand, island, swam, splash, coast, sky, cold, ship, sun, drown, cloud, lung\n",
      "\n",
      "Topic: ' Contemplation '\n",
      "conversation, chat, explain, apparently, assume, mention, eventually, agree, obviously, consider, concern, surprise, completely, clearly, strange, realise, bother, exactly, honestly, absolutely, entirely, usual\n",
      "\n",
      "Topic: ' Crime & Punishment '\n",
      "murder, cop, suspect, detective, victim, crime, paper, miss, search, picture, station, scene, print, husband, discover, letter, wear, crime_scene, daughter, killer, exactly, piece\n"
     ]
    }
   ],
   "source": [
    "word_strengths = display_t(final_model, feature_names, no_top_words, topic_names=topics)"
   ]
  },
  {
   "cell_type": "code",
   "execution_count": 162,
   "metadata": {
    "ExecuteTime": {
     "end_time": "2019-11-15T00:22:31.701560Z",
     "start_time": "2019-11-15T00:22:31.676010Z"
    },
    "hidden": true
   },
   "outputs": [],
   "source": [
    "word_strengths.to_pickle(f'{PICKLE_PATH}/word_strengths.pkl')"
   ]
  },
  {
   "cell_type": "markdown",
   "metadata": {
    "heading_collapsed": true
   },
   "source": [
    "## Transform Full Data Set"
   ]
  },
  {
   "cell_type": "code",
   "execution_count": 115,
   "metadata": {
    "ExecuteTime": {
     "end_time": "2019-11-14T19:36:31.084361Z",
     "start_time": "2019-11-14T19:36:21.142466Z"
    },
    "hidden": true
   },
   "outputs": [],
   "source": [
    "# Vectorize with same vectorizer we used for data subset \n",
    "doc_word_matrix_x = final_vec.transform(docs_full_list_joined)\n",
    "# Transform with same model we used for data subset\n",
    "doc_topic_x = final_model.transform(doc_word_matrix_x)\n"
   ]
  },
  {
   "cell_type": "code",
   "execution_count": 117,
   "metadata": {
    "ExecuteTime": {
     "end_time": "2019-11-14T19:47:56.628481Z",
     "start_time": "2019-11-14T19:47:56.609670Z"
    },
    "hidden": true
   },
   "outputs": [],
   "source": [
    "# Join Full dataframe with topic strengths — which aare same order as original dataframe\n",
    "doc_topic_df = pd.DataFrame(doc_topic_x, columns=topics)\n",
    "df_full = df_full.reset_index(drop=True)\n",
    "df_full_topics = pd.concat([df_full, doc_topic_df], axis=1)\n"
   ]
  },
  {
   "cell_type": "markdown",
   "metadata": {
    "hidden": true
   },
   "source": [
    "### Pickle"
   ]
  },
  {
   "cell_type": "code",
   "execution_count": 131,
   "metadata": {
    "ExecuteTime": {
     "end_time": "2019-11-14T20:07:32.349958Z",
     "start_time": "2019-11-14T20:07:32.103899Z"
    },
    "hidden": true
   },
   "outputs": [],
   "source": [
    "df_full = df_full.reset_index(drop=True)"
   ]
  },
  {
   "cell_type": "code",
   "execution_count": 133,
   "metadata": {
    "ExecuteTime": {
     "end_time": "2019-11-14T20:09:27.222079Z",
     "start_time": "2019-11-14T20:09:26.618705Z"
    },
    "hidden": true
   },
   "outputs": [],
   "source": [
    "df_full_topics = pd.concat([df_full, doc_topic_df], axis=1)"
   ]
  },
  {
   "cell_type": "code",
   "execution_count": 24,
   "metadata": {
    "ExecuteTime": {
     "end_time": "2019-11-19T20:02:59.434903Z",
     "start_time": "2019-11-19T20:02:50.690322Z"
    },
    "hidden": true
   },
   "outputs": [],
   "source": [
    "# too big for github, store in datapath\n",
    "df_full_topics.to_pickle(f'{DATA_PATH}/full_docs_topics_w_text.pkl')"
   ]
  },
  {
   "cell_type": "code",
   "execution_count": 25,
   "metadata": {
    "ExecuteTime": {
     "end_time": "2019-11-19T20:03:03.239635Z",
     "start_time": "2019-11-19T20:03:02.958154Z"
    },
    "hidden": true
   },
   "outputs": [],
   "source": [
    "# save without text, for viz and github\n",
    "df_full_topics.drop('selftext', axis=1).to_pickle(f'{PICKLE_PATH}/full_docs_topics.pkl')"
   ]
  },
  {
   "cell_type": "markdown",
   "metadata": {
    "ExecuteTime": {
     "end_time": "2019-11-11T20:32:25.978060Z",
     "start_time": "2019-11-11T20:32:25.974331Z"
    }
   },
   "source": [
    "# Results in to [ Viz Notebook](reddit_nosleep_serve_viz.ipynb)"
   ]
  }
 ],
 "metadata": {
  "kernelspec": {
   "display_name": "Python 3",
   "language": "python",
   "name": "python3"
  },
  "language_info": {
   "codemirror_mode": {
    "name": "ipython",
    "version": 3
   },
   "file_extension": ".py",
   "mimetype": "text/x-python",
   "name": "python",
   "nbconvert_exporter": "python",
   "pygments_lexer": "ipython3",
   "version": "3.7.4"
  },
  "toc": {
   "base_numbering": 1,
   "nav_menu": {},
   "number_sections": true,
   "sideBar": true,
   "skip_h1_title": false,
   "title_cell": "Table of Contents",
   "title_sidebar": "Contents",
   "toc_cell": false,
   "toc_position": {
    "height": "calc(100% - 180px)",
    "left": "10px",
    "top": "150px",
    "width": "165px"
   },
   "toc_section_display": true,
   "toc_window_display": true
  },
  "varInspector": {
   "cols": {
    "lenName": 16,
    "lenType": 16,
    "lenVar": 40
   },
   "kernels_config": {
    "python": {
     "delete_cmd_postfix": "",
     "delete_cmd_prefix": "del ",
     "library": "var_list.py",
     "varRefreshCmd": "print(var_dic_list())"
    },
    "r": {
     "delete_cmd_postfix": ") ",
     "delete_cmd_prefix": "rm(",
     "library": "var_list.r",
     "varRefreshCmd": "cat(var_dic_list()) "
    }
   },
   "types_to_exclude": [
    "module",
    "function",
    "builtin_function_or_method",
    "instance",
    "_Feature"
   ],
   "window_display": false
  }
 },
 "nbformat": 4,
 "nbformat_minor": 2
}
