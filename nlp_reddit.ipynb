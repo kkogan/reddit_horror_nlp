{
 "cells": [
  {
   "cell_type": "markdown",
   "metadata": {},
   "source": [
    "# Imports"
   ]
  },
  {
   "cell_type": "code",
   "execution_count": 349,
   "metadata": {
    "ExecuteTime": {
     "end_time": "2019-11-13T04:17:28.268544Z",
     "start_time": "2019-11-13T04:17:28.242470Z"
    }
   },
   "outputs": [
    {
     "name": "stdout",
     "output_type": "stream",
     "text": [
      "cores 8\n"
     ]
    },
    {
     "data": {
      "text/html": [
       "<style>.container { width:100% !important; }</style>"
      ],
      "text/plain": [
       "<IPython.core.display.HTML object>"
      ]
     },
     "metadata": {},
     "output_type": "display_data"
    }
   ],
   "source": [
    "#misc\n",
    "import logging\n",
    "import os\n",
    "import pprint\n",
    "logging.basicConfig(level=logging.INFO)\n",
    "\n",
    "import multiprocessing\n",
    "print(\"cores\", multiprocessing.cpu_count())\n",
    "from IPython.core.display import display, HTML\n",
    "display(HTML(\"<style>.container { width:100% !important; }</style>\"))\n",
    "\n",
    "# http\n",
    "import requests\n",
    "import json\n",
    "from datetime import datetime, date, timedelta\n",
    "import time\n",
    "from bs4 import BeautifulSoup\n",
    "\n",
    "\n",
    "# data viz\n",
    "import matplotlib.pyplot as plt\n",
    "import seaborn as sns\n",
    "sns.set()\n",
    "%matplotlib inline\n",
    "\n",
    "# data\n",
    "import numpy as np\n",
    "#import dask.dataframe as pd\n",
    "import pandas as pd\n",
    "import pickle\n",
    "from collections import defaultdict\n",
    "import re\n",
    "pd.set_option('display.max_columns', 500)\n",
    "pd.set_option('display.max_rows', 500)\n",
    "pd.set_option('display.max_colwidth', -1)\n",
    "from copy import deepcopy\n",
    "\n",
    "#nlp\n",
    "import spacy\n",
    "from spacy.lemmatizer import Lemmatizer\n",
    "from spacy.lang.en.stop_words import STOP_WORDS\n",
    "from sense2vec import Sense2VecComponent\n",
    "from spacy import displacy\n",
    "from tqdm import tqdm_notebook as tqdm\n",
    "\n",
    "\n",
    "import gensim\n",
    "import gensim.corpora as corpora\n",
    "from gensim import matutils\n",
    "from gensim.utils import simple_preprocess\n",
    "from gensim.models import CoherenceModel\n",
    "from gensim.models.ldamulticore import LdaMulticore\n",
    "from gensim.models.ldamodel import LdaModel\n",
    "from gensim.models.phrases import Phrases, Phraser\n",
    "\n",
    "import pyLDAvis.gensim\n",
    "import pyLDAvis.sklearn\n",
    "pyLDAvis.enable_notebook()\n",
    "\n",
    "import pandas as pd\n",
    "from sklearn.feature_extraction.text import CountVectorizer, TfidfVectorizer \n",
    "from sklearn.decomposition import TruncatedSVD\n",
    "from sklearn.decomposition import NMF\n",
    "from sklearn.metrics.pairwise import cosine_similarity\n",
    "from sklearn.decomposition import LatentDirichletAllocation\n",
    "\n",
    "\n",
    "# Constants\n",
    "RANDOM_STATE=42\n",
    "SAMPLE_SIZE=2000\n",
    "WORKERS=3"
   ]
  },
  {
   "cell_type": "markdown",
   "metadata": {
    "ExecuteTime": {
     "end_time": "2019-11-12T19:03:49.169437Z",
     "start_time": "2019-11-12T19:03:49.166930Z"
    },
    "heading_collapsed": true
   },
   "source": [
    "# Read saved sample"
   ]
  },
  {
   "cell_type": "code",
   "execution_count": 222,
   "metadata": {
    "ExecuteTime": {
     "end_time": "2019-11-12T22:32:38.023427Z",
     "start_time": "2019-11-12T22:32:37.890768Z"
    },
    "hidden": true
   },
   "outputs": [],
   "source": [
    "#df_sample = df_full.head(20000).sample(SAMPLE_SIZE, random_state=RANDOM_STATE)\n",
    "df_sample = pd.read_pickle('./reddit_df_19_sub.pkl')"
   ]
  },
  {
   "cell_type": "code",
   "execution_count": 223,
   "metadata": {
    "ExecuteTime": {
     "end_time": "2019-11-12T22:32:40.244262Z",
     "start_time": "2019-11-12T22:32:39.843070Z"
    },
    "hidden": true
   },
   "outputs": [
    {
     "data": {
      "text/plain": [
       "<matplotlib.axes._subplots.AxesSubplot at 0x1a89db5a10>"
      ]
     },
     "execution_count": 223,
     "metadata": {},
     "output_type": "execute_result"
    },
    {
     "data": {
      "image/png": "[encoded data removed]",
      "text/plain": [
       "<Figure size 432x288 with 1 Axes>"
      ]
     },
     "metadata": {
      "needs_background": "light"
     },
     "output_type": "display_data"
    }
   ],
   "source": [
    "sns.distplot(df_sample['score'])"
   ]
  },
  {
   "cell_type": "markdown",
   "metadata": {
    "ExecuteTime": {
     "end_time": "2019-11-09T23:40:12.984924Z",
     "start_time": "2019-11-09T23:40:12.971123Z"
    }
   },
   "source": [
    "# Preprocess"
   ]
  },
  {
   "cell_type": "markdown",
   "metadata": {
    "ExecuteTime": {
     "end_time": "2019-11-12T19:30:09.783933Z",
     "start_time": "2019-11-12T19:30:09.779737Z"
    },
    "heading_collapsed": true
   },
   "source": [
    "## get text column"
   ]
  },
  {
   "cell_type": "code",
   "execution_count": 249,
   "metadata": {
    "ExecuteTime": {
     "end_time": "2019-11-13T02:01:38.027724Z",
     "start_time": "2019-11-13T02:01:38.014094Z"
    },
    "hidden": true
   },
   "outputs": [
    {
     "data": {
      "text/plain": [
       "count     100                                                                                                                                                                                                                                                                                                                                                                                                                                                                                                                                                                                                                                                                                                                                                                                                                                                                                                                                                                                                                                                                                                                                                                                                                                                                                                                                                                                                                                                                                                                                                                                                                                                                                                                                                                                                                                                                                                                                                                                                                                                                                                                                                                                                                                                                                                                                                                                                                                                                                                                                                                                                                                                                                                                                                                                                                                                                                                                                                                                                                                                                                                                                                                                                                                                                                                                                                                                                                                                                                                                                                                                                                                                                                                                                                                                                                                                                                                                                                                                                                                                                                                                                                                                                                                                                                                                                                                                                                                                                                                                                                                                                                                                                                                                                                                                                                                                                                                                                                                                                                                                                                                                                                                                                                                                                                                                                                                                                                                                                                                                                                                                                                                                                                                                                                                                                                                                                                                                                                                                                                                                  \n",
       "unique    100                                                                                                                                                                                                                                                                                                                                                                                                                                                                                                                                                                                                                                                                                                                                                                                                                                                                                                                                                                                                                                                                                                                                                                                                                                                                                                                                                                                                                                                                                                                                                                                                                                                                                                                                                                                                                                                                                                                                                                                                                                                                                                                                                                                                                                                                                                                                                                                                                                                                                                                                                                                                                                                                                                                                                                                                                                                                                                                                                                                                                                                                                                                                                                                                                                                                                                                                                                                                                                                                                                                                                                                                                                                                                                                                                                                                                                                                                                                                                                                                                                                                                                                                                                                                                                                                                                                                                                                                                                                                                                                                                                                                                                                                                                                                                                                                                                                                                                                                                                                                                                                                                                                                                                                                                                                                                                                                                                                                                                                                                                                                                                                                                                                                                                                                                                                                                                                                                                                                                                                                                                                  \n",
       "top       Hi everyone my name is Ava Wayne and today I am eight years old :) . I was eight yesterday for the first time but now I am even older! I got to use my mom’s computer today (but shhh don’t tell her!). Last night when my dad came home from work he brought me a big chocolate cake with vanilla frosting that had my name of it and I got to blow out the candles. I didn’t even have to eat dinner first! It was the best day even though I didn’t have a party. \\n\\n&\\n\\n&\\n\\nIt doesn’t matter though because I’ve never had a party before. My mom and dad say that I’m not allowed because we can’t have any other people in the house. They lie and tell me that it’s because we live too far away but I know that it is because of my friend Eevie who lives with us. Eevie looks exactly like me and we are like sisters. She is not really my sister though, we just say that. \\n\\n&\\n\\n&\\n\\nEevie can do this really cool trick where she can move my arms and say things in my voice. Sometimes it is a little bit annoying but she’s my friend so it’s okay. My mom and dad don’t like Eevie though and this makes her very mad. \\n\\n&\\n\\n&\\n\\nMy mom says that Eevie needs help and we have to see someone for her. I don’t know what she means, but Eevie says that my mom is a liar and I don’t like telling Eevie that she is wrong. My dad gets really mad and yells at Eevie to stop and to shut up and leave me alone but that just makes her more mad. I’ve tried to tell him to stop but he doesn’t listen. \\n\\n&\\n\\n&\\n\\nYesterday when my dad brought home the cake he asked me if I liked it and I told him yes and that Eevie liked it too. He got really mad but my mom told him that it was not the time and he didn’t say anything about her. \\n\\n&\\n\\n&\\n\\nWhen they lit the candles and told me to make a wish I didn’t know what to wish for. I kind of wanted some new paints so that I could make more paintings for my room, but I also wanted a puppy or some new toys. Mostly I wanted to wish for Eevie to stay but Eevie thought that was a stupid wish because she says she’s always going to be with me forever so I didn’t wish for that. \\n\\n&\\n\\n&\\n\\nI asked Eevie what else I should wish for and my dad got really mad and told me to just make a wish already because this was none of Eevies business. That made me a little bit sad because it was Eevie’s business and she was with us and that was rude of him to yell at her like that. My mom said it was okay but dad said that it was not normal. Eevie was also getting mad because dad said she wasn’t normal. Everyone was just mad mad mad and I almost cried but then Eevie told me to just make my wish because she would make any of my wishes come true. \\n\\n&\\n\\n&\\n\\nI thought about it really hard but then mom told me to hurry up or else the cake was going to get ruined so I finally decided to wish for my parents to leave Eevie alone and be nice to her. Then I blew out the candles and my mom clapped but I could tell that my dad was still mad. \\n\\n&\\n\\n&\\n\\nWe ate cake anyway but I didn’t ask if Eevie could have some because it was finally a good time. We finished the ENTIRE cake all by ourselves and I was even allowed to have TWO WHOLE PIECES. It was awesome. \\n\\n&\\n\\n&\\n\\nLast night I had a really scary nightmare that I stabbed my mom and my dad in their bed when they were asleep. It was really scary and I woke up and cried but I don’t think they heard me because no one came to check on me. Only Eevie was there and she said it was okay. \\n\\n&\\n\\n&\\n\\nWhen it was morning I got up but my mom didn’t make any breakfast and she didn’t answer when I was yelling for her. Eevie says that they are still asleep and that I shouldn’t go up to their room so I didn’t. \\n\\n&\\n\\n&\\n\\nEevie helped me to make breakfast. She showed me how to make a burrito with eggs and some chicken that she bought. It was really messy because Eevie said that it was fresh meat that had just been killed. I already know that they kill animals for food because my grandpa has a farm and I had seen them make a turkey before so I knew that it was very messy. \\n\\n&\\n\\n&\\n\\nAfter I ate Eevie said that we could watch tv. She said that I didn’t even have to clean up because mom and dad weren’t going to even see it. She told me that she made my wish come true and that they weren’t going to be mad at us anymore and they weren’t going to yell at us either. Eevie says that now we can do whatever we want. \\n\\n&\\n\\n&\\n\\nI had ice cream and I watched cartoons all morning instead of going to school and when the phone rang and the school called Eevie talked to them and she sounded just like my mom! She told them that I was sick and the lady believed her! It was so fun and I didn’t even know that she could do that!\\n\\n&\\n\\n&\\n\\nEevie let me use my moms laptop because she says she knows the password. She told me I could write on here like a diary and post it so other people could read it! Isn’t that so cool? I wonder who is reading this haha :). \\n\\n&\\n\\n&\\n\\nEevie just made me lunch and it was a sandwich with meat again. I don't eat this much meat because my mom likes for me to eat my veggies but Eevie says that mom is not the boss anymore so I can eat whatever I want. I had a lot of chips and my tummy started to hurt and I really wanted my mom but Eevie said that it was okay and she could make it feel better. \\n\\n&\\n\\n&\\n\\nEevie told me to take a nap and so I did but I had another scary dream that I was cutting up mom and dad because Eevie was making me. When I woke up Eevie said it was just a dream because mom and dad were still asleep upstairs. I want to go and see them but Eevie says I can’t or else it will ruin the wish and we will get in big trouble for making a mess and eating junk. \\n\\n&\\n\\n&\\n\\nI think I’m going to go play hide-and-seek with Eevie now. :)\\n\\n&\\n\\n&\\n\\nLove, Ava &lt;3\n",
       "freq      1                                                                                                                                                                                                                                                                                                                                                                                                                                                                                                                                                                                                                                                                                                                                                                                                                                                                                                                                                                                                                                                                                                                                                                                                                                                                                                                                                                                                                                                                                                                                                                                                                                                                                                                                                                                                                                                                                                                                                                                                                                                                                                                                                                                                                                                                                                                                                                                                                                                                                                                                                                                                                                                                                                                                                                                                                                                                                                                                                                                                                                                                                                                                                                                                                                                                                                                                                                                                                                                                                                                                                                                                                                                                                                                                                                                                                                                                                                                                                                                                                                                                                                                                                                                                                                                                                                                                                                                                                                                                                                                                                                                                                                                                                                                                                                                                                                                                                                                                                                                                                                                                                                                                                                                                                                                                                                                                                                                                                                                                                                                                                                                                                                                                                                                                                                                                                                                                                                                                                                                                                                                    \n",
       "Name: selftext, dtype: object"
      ]
     },
     "execution_count": 249,
     "metadata": {},
     "output_type": "execute_result"
    }
   ],
   "source": [
    "docs_a = df_sample['selftext']\n",
    "docs_a.describe()"
   ]
  },
  {
   "cell_type": "code",
   "execution_count": null,
   "metadata": {
    "hidden": true
   },
   "outputs": [],
   "source": []
  },
  {
   "cell_type": "markdown",
   "metadata": {},
   "source": [
    "## Stopwords\n",
    "(Notes as I spot them)\n",
    "- trigger warning: <trigger type>\n",
    "- [part %d]\n",
    "- voting thread\n",
    "- mods\n",
    "- http.*\n",
    "- sub\n",
    "- post\n",
    "- reddit"
   ]
  },
  {
   "cell_type": "markdown",
   "metadata": {
    "ExecuteTime": {
     "end_time": "2019-11-12T19:16:40.677021Z",
     "start_time": "2019-11-12T19:16:40.673828Z"
    }
   },
   "source": [
    "## Pipeline"
   ]
  },
  {
   "cell_type": "code",
   "execution_count": 250,
   "metadata": {
    "ExecuteTime": {
     "end_time": "2019-11-13T02:01:48.483534Z",
     "start_time": "2019-11-13T02:01:48.472253Z"
    }
   },
   "outputs": [],
   "source": [
    "# def remove_markdown(doc):\n",
    "    \n",
    "#     text = BeautifulSoup(' '.join(doc)).text\n",
    "#     return nlp.make_doc(text)\n",
    "\n",
    "# def remove_special_chars(doc):\n",
    "#     text = BeautifulSoup(' '.join(doc)).text\n",
    "#     return nlp.make_doc(text)\n",
    "\n",
    "def lowercase(doc):\n",
    "    doc = [token.lower_ for token in doc]\n",
    "    doc = ' '.join(doc)\n",
    "    return nlp.make_doc(doc)\n",
    "\n",
    "def lemmatizer(doc):\n",
    "    # This takes in a doc of tokens from the NER and lemmatizes them. \n",
    "    # Pronouns (like \"I\" and \"you\" get lemmatized to '-PRON-', so I'm removing those.\n",
    "    doc = [token.lemma_ for token in doc]\n",
    "    doc = ' '.join(doc)\n",
    "    return nlp.make_doc(doc)\n",
    "\n",
    "def filter_doc(doc):\n",
    "    doc = [token.text for token in doc \n",
    "           if token.is_space != True\n",
    "           and token.like_url != True \n",
    "           and token.like_email != True \n",
    "           and token.is_punct != True \n",
    "          ] \n",
    "    doc = ' '.join(doc)\n",
    "    return nlp.make_doc(doc)\n",
    "\n",
    "def norm(doc):\n",
    "    doc = [token.norm_ for token in doc] \n",
    "    doc = ' '.join(doc)\n",
    "    return nlp.make_doc(doc)\n",
    "\n",
    "def remove_pronouns(doc):\n",
    "    # This will remove stopwords and punctuation and whitespace.\n",
    "    # Use token.text to return strings, which we'll need for Gensim.\n",
    "    doc = [token.text for token in doc if token.lemma_ != '-PRON-'] \n",
    "    doc = ' '.join(doc)\n",
    "    return nlp.make_doc(doc)\n",
    "\n",
    "def remove_stopwords(doc):\n",
    "    # This will remove stopwords and punctuation and whitespace.\n",
    "    # Use token.text to return strings, which we'll need for Gensim.\n",
    "    doc = [token.text for token in doc if not token.is_stop] \n",
    "    doc = ' '.join(doc)\n",
    "    return nlp.make_doc(doc)"
   ]
  },
  {
   "cell_type": "code",
   "execution_count": 246,
   "metadata": {
    "ExecuteTime": {
     "end_time": "2019-11-13T00:41:33.163290Z",
     "start_time": "2019-11-13T00:41:14.739527Z"
    }
   },
   "outputs": [
    {
     "name": "stderr",
     "output_type": "stream",
     "text": [
      "//anaconda3/envs/reddit/lib/python3.7/site-packages/msgpack_numpy.py:184: DeprecationWarning: encoding is deprecated, Use raw=False instead.\n",
      "  return _unpackb(packed, **kwargs)\n",
      "//anaconda3/envs/reddit/lib/python3.7/site-packages/msgpack_numpy.py:184: DeprecationWarning: encoding is deprecated, Use raw=False instead.\n",
      "  return _unpackb(packed, **kwargs)\n",
      "//anaconda3/envs/reddit/lib/python3.7/site-packages/msgpack_numpy.py:184: DeprecationWarning: encoding is deprecated, Use raw=False instead.\n",
      "  return _unpackb(packed, **kwargs)\n",
      "//anaconda3/envs/reddit/lib/python3.7/site-packages/msgpack_numpy.py:184: DeprecationWarning: encoding is deprecated, Use raw=False instead.\n",
      "  return _unpackb(packed, **kwargs)\n",
      "//anaconda3/envs/reddit/lib/python3.7/site-packages/msgpack_numpy.py:184: DeprecationWarning: encoding is deprecated, Use raw=False instead.\n",
      "  return _unpackb(packed, **kwargs)\n",
      "//anaconda3/envs/reddit/lib/python3.7/site-packages/msgpack_numpy.py:184: DeprecationWarning: encoding is deprecated, Use raw=False instead.\n",
      "  return _unpackb(packed, **kwargs)\n",
      "//anaconda3/envs/reddit/lib/python3.7/site-packages/msgpack_numpy.py:184: DeprecationWarning: encoding is deprecated, Use raw=False instead.\n",
      "  return _unpackb(packed, **kwargs)\n",
      "//anaconda3/envs/reddit/lib/python3.7/site-packages/msgpack_numpy.py:184: DeprecationWarning: encoding is deprecated, Use raw=False instead.\n",
      "  return _unpackb(packed, **kwargs)\n"
     ]
    }
   ],
   "source": [
    "nlp = spacy.load('en_core_web_md')\n",
    "\n",
    "stop_words = list(pd.read_csv('news-stopwords/sw10k.csv')['term'])\n",
    "stop_words.extend([\n",
    "    'know', 'like', 'look', 'nosleep', 'reddit', 'post', '’s', \"\\'s\", \"'s\", \n",
    "])\n",
    "\n",
    "# Updates spaCy's default stop words list with my additional words. \n",
    "nlp.Defaults.stop_words.update(stop_words)\n",
    "# Iterates over the words in the stop words list and resets the \"is_stop\" flag.\n",
    "for word in STOP_WORDS:\n",
    "    lexeme = nlp.vocab[word]\n",
    "    lexeme.is_stop = True\n",
    "    \n",
    "\n",
    "#merge_ents = nlp.create_pipe(\"merge_entities\")\n",
    "#nlp.add_pipe(merge_ents,after='lemmatizer')    \n",
    "#merge_nps = nlp.create_pipe(\"merge_noun_chunks\")\n",
    "#nlp.add_pipe(merge_nps, after='parser')\n",
    "# s2v = Sense2VecComponent(nlp.vocab).from_disk(\"/Users/kirill.kogan/Documents/data/models/sense2vec-vectors/\")\n",
    "# nlp.add_pipe(s2v)    \n",
    "    \n",
    "#nlp.add_pipe(remove_markdown, name='remove_markdown', first=True)\n",
    "#nlp.add_pipe(lemmatizer, name='lemmatizer', before='ner')\n",
    "nlp.add_pipe(filter_doc, name='filter_doc', after='ner')\n",
    "nlp.add_pipe(lowercase, name='lowercase', after='filter_doc')\n",
    "nlp.add_pipe(norm, name=\"norm\", after='lowercase')\n",
    "nlp.add_pipe(remove_stopwords, name=\"remove_stopwords\", after='norm')\n"
   ]
  },
  {
   "cell_type": "code",
   "execution_count": 247,
   "metadata": {
    "ExecuteTime": {
     "end_time": "2019-11-13T00:41:37.035849Z",
     "start_time": "2019-11-13T00:41:37.030078Z"
    }
   },
   "outputs": [
    {
     "data": {
      "text/plain": [
       "True"
      ]
     },
     "execution_count": 247,
     "metadata": {},
     "output_type": "execute_result"
    }
   ],
   "source": [
    "nlp.vocab['not'].is_stop"
   ]
  },
  {
   "cell_type": "markdown",
   "metadata": {
    "ExecuteTime": {
     "end_time": "2019-11-12T19:20:21.775338Z",
     "start_time": "2019-11-12T19:20:21.772525Z"
    }
   },
   "source": [
    "## Run Pipe"
   ]
  },
  {
   "cell_type": "code",
   "execution_count": 182,
   "metadata": {
    "ExecuteTime": {
     "end_time": "2019-11-12T21:50:20.413089Z",
     "start_time": "2019-11-12T21:50:20.406935Z"
    }
   },
   "outputs": [
    {
     "name": "stdout",
     "output_type": "stream",
     "text": [
      "['tagger', 'parser', 'ner', 'filter_doc', 'lowercase', 'remove_stopwords', 'norm']\n"
     ]
    }
   ],
   "source": [
    "print(nlp.pipe_names)"
   ]
  },
  {
   "cell_type": "code",
   "execution_count": 183,
   "metadata": {
    "ExecuteTime": {
     "end_time": "2019-11-12T21:50:21.295384Z",
     "start_time": "2019-11-12T21:50:21.292807Z"
    }
   },
   "outputs": [],
   "source": [
    "test_doc = docs_a.iloc[0]"
   ]
  },
  {
   "cell_type": "code",
   "execution_count": 163,
   "metadata": {
    "ExecuteTime": {
     "end_time": "2019-11-12T21:43:28.223002Z",
     "start_time": "2019-11-12T21:43:27.670672Z"
    }
   },
   "outputs": [
    {
     "name": "stderr",
     "output_type": "stream",
     "text": [
      "//anaconda3/envs/reddit/lib/python3.7/runpy.py:193: UserWarning: [W006] No entities to visualize found in Doc object. If this is surprising to you, make sure the Doc was processed using a model that supports named entity recognition, and check the `doc.ents` property manually if necessary.\n",
      "  \"__main__\", mod_spec)\n"
     ]
    },
    {
     "data": {
      "text/html": [
       "<div class=\"entities\" style=\"line-height: 2.5\">tinder thirties $ swiped tinder sweetheart cringed hated sucked specified venmo stared $ not clicked not stared am favors not naive will would tinder kik kik texted am omw buzzed driveway am sore thumb nicer shit doorway skimming muscles torso tattoos uh not gripped cardboard shoebox stained damp trunk alright not drown not driveway admiring pillars porch greenest locking overboard stared cushioned maroon admired furnish ringing froze buzzed not not marvin poking caller creeped not remembering have favors briefcase julio have $ 3500 not proceeded $ driveway porch unlocked wandered marvin not faucets not anyone- are- closet gardener fridge will goodnight regretting would haunted lounged shit 8:50 brushed faucet closet hallway couch couch scrolling not peculiar dozed 10:16 woken doorbell ringing not anyone- are- couch paranoid slightest not are not heartbeat doorbell not not doorbell not asleep gardener unlocked peered stove stirring brewed not scrambled motioning spoon drank freaky awkwardness am going trailed not will driveway unpacked stared buzzed snapping $ not am are errands stared am am not was- not</div>"
      ],
      "text/plain": [
       "<IPython.core.display.HTML object>"
      ]
     },
     "metadata": {},
     "output_type": "display_data"
    }
   ],
   "source": [
    "displacy.render(nlp(test_doc), style=\"ent\", jupyter=True)"
   ]
  },
  {
   "cell_type": "code",
   "execution_count": 184,
   "metadata": {
    "ExecuteTime": {
     "end_time": "2019-11-12T21:50:48.723237Z",
     "start_time": "2019-11-12T21:50:22.126648Z"
    }
   },
   "outputs": [
    {
     "name": "stderr",
     "output_type": "stream",
     "text": [
      "//anaconda3/envs/reddit/lib/python3.7/site-packages/tqdm/__init__.py:27: TqdmDeprecationWarning: This function will be removed in tqdm==5.0.0\n",
      "Please use `tqdm.notebook.tqdm` instead of `tqdm.tqdm_notebook`\n",
      "  TqdmDeprecationWarning)\n"
     ]
    },
    {
     "data": {
      "application/vnd.jupyter.widget-view+json": {
       "model_id": "09fcdc5fc5f743848a1140b21222263a",
       "version_major": 2,
       "version_minor": 0
      },
      "text/plain": [
       "HBox(children=(IntProgress(value=0, max=50), HTML(value='')))"
      ]
     },
     "metadata": {},
     "output_type": "display_data"
    },
    {
     "name": "stdout",
     "output_type": "stream",
     "text": [
      "\n"
     ]
    }
   ],
   "source": [
    "doc_list = []\n",
    "# Iterates through each article in the corpus.\n",
    "for doc in  nlp.pipe(tqdm(docs_a), batch_size=10, n_threads=WORKERS):\n",
    "    #text = [token.text for token in doc]\n",
    "    doc_list.append([token.text for token in doc])\n"
   ]
  },
  {
   "cell_type": "code",
   "execution_count": 198,
   "metadata": {
    "ExecuteTime": {
     "end_time": "2019-11-12T21:54:04.139156Z",
     "start_time": "2019-11-12T21:54:03.639253Z"
    }
   },
   "outputs": [
    {
     "name": "stdout",
     "output_type": "stream",
     "text": [
      "['tinder', 'thirties', '$', 'swiped', 'tinder', 'sweetheart', 'cringed', 'hated', 'sucked', 'specified', 'venmo', 'stared', '$', 'clicked', 'stared', 'favors', 'naive', 'tinder', 'kik', 'kik', 'texted', 'omw', 'buzzed', 'driveway', 'sore', 'thumb', 'nicer', 'shit', 'doorway', 'skimming', 'muscles', 'torso', 'tattoos', 'uh', 'gripped', 'cardboard', 'shoebox', 'stained', 'damp', 'trunk', 'alright', 'drown', 'driveway', 'admiring', 'pillars', 'porch', 'greenest', 'locking', 'overboard', 'stared', 'cushioned', 'maroon', 'admired', 'furnish', 'ringing', 'froze', 'buzzed', 'marvin', 'poking', 'caller', 'creeped', 'remembering', 'favors', 'briefcase', 'julio', '$', '3500', 'proceeded', '$', 'driveway', 'porch', 'unlocked', 'wandered', 'marvin', 'faucets', 'anyone-', 'are-', 'closet', 'gardener', 'fridge', 'goodnight', 'regretting', 'haunted', 'lounged', 'shit', '8:50', 'brushed', 'faucet', 'closet', 'hallway', 'couch', 'couch', 'scrolling', 'peculiar', 'dozed', '10:16', 'woken', 'doorbell', 'ringing', 'anyone-', 'are-', 'couch', 'paranoid', 'slightest', 'heartbeat', 'doorbell', 'doorbell', 'asleep', 'gardener', 'unlocked', 'peered', 'stove', 'stirring', 'brewed', 'scrambled', 'motioning', 'spoon', 'drank', 'freaky', 'awkwardness', 'trailed', 'driveway', 'unpacked', 'stared', 'buzzed', 'snapping', '$', 'errands', 'stared', 'was-']\n"
     ]
    }
   ],
   "source": [
    "doc = nlp(test_doc)\n",
    "print([token.text for token in doc if not token.is_stop])"
   ]
  },
  {
   "cell_type": "markdown",
   "metadata": {},
   "source": [
    "## Phrases"
   ]
  },
  {
   "cell_type": "code",
   "execution_count": 199,
   "metadata": {
    "ExecuteTime": {
     "end_time": "2019-11-12T21:54:22.521348Z",
     "start_time": "2019-11-12T21:54:22.497230Z"
    }
   },
   "outputs": [
    {
     "name": "stderr",
     "output_type": "stream",
     "text": [
      "INFO:gensim.corpora.dictionary:adding document #0 to Dictionary(0 unique tokens: [])\n",
      "INFO:gensim.corpora.dictionary:built Dictionary(4024 unique tokens: ['$', '10:16', '3500', '8:50', 'admired']...) from 50 documents (total 10208 corpus positions)\n"
     ]
    }
   ],
   "source": []
  },
  {
   "cell_type": "code",
   "execution_count": 200,
   "metadata": {
    "ExecuteTime": {
     "end_time": "2019-11-12T21:54:23.390714Z",
     "start_time": "2019-11-12T21:54:23.380899Z"
    }
   },
   "outputs": [],
   "source": [
    "# Turns each document into a bag of words.\n",
    "words = corpora.Dictionary(doc_list)\n",
    "corpus = [words.doc2bow(doc) for doc in doc_list]"
   ]
  },
  {
   "cell_type": "code",
   "execution_count": 201,
   "metadata": {
    "ExecuteTime": {
     "end_time": "2019-11-12T21:54:24.224275Z",
     "start_time": "2019-11-12T21:54:24.221707Z"
    }
   },
   "outputs": [
    {
     "name": "stdout",
     "output_type": "stream",
     "text": [
      "<gensim.corpora.dictionary.Dictionary object at 0x1ac18a0f90>\n"
     ]
    }
   ],
   "source": [
    "pprint.pprint(words)"
   ]
  },
  {
   "cell_type": "markdown",
   "metadata": {
    "ExecuteTime": {
     "end_time": "2019-11-11T20:05:51.406636Z",
     "start_time": "2019-11-11T20:05:51.403347Z"
    }
   },
   "source": [
    "### Title column"
   ]
  },
  {
   "cell_type": "markdown",
   "metadata": {
    "ExecuteTime": {
     "end_time": "2019-11-11T16:07:53.157538Z",
     "start_time": "2019-11-11T16:07:53.148838Z"
    }
   },
   "source": [
    "# Topics"
   ]
  },
  {
   "cell_type": "code",
   "execution_count": null,
   "metadata": {},
   "outputs": [],
   "source": [
    "# make binary count vectorizer X NMF\n",
    "# make count vectorizer X NMF\n",
    "# make tfidf vectorizer X NMF\n",
    "\n",
    "# make binary count vectorizer X LDA\n",
    "# make count vectorizer X LDA\n",
    "# make tfidf vectorizer X LDA\n",
    "\n",
    "# make binary count vectorizer X COREX\n",
    "# make count vectorizer X COREX\n",
    "# make tfidf vectorizer X COREX\n",
    "\n",
    "\n",
    "# look into BERT\n",
    "# "
   ]
  },
  {
   "cell_type": "markdown",
   "metadata": {
    "ExecuteTime": {
     "end_time": "2019-11-11T16:10:39.901768Z",
     "start_time": "2019-11-11T16:10:39.898927Z"
    }
   },
   "source": [
    "## Topic Text Params"
   ]
  },
  {
   "cell_type": "markdown",
   "metadata": {},
   "source": [
    "## Topic Modeling"
   ]
  },
  {
   "cell_type": "markdown",
   "metadata": {},
   "source": [
    "### Latent Semantic Analysis\n",
    "Acronynms: Latent Semantic Analysis (LSA) is just another name for \n",
    "Signular Value Decomposition (SVD) applied to Natural Language Processing (NLP)"
   ]
  },
  {
   "cell_type": "code",
   "execution_count": 202,
   "metadata": {
    "ExecuteTime": {
     "end_time": "2019-11-12T21:54:27.277589Z",
     "start_time": "2019-11-12T21:54:27.273967Z"
    }
   },
   "outputs": [],
   "source": [
    "docs_list_joined = [' '.join(words) for words in doc_list]"
   ]
  },
  {
   "cell_type": "code",
   "execution_count": 203,
   "metadata": {
    "ExecuteTime": {
     "end_time": "2019-11-12T21:54:28.527563Z",
     "start_time": "2019-11-12T21:54:28.524032Z"
    }
   },
   "outputs": [
    {
     "data": {
      "text/plain": [
       "'tinder thirties $ swiped tinder sweetheart cringed hated sucked specified venmo stared $ not clicked not stared am favors not naive will would tinder kik kik texted am omw buzzed driveway am sore thumb nicer shit doorway skimming muscles torso tattoos uh not gripped cardboard shoebox stained damp trunk alright not drown not driveway admiring pillars porch greenest locking overboard stared cushioned maroon admired furnish ringing froze buzzed not not marvin poking caller creeped not remembering have favors briefcase julio have $ 3500 not proceeded $ driveway porch unlocked wandered marvin not faucets not anyone- are- closet gardener fridge will goodnight regretting would haunted lounged shit 8:50 brushed faucet closet hallway couch couch scrolling not peculiar dozed 10:16 woken doorbell ringing not anyone- are- couch paranoid slightest not are not heartbeat doorbell not not doorbell not asleep gardener unlocked peered stove stirring brewed not scrambled motioning spoon drank freaky awkwardness am going trailed not will driveway unpacked stared buzzed snapping $ not am are errands stared am am not was- not'"
      ]
     },
     "execution_count": 203,
     "metadata": {},
     "output_type": "execute_result"
    }
   ],
   "source": [
    "docs_list_joined[0]"
   ]
  },
  {
   "cell_type": "code",
   "execution_count": 376,
   "metadata": {
    "ExecuteTime": {
     "end_time": "2019-11-13T04:34:17.549362Z",
     "start_time": "2019-11-13T04:34:17.543090Z"
    }
   },
   "outputs": [],
   "source": [
    "def display_topics(model, feature_names, no_top_words=10, topic_names=None):\n",
    "    for ix, topic in enumerate(model.components_):\n",
    "        if not topic_names or not topic_names[ix]:\n",
    "            print(\"\\nTopic \", ix)\n",
    "        else:\n",
    "            print(\"\\nTopic: '\",topic_names[ix],\"'\")\n",
    "        print(\", \".join([feature_names[i]\n",
    "                        for i in topic.argsort()[:-no_top_words - 1:-1]]))"
   ]
  },
  {
   "cell_type": "code",
   "execution_count": 379,
   "metadata": {
    "ExecuteTime": {
     "end_time": "2019-11-13T04:35:32.433653Z",
     "start_time": "2019-11-13T04:35:32.422709Z"
    }
   },
   "outputs": [],
   "source": [
    "def hyperparameter_topics(docs_list, vectorizer='count', num_topic=10,\n",
    "                          binary=False, max_df=0.08, min_df=1, stop_words = 'english',\n",
    "                         model='lda'):\n",
    "    vec = None\n",
    "    if vectorizer == 'count':\n",
    "        vec = CountVectorizer(stop_words=stop_words, binary=binary, max_df=max_df, min_df=min_df)\n",
    "#         tf_vectorizer = CountVectorizer(strip_accents = 'unicode',\n",
    "#                                 stop_words = 'english',\n",
    "#                                 lowercase = True,\n",
    "#                                 token_pattern = r'\\b[a-zA-Z]{3,}\\b',\n",
    "#                                 max_df = 0.5, \n",
    "#                                 min_df = 10)\n",
    "    elif vectorizer == 'tfidf':\n",
    "        vec = TfidfVectorizer(stop_words=stop_words, binary=binary, max_df=max_df, min_df=min_df)\n",
    "        \n",
    "        \n",
    "    doc_word_matrix = vec.fit_transform(docs_list)\n",
    "    feature_names = vec.get_feature_names()\n",
    "    \n",
    "    doc_topic = None\n",
    "    mod = None\n",
    "    if model == 'lda':\n",
    "        # Convert sparse matrix of counts to a gensim corpus\n",
    "        corpus = matutils.Sparse2Corpus(doc_word_matrix.transpose())\n",
    "        # We need to save a mapping (dict) of row id to word (token) for later use by gensim:\n",
    "        id2word = dict((v, k) for k, v in vec.vocabulary_.items())\n",
    "        mod = LatentDirichletAllocation(n_components=num_topic)\n",
    "        mod.fit(doc_word_matrix)\n",
    "        \n",
    "        #pprint.pprint(mod.print_topics(num_words=20))\n",
    "\n",
    "    elif model == 'lsa':\n",
    "        mod = TruncatedSVD(num_topic)\n",
    "        doc_topic = mod.fit_transform(doc_word_matrix)\n",
    "        print('explained_variance_ratio_', lsa.explained_variance_ratio_)\n",
    "        display_topics(mod, feature_names)\n",
    "    elif model == 'nmf':\n",
    "        mod = NMF(num_topic)\n",
    "        doc_topic = mod.fit_transform(doc_word_matrix)\n",
    "        display_topics(mod, feature_names)\n",
    "        \n",
    "    return (mod, vec, feature_names, doc_word_matrix)"
   ]
  },
  {
   "cell_type": "code",
   "execution_count": 382,
   "metadata": {
    "ExecuteTime": {
     "end_time": "2019-11-13T04:36:58.210676Z",
     "start_time": "2019-11-13T04:36:58.065163Z"
    }
   },
   "outputs": [],
   "source": [
    "model, vec, feature_names, doc_words_matrix = hyperparameter_topics(docs_list_joined, \n",
    "                                                                         vectorizer='tfidf', \n",
    "                                                                         binary=False, \n",
    "                                                                         max_df=0.08, \n",
    "                                                                         min_df=1, \n",
    "                                                                         stop_words = 'english',\n",
    "                                                                         model='lda',\n",
    "                                                                         num_topic=5\n",
    "                                                                        )\n"
   ]
  },
  {
   "cell_type": "code",
   "execution_count": 383,
   "metadata": {
    "ExecuteTime": {
     "end_time": "2019-11-13T04:38:05.685403Z",
     "start_time": "2019-11-13T04:37:02.579153Z"
    }
   },
   "outputs": [
    {
     "name": "stderr",
     "output_type": "stream",
     "text": [
      "//anaconda3/envs/reddit/lib/python3.7/site-packages/pyLDAvis/_prepare.py:257: FutureWarning: Sorting because non-concatenation axis is not aligned. A future version\n",
      "of pandas will change to not sort by default.\n",
      "\n",
      "To accept the future behavior, pass 'sort=False'.\n",
      "\n",
      "To retain the current behavior and silence the warning, pass 'sort=True'.\n",
      "\n",
      "  return pd.concat([default_term_info] + list(topic_dfs))\n"
     ]
    },
    {
     "data": {
      "text/html": [
       "\n",
       "<link rel=\"stylesheet\" type=\"text/css\" href=\"https://cdn.rawgit.com/bmabey/pyLDAvis/files/ldavis.v1.0.0.css\">\n",
       "\n",
       "\n",
       "<div id=\"ldavis_el494001129846985764126100391\"></div>\n",
       "<script type=\"text/javascript\">\n",
       "\n",
       "var ldavis_el494001129846985764126100391_data = {\"mdsDat\": {\"x\": [-0.00392500226946787, -0.0026488677208451983, 0.006348763682841743, 0.0007265040230499328, -0.0005013977155786134], \"y\": [-0.004653050734450729, 0.005659470635698492, -0.00048804992852450577, -0.00035299360981236343, -0.00016537636291089373], \"topics\": [1, 2, 3, 4, 5], \"cluster\": [1, 1, 1, 1, 1], \"Freq\": [27.019010887726946, 22.612599853597033, 20.720904480595852, 17.645399367895457, 12.002085410184712]}, \"tinfo\": {\"Category\": [\"Default\", \"Default\", \"Default\", \"Default\", \"Default\", \"Default\", \"Default\", \"Default\", \"Default\", \"Default\", \"Default\", \"Default\", \"Default\", \"Default\", \"Default\", \"Default\", \"Default\", \"Default\", \"Default\", \"Default\", \"Default\", \"Default\", \"Default\", \"Default\", \"Default\", \"Default\", \"Default\", \"Default\", \"Default\", \"Default\", \"Topic1\", \"Topic1\", \"Topic1\", \"Topic1\", \"Topic1\", \"Topic1\", \"Topic1\", \"Topic1\", \"Topic1\", \"Topic1\", \"Topic1\", \"Topic1\", \"Topic1\", \"Topic1\", \"Topic1\", \"Topic1\", \"Topic1\", \"Topic1\", \"Topic1\", \"Topic1\", \"Topic1\", \"Topic1\", \"Topic1\", \"Topic1\", \"Topic1\", \"Topic1\", \"Topic1\", \"Topic1\", \"Topic1\", \"Topic1\", \"Topic1\", \"Topic1\", \"Topic1\", \"Topic1\", \"Topic1\", \"Topic1\", \"Topic1\", \"Topic2\", \"Topic2\", \"Topic2\", \"Topic2\", \"Topic2\", \"Topic2\", \"Topic2\", \"Topic2\", \"Topic2\", \"Topic2\", \"Topic2\", \"Topic2\", \"Topic2\", \"Topic2\", \"Topic2\", \"Topic2\", \"Topic2\", \"Topic2\", \"Topic2\", \"Topic2\", \"Topic2\", \"Topic2\", \"Topic2\", \"Topic2\", \"Topic2\", \"Topic2\", \"Topic2\", \"Topic2\", \"Topic2\", \"Topic2\", \"Topic2\", \"Topic2\", \"Topic2\", \"Topic2\", \"Topic2\", \"Topic3\", \"Topic3\", \"Topic3\", \"Topic3\", \"Topic3\", \"Topic3\", \"Topic3\", \"Topic3\", \"Topic3\", \"Topic3\", \"Topic3\", \"Topic3\", \"Topic3\", \"Topic3\", \"Topic3\", \"Topic3\", \"Topic3\", \"Topic3\", \"Topic3\", \"Topic3\", \"Topic3\", \"Topic3\", \"Topic3\", \"Topic3\", \"Topic3\", \"Topic3\", \"Topic3\", \"Topic3\", \"Topic3\", \"Topic3\", \"Topic3\", \"Topic3\", \"Topic3\", \"Topic3\", \"Topic3\", \"Topic3\", \"Topic3\", \"Topic3\", \"Topic4\", \"Topic4\", \"Topic4\", \"Topic4\", \"Topic4\", \"Topic4\", \"Topic4\", \"Topic4\", \"Topic4\", \"Topic4\", \"Topic4\", \"Topic4\", \"Topic4\", \"Topic4\", \"Topic4\", \"Topic4\", \"Topic4\", \"Topic4\", \"Topic4\", \"Topic4\", \"Topic4\", \"Topic4\", \"Topic4\", \"Topic4\", \"Topic4\", \"Topic4\", \"Topic4\", \"Topic4\", \"Topic4\", \"Topic4\", \"Topic4\", \"Topic4\", \"Topic4\", \"Topic4\", \"Topic4\", \"Topic4\", \"Topic4\", \"Topic4\", \"Topic4\", \"Topic4\", \"Topic5\", \"Topic5\", \"Topic5\", \"Topic5\", \"Topic5\", \"Topic5\", \"Topic5\", \"Topic5\", \"Topic5\", \"Topic5\", \"Topic5\", \"Topic5\", \"Topic5\", \"Topic5\", \"Topic5\", \"Topic5\", \"Topic5\", \"Topic5\", \"Topic5\", \"Topic5\", \"Topic5\", \"Topic5\", \"Topic5\", \"Topic5\", \"Topic5\", \"Topic5\", \"Topic5\", \"Topic5\", \"Topic5\", \"Topic5\", \"Topic5\", \"Topic5\", \"Topic5\", \"Topic5\", \"Topic5\", \"Topic5\", \"Topic5\", \"Topic5\", \"Topic5\", \"Topic5\", \"Topic5\", \"Topic5\"], \"Freq\": [0.0, 0.0, 0.0, 0.0, 0.0, 0.0, 0.0, 0.0, 0.0, 0.0, 0.0, 0.0, 0.0, 0.0, 0.0, 0.0, 0.0, 0.0, 0.0, 0.0, 0.0, 0.0, 0.0, 0.0, 0.0, 0.0, 0.0, 0.0, 0.0, 0.0, 0.12952843541972806, 0.11228394932638254, 0.11562754993002572, 0.09717719647589833, 0.11992226300561623, 0.08083665435705681, 0.07955593103967218, 0.07350114549408361, 0.06954169412610128, 0.06839889610460044, 0.0666408485191914, 0.06137717107850243, 0.060908628132424314, 0.07568031482727854, 0.05952671787550905, 0.055566130327259856, 0.05337426363513973, 0.05231817951243712, 0.051117271311607745, 0.051117271311607745, 0.05064911013491517, 0.04833931955512017, 0.04833922558133253, 0.04833922558133253, 0.05625160872008966, 0.04735882026891952, 0.04666204305992911, 0.05383569313976353, 0.04905014892319133, 0.04571430623228138, 0.04571430623228138, 0.04937803474576948, 0.07565876113170254, 0.04848629500410902, 0.053729746442158006, 0.04967796994401519, 0.050322025688171325, 0.1159784476709928, 0.0910071745629249, 0.08976811122860137, 0.07605540376913074, 0.07323866408340567, 0.07176547621402309, 0.06938126490835249, 0.06938126490835249, 0.11409089131627996, 0.05552550477745513, 0.0550234568061371, 0.0550234568061371, 0.05498679723547496, 0.05498679723547496, 0.057418640356344086, 0.051960879365019176, 0.04964354046562787, 0.052781474050277166, 0.0491935253512711, 0.04850675853585859, 0.048236172505646435, 0.04804834243055765, 0.046250732370730886, 0.046250732370730886, 0.04679158842552968, 0.04336352180079161, 0.0432829775130642, 0.04683721799933326, 0.04224344168089745, 0.04200786821680765, 0.04751924547112197, 0.054507601703992464, 0.04490313651454783, 0.04376515109526454, 0.04572573566644751, 0.12104393555446179, 0.1203188736315952, 0.10402702070122606, 0.07745480490646502, 0.07099336637373097, 0.06761182466305443, 0.06389113062045479, 0.0601396021264321, 0.054789490615992, 0.05755248982913441, 0.04660607394715667, 0.049320917442100654, 0.04546697202178865, 0.04546697202178865, 0.04537372283993825, 0.04457778847350352, 0.04457778847350352, 0.04424049432191509, 0.04915391458920773, 0.05824830171653493, 0.04291249504878835, 0.05365897630906056, 0.04268913436339194, 0.04249178440115533, 0.07162632159873292, 0.04163315987542336, 0.04120662596474434, 0.04120662596474434, 0.04120662596474434, 0.041189990436369, 0.062216200682478164, 0.04390497753547643, 0.060698905387243186, 0.04210190199490275, 0.04517124706632494, 0.04529934222832632, 0.04660673316893486, 0.04344193236808732, 0.08470204700819138, 0.07654351829133936, 0.06361350431702147, 0.05230638309078722, 0.06684964371247168, 0.04832217689857923, 0.05258297432054078, 0.05653807228382262, 0.04658315089461015, 0.04044424538479096, 0.06354255117698702, 0.04239980798407837, 0.03788136941098669, 0.03788136941098669, 0.0350035636955604, 0.035802095084707095, 0.03390779200343294, 0.03390779200343294, 0.032309998101724934, 0.032309998101724934, 0.03218126612271751, 0.03218126612271751, 0.04148787128777701, 0.031898023684728605, 0.031898023684728605, 0.031898023684728605, 0.031898023684728605, 0.031898023684728605, 0.031774745941107865, 0.031774745941107865, 0.031774745941107865, 0.031774745941107865, 0.031774745941107865, 0.038409154264077795, 0.03477373041009061, 0.034551597259143634, 0.03434304149085514, 0.03260119408520822, 0.03318969117899028, 0.031944928133676255, 0.048325261618022385, 0.04109860819530908, 0.030243084316332113, 0.029717098342748473, 0.02752916454279351, 0.027430936445821532, 0.027430936445821532, 0.02589402534244535, 0.025906214713488133, 0.023559817003282406, 0.023559817003282406, 0.02460732697952293, 0.027332395943374378, 0.022084608694073294, 0.022084608694073294, 0.022084608694073294, 0.022084608694073294, 0.022084608694073294, 0.022084608694073294, 0.022084608694073294, 0.022084608694073294, 0.022084608694073294, 0.022084608694073294, 0.022454414343929963, 0.022594073927458762, 0.020693878503666545, 0.02106842386264753, 0.01966170313567828, 0.01938720164034329, 0.01933748705241075, 0.01933748705241075, 0.01933748705241075, 0.01933748705241075, 0.01933748705241075, 0.01933748705241075, 0.01933748705241075, 0.01933748705241075, 0.0226197692555206, 0.029676289287228746, 0.022633414074964737, 0.02186086672789278, 0.02183518002902602], \"Term\": [\"attendant\", \"attendants\", \"ya\", \"myron\", \"pine\", \"whistling\", \"nirali\", \"sledgehammer\", \"lyla\", \"annie\", \"prue\", \"grandad\", \"airpods\", \"molyneaux\", \"webcam\", \"avi\", \"scritt\", \"mouse\", \"03\", \"molly\", \"whack\", \"janelle\", \"envelope\", \"jar\", \"invisible\", \"balcony\", \"liza\", \"melanie\", \"tunnels\", \"peeping\", \"grandad\", \"janelle\", \"jar\", \"dorothy\", \"melanie\", \"crate\", \"magician\", \"ambien\", \"derwin\", \"grandparents\", \"circus\", \"vents\", \"cottage\", \"elevator\", \"checkpoint\", \"layla\", \"sympathetic\", \"bunker\", \"perla\", \"doris\", \"squish\", \"radiation\", \"martha\", \"runaway\", \"janitor\", \"pistol\", \"miserable\", \"afelis\", \"heaved\", \"moby\", \"escalator\", \"um\", \"annie\", \"doorknob\", \"scritt\", \"couch\", \"mommy\", \"pine\", \"molyneaux\", \"webcam\", \"liza\", \"raymond\", \"nina\", \"divers\", \"badwater\", \"annie\", \"thwack\", \"pharmaceuticals\", \"artifex\", \"mods\", \"mod\", \"cigarette\", \"cindy\", \"petite\", \"tearing\", \"ethan\", \"padded\", \"moose\", \"fuzzy\", \"gif\", \"ip\", \"restrained\", \"ct\", \"refreshed\", \"goodnight\", \"cawk\", \"tighter\", \"slamming\", \"creepy\", \"curled\", \"inverted\", \"melanie\", \"attendant\", \"attendants\", \"whistling\", \"avi\", \"03\", \"balcony\", \"thrumming\", \"curtain\", \"samir\", \"natalia\", \"padlock\", \"vibrations\", \"tray\", \"stopwatch\", \"emotionless\", \"similarities\", \"dusted\", \"landlord\", \"hemmings\", \"incinerator\", \"brutsen\", \"blinking\", \"crackled\", \"arsonists\", \"scritt\", \"fastened\", \"ancestors\", \"wording\", \"observable\", \"siya\", \"mommy\", \"annoyed\", \"lyla\", \"daddy\", \"escorted\", \"stairwell\", \"creepy\", \"coworker\", \"ya\", \"nirali\", \"airpods\", \"invisible\", \"prue\", \"mickey\", \"mouse\", \"molly\", \"prentice\", \"shanti\", \"lyla\", \"driveway\", \"tinder\", \"doorbell\", \"perks\", \"dreaming\", \"preoccupied\", \"messed\", \"leo\", \"katherine\", \"swat\", \"plastered\", \"ellie\", \"startalk\", \"blip\", \"truffles\", \"mackenzie\", \"mishear\", \"biringan\", \"gleaming\", \"bordering\", \"lasts\", \"wheelchair\", \"huh\", \"ashamed\", \"stumbled\", \"buzzed\", \"noteworthy\", \"couch\", \"imposter\", \"myron\", \"sledgehammer\", \"whack\", \"envelope\", \"tunnels\", \"peeping\", \"redundancy\", \"excuses\", \"amazed\", \"crisp\", \"chick\", \"wailing\", \"shadows\", \"sonata\", \"rearview\", \"wooded\", \"southbound\", \"lewiston\", \"sped\", \"disconnected\", \"95\", \"emts\", \"hyundai\", \"fucked\", \"walled\", \"furiously\", \"alley\", \"squirting\", \"lid\", \"logs\", \"mixing\", \"workspace\", \"classifieds\", \"serenely\", \"questionnaires\", \"pencils\", \"arranging\", \"shrugged\", \"scritt\", \"janitor\", \"canvas\", \"blinking\"], \"Total\": [0.0, 0.0, 0.0, 0.0, 0.0, 0.0, 0.0, 0.0, 0.0, 0.0, 0.0, 0.0, 0.0, 0.0, 0.0, 0.0, 0.0, 0.0, 0.0, 0.0, 0.0, 0.0, 0.0, 0.0, 0.0, 0.0, 0.0, 0.0, 0.0, 0.0, 0.19539937732502807, 0.1781532576706683, 0.18753621880972982, 0.16304734913210744, 0.21147136069633288, 0.14670557258517974, 0.1480370039177803, 0.13937003186880945, 0.13541244641947198, 0.13426826879700118, 0.13251003343383, 0.12724650329448123, 0.1267813915605083, 0.15880762460749717, 0.12539622146528315, 0.12143584773208305, 0.11924442803281654, 0.11818792326260268, 0.11698895003863541, 0.11698895003863541, 0.11651887822834743, 0.11420900864481287, 0.11420917155335354, 0.11420917155335354, 0.1335088910173901, 0.11322797303537319, 0.11253294499733751, 0.13046637685756615, 0.11898186098879376, 0.11158388894374816, 0.11158388894374816, 0.12152288667168153, 0.23557266994596443, 0.12292631906507755, 0.1911277246547435, 0.14070578044038665, 0.17148053544522016, 0.18529288241005054, 0.16031782927325847, 0.15908003472356314, 0.1453672499111559, 0.1425491462018243, 0.14107653094630077, 0.138692463675661, 0.138692463675661, 0.23557266994596443, 0.12483675563029296, 0.12433422595590937, 0.12433422595590937, 0.12429822986532557, 0.12429822986532557, 0.13124208784775693, 0.12127177873045951, 0.11895464449488842, 0.12704707195545373, 0.11850446821270402, 0.1178178046284331, 0.11754805784360102, 0.11736128340758414, 0.115562545301519, 0.115562545301519, 0.12016070609785019, 0.11267470028303804, 0.1125968041367329, 0.12271191520205899, 0.11155487723335784, 0.11131927217250834, 0.126544966420187, 0.1539982446305995, 0.12941038218827672, 0.1174678892345541, 0.21147136069633288, 0.20714395599284072, 0.20641959242529395, 0.18404188076397265, 0.14828484366074368, 0.14182527514381957, 0.13844205022810627, 0.1347225358002948, 0.13583812850414498, 0.1256199147030921, 0.13515150530664966, 0.1174369095878216, 0.12539549873155265, 0.11630091423323564, 0.11630091423323564, 0.11620515828575087, 0.11541034305146311, 0.11541034305146311, 0.11507158592650339, 0.1294827696519616, 0.15361246643735035, 0.11374362896451233, 0.14246845254682142, 0.11352108001014796, 0.11332250792495052, 0.1911277246547435, 0.1124664225957626, 0.11203920363025, 0.11203920363025, 0.11203920363025, 0.11202094240425439, 0.17148053544522016, 0.11973961888084379, 0.17902780313783961, 0.11537995820704847, 0.128632290364379, 0.13154405583848766, 0.1539982446305995, 0.12480900491692531, 0.16323104102346264, 0.14985652212328326, 0.13692753028549456, 0.1256198856126387, 0.16204894877942888, 0.1216364312912694, 0.1331820432665009, 0.1442563766506344, 0.1270224825175857, 0.11375793677438943, 0.17902780313783961, 0.12049406313579958, 0.11119567857603933, 0.11119567857603933, 0.10832210946947533, 0.11167464244247223, 0.10722331055156464, 0.10722331055156464, 0.10562415504736208, 0.10562415504736208, 0.10549658799488355, 0.10549658799488355, 0.13672384959117054, 0.10521368212679597, 0.10521368212679597, 0.10521368212679597, 0.10521368212679597, 0.10521368212679597, 0.10508938376468642, 0.10508938376468642, 0.10508938376468642, 0.10508938376468642, 0.10508938376468642, 0.12917235215074244, 0.11830471816211595, 0.11740768898934165, 0.12381140950395925, 0.11267993152437843, 0.14070578044038665, 0.11673607393466558, 0.1345137112285999, 0.11920898112846728, 0.10835385074280768, 0.10782813658189766, 0.10564009660635416, 0.1055430677241521, 0.1055430677241521, 0.11001377945584899, 0.11138051008606328, 0.10167137672273774, 0.10167137672273774, 0.10912885881453119, 0.12129110889604562, 0.1001963804450712, 0.1001963804450712, 0.1001963804450712, 0.1001963804450712, 0.1001963804450712, 0.1001963804450712, 0.1001963804450712, 0.1001963804450712, 0.1001963804450712, 0.1001963804450712, 0.10374369134768836, 0.10568569995910743, 0.09880599090057549, 0.10122048650730689, 0.09777385707233939, 0.09749898351045466, 0.09745090264574696, 0.09745090264574696, 0.09745090264574696, 0.09745090264574696, 0.09745090264574696, 0.09745090264574696, 0.09745090264574696, 0.09745090264574696, 0.11613659180345383, 0.1911277246547435, 0.1335088910173901, 0.12510566816151078, 0.14246845254682142], \"loglift\": [30.0, 29.0, 28.0, 27.0, 26.0, 25.0, 24.0, 23.0, 22.0, 21.0, 20.0, 19.0, 18.0, 17.0, 16.0, 15.0, 14.0, 13.0, 12.0, 11.0, 10.0, 9.0, 8.0, 7.0, 6.0, 5.0, 4.0, 3.0, 2.0, 1.0, 0.8975, 0.847, 0.825, 0.7911, 0.7414, 0.7126, 0.6876, 0.6688, 0.6422, 0.6341, 0.6213, 0.5795, 0.5755, 0.5675, 0.5636, 0.5268, 0.5048, 0.4937, 0.4807, 0.4807, 0.4755, 0.4488, 0.4488, 0.4488, 0.4443, 0.437, 0.4283, 0.4235, 0.4225, 0.4163, 0.4163, 0.408, 0.1728, 0.3783, 0.0397, 0.2675, 0.0826, 1.0181, 0.9204, 0.9145, 0.8389, 0.8207, 0.8108, 0.794, 0.794, 0.7616, 0.6765, 0.6714, 0.6714, 0.6711, 0.6711, 0.66, 0.6391, 0.6128, 0.6083, 0.6075, 0.5992, 0.5959, 0.5936, 0.5709, 0.5709, 0.5435, 0.5318, 0.5306, 0.5235, 0.5156, 0.5121, 0.5072, 0.4481, 0.4282, 0.4993, -0.0448, 1.0368, 1.0343, 1.0035, 0.9246, 0.882, 0.8574, 0.828, 0.7592, 0.7443, 0.7203, 0.6499, 0.6409, 0.6348, 0.6348, 0.6336, 0.6228, 0.6228, 0.6181, 0.6054, 0.6043, 0.5992, 0.5976, 0.596, 0.5931, 0.5925, 0.5803, 0.5738, 0.5738, 0.5738, 0.5735, 0.5602, 0.5707, 0.4924, 0.5659, 0.5275, 0.508, 0.3788, 0.5187, 1.0787, 1.0629, 0.9681, 0.8586, 0.8492, 0.8115, 0.8054, 0.798, 0.7316, 0.7005, 0.6989, 0.6902, 0.6579, 0.6579, 0.605, 0.5971, 0.5834, 0.5834, 0.5502, 0.5502, 0.5474, 0.5474, 0.5421, 0.5412, 0.5412, 0.5412, 0.5412, 0.5412, 0.5386, 0.5386, 0.5386, 0.5386, 0.5386, 0.5218, 0.5103, 0.5115, 0.4523, 0.4945, 0.2903, 0.4388, 1.0964, 1.0552, 0.844, 0.8313, 0.7753, 0.7726, 0.7726, 0.6735, 0.6616, 0.6579, 0.6579, 0.6306, 0.63, 0.6078, 0.6078, 0.6078, 0.6078, 0.6078, 0.6078, 0.6078, 0.6078, 0.6078, 0.6078, 0.5897, 0.5773, 0.5568, 0.5506, 0.5161, 0.5049, 0.5028, 0.5028, 0.5028, 0.5028, 0.5028, 0.5028, 0.5028, 0.5028, 0.4841, 0.2575, 0.3453, 0.3756, 0.2445], \"logprob\": [30.0, 29.0, 28.0, 27.0, 26.0, 25.0, 24.0, 23.0, 22.0, 21.0, 20.0, 19.0, 18.0, 17.0, 16.0, 15.0, 14.0, 13.0, 12.0, 11.0, 10.0, 9.0, 8.0, 7.0, 6.0, 5.0, 4.0, 3.0, 2.0, 1.0, -6.674, -6.8169, -6.7876, -6.9614, -6.7511, -7.1455, -7.1615, -7.2406, -7.296, -7.3126, -7.3386, -7.4209, -7.4286, -7.2114, -7.4515, -7.5204, -7.5606, -7.5806, -7.6038, -7.6038, -7.613, -7.6597, -7.6597, -7.6597, -7.5081, -7.6802, -7.695, -7.552, -7.6451, -7.7155, -7.7155, -7.6384, -7.2117, -7.6567, -7.554, -7.6324, -7.6195, -6.6065, -6.849, -6.8627, -7.0284, -7.0662, -7.0865, -7.1203, -7.1203, -6.6229, -7.3431, -7.3521, -7.3521, -7.3528, -7.3528, -7.3095, -7.4094, -7.455, -7.3937, -7.4641, -7.4782, -7.4838, -7.4877, -7.5258, -7.5258, -7.5142, -7.5903, -7.5921, -7.5132, -7.6165, -7.622, -7.4988, -7.3616, -7.5554, -7.5811, -7.5372, -6.4764, -6.4824, -6.6279, -6.9228, -7.01, -7.0588, -7.1154, -7.1759, -7.269, -7.2198, -7.4308, -7.3742, -7.4556, -7.4556, -7.4576, -7.4753, -7.4753, -7.4829, -7.3776, -7.2078, -7.5134, -7.2899, -7.5186, -7.5232, -7.0011, -7.5436, -7.5539, -7.5539, -7.5539, -7.5543, -7.1419, -7.4905, -7.1666, -7.5324, -7.4621, -7.4592, -7.4308, -7.5011, -6.6727, -6.774, -6.959, -7.1548, -6.9094, -7.234, -7.1495, -7.077, -7.2706, -7.4119, -6.9602, -7.3647, -7.4774, -7.4774, -7.5564, -7.5339, -7.5882, -7.5882, -7.6365, -7.6365, -7.6405, -7.6405, -7.3865, -7.6493, -7.6493, -7.6493, -7.6493, -7.6493, -7.6532, -7.6532, -7.6532, -7.6532, -7.6532, -7.4636, -7.563, -7.5694, -7.5755, -7.6275, -7.6096, -7.6479, -6.8485, -7.0105, -7.3172, -7.3348, -7.4112, -7.4148, -7.4148, -7.4725, -7.472, -7.5669, -7.5669, -7.5234, -7.4184, -7.6316, -7.6316, -7.6316, -7.6316, -7.6316, -7.6316, -7.6316, -7.6316, -7.6316, -7.6316, -7.615, -7.6088, -7.6966, -7.6787, -7.7478, -7.7619, -7.7644, -7.7644, -7.7644, -7.7644, -7.7644, -7.7644, -7.7644, -7.7644, -7.6077, -7.3361, -7.607, -7.6418, -7.643]}, \"token.table\": {\"Topic\": [], \"Freq\": [], \"Term\": []}, \"R\": 30, \"lambda.step\": 0.01, \"plot.opts\": {\"xlab\": \"PC1\", \"ylab\": \"PC2\"}, \"topic.order\": [1, 4, 5, 2, 3]};\n",
       "\n",
       "function LDAvis_load_lib(url, callback){\n",
       "  var s = document.createElement('script');\n",
       "  s.src = url;\n",
       "  s.async = true;\n",
       "  s.onreadystatechange = s.onload = callback;\n",
       "  s.onerror = function(){console.warn(\"failed to load library \" + url);};\n",
       "  document.getElementsByTagName(\"head\")[0].appendChild(s);\n",
       "}\n",
       "\n",
       "if(typeof(LDAvis) !== \"undefined\"){\n",
       "   // already loaded: just create the visualization\n",
       "   !function(LDAvis){\n",
       "       new LDAvis(\"#\" + \"ldavis_el494001129846985764126100391\", ldavis_el494001129846985764126100391_data);\n",
       "   }(LDAvis);\n",
       "}else if(typeof define === \"function\" && define.amd){\n",
       "   // require.js is available: use it to load d3/LDAvis\n",
       "   require.config({paths: {d3: \"https://cdnjs.cloudflare.com/ajax/libs/d3/3.5.5/d3.min\"}});\n",
       "   require([\"d3\"], function(d3){\n",
       "      window.d3 = d3;\n",
       "      LDAvis_load_lib(\"https://cdn.rawgit.com/bmabey/pyLDAvis/files/ldavis.v1.0.0.js\", function(){\n",
       "        new LDAvis(\"#\" + \"ldavis_el494001129846985764126100391\", ldavis_el494001129846985764126100391_data);\n",
       "      });\n",
       "    });\n",
       "}else{\n",
       "    // require.js not available: dynamically load d3 & LDAvis\n",
       "    LDAvis_load_lib(\"https://cdnjs.cloudflare.com/ajax/libs/d3/3.5.5/d3.min.js\", function(){\n",
       "         LDAvis_load_lib(\"https://cdn.rawgit.com/bmabey/pyLDAvis/files/ldavis.v1.0.0.js\", function(){\n",
       "                 new LDAvis(\"#\" + \"ldavis_el494001129846985764126100391\", ldavis_el494001129846985764126100391_data);\n",
       "            })\n",
       "         });\n",
       "}\n",
       "</script>"
      ],
      "text/plain": [
       "PreparedData(topic_coordinates=              x         y  topics  cluster       Freq\n",
       "topic                                                \n",
       "0     -0.003925 -0.004653  1       1        27.019011\n",
       "3     -0.002649  0.005659  2       1        22.612600\n",
       "4      0.006349 -0.000488  3       1        20.720904\n",
       "1      0.000727 -0.000353  4       1        17.645399\n",
       "2     -0.000501 -0.000165  5       1        12.002085, topic_info=     Category      Freq             Term     Total  loglift  logprob\n",
       "191   Default  0.000000  attendant        0.000000  30.0000  30.0000\n",
       "192   Default  0.000000  attendants       0.000000  29.0000  29.0000\n",
       "3819  Default  0.000000  ya               0.000000  28.0000  28.0000\n",
       "2184  Default  0.000000  myron            0.000000  27.0000  27.0000\n",
       "2451  Default  0.000000  pine             0.000000  26.0000  26.0000\n",
       "3769  Default  0.000000  whistling        0.000000  25.0000  25.0000\n",
       "2231  Default  0.000000  nirali           0.000000  24.0000  24.0000\n",
       "3043  Default  0.000000  sledgehammer     0.000000  23.0000  23.0000\n",
       "1988  Default  0.000000  lyla             0.000000  22.0000  22.0000\n",
       "137   Default  0.000000  annie            0.000000  21.0000  21.0000\n",
       "2567  Default  0.000000  prue             0.000000  20.0000  20.0000\n",
       "1458  Default  0.000000  grandad          0.000000  19.0000  19.0000\n",
       "92    Default  0.000000  airpods          0.000000  18.0000  18.0000\n",
       "2112  Default  0.000000  molyneaux        0.000000  17.0000  17.0000\n",
       "3732  Default  0.000000  webcam           0.000000  16.0000  16.0000\n",
       "202   Default  0.000000  avi              0.000000  15.0000  15.0000\n",
       "2897  Default  0.000000  scritt           0.000000  14.0000  14.0000\n",
       "2154  Default  0.000000  mouse            0.000000  13.0000  13.0000\n",
       "1     Default  0.000000  03               0.000000  12.0000  12.0000\n",
       "2111  Default  0.000000  molly            0.000000  11.0000  11.0000\n",
       "3749  Default  0.000000  whack            0.000000  10.0000  10.0000\n",
       "1805  Default  0.000000  janelle          0.000000  9.0000   9.0000 \n",
       "1119  Default  0.000000  envelope         0.000000  8.0000   8.0000 \n",
       "1807  Default  0.000000  jar              0.000000  7.0000   7.0000 \n",
       "1781  Default  0.000000  invisible        0.000000  6.0000   6.0000 \n",
       "229   Default  0.000000  balcony          0.000000  5.0000   5.0000 \n",
       "1953  Default  0.000000  liza             0.000000  4.0000   4.0000 \n",
       "2050  Default  0.000000  melanie          0.000000  3.0000   3.0000 \n",
       "3532  Default  0.000000  tunnels          0.000000  2.0000   2.0000 \n",
       "2404  Default  0.000000  peeping          0.000000  1.0000   1.0000 \n",
       "1458  Topic1   0.129528  grandad          0.195399  0.8975  -6.6740 \n",
       "1805  Topic1   0.112284  janelle          0.178153  0.8470  -6.8169 \n",
       "1807  Topic1   0.115628  jar              0.187536  0.8250  -6.7876 \n",
       "1003  Topic1   0.097177  dorothy          0.163047  0.7911  -6.9614 \n",
       "2050  Topic1   0.119922  melanie          0.211471  0.7414  -6.7511 \n",
       "767   Topic1   0.080837  crate            0.146706  0.7126  -7.1455 \n",
       "1993  Topic1   0.079556  magician         0.148037  0.6876  -7.1615 \n",
       "115   Topic1   0.073501  ambien           0.139370  0.6688  -7.2406 \n",
       "895   Topic1   0.069542  derwin           0.135412  0.6422  -7.2960 \n",
       "1462  Topic1   0.068399  grandparents     0.134268  0.6341  -7.3126 \n",
       "599   Topic1   0.066641  circus           0.132510  0.6213  -7.3386 \n",
       "3662  Topic1   0.061377  vents            0.127247  0.5795  -7.4209 \n",
       "738   Topic1   0.060909  cottage          0.126781  0.5755  -7.4286 \n",
       "1082  Topic1   0.075680  elevator         0.158808  0.5675  -7.2114 \n",
       "549   Topic1   0.059527  checkpoint       0.125396  0.5636  -7.4515 \n",
       "1909  Topic1   0.055566  layla            0.121436  0.5268  -7.5204 \n",
       "3348  Topic1   0.053374  sympathetic      0.119244  0.5048  -7.5606 \n",
       "445   Topic1   0.052318  bunker           0.118188  0.4937  -7.5806 \n",
       "2422  Topic1   0.051117  perla            0.116989  0.4807  -7.6038 \n",
       "1002  Topic1   0.051117  doris            0.116989  0.4807  -7.6038 \n",
       "3203  Topic1   0.050649  squish           0.116519  0.4755  -7.6130 \n",
       "2628  Topic1   0.048339  radiation        0.114209  0.4488  -7.6597 \n",
       "2025  Topic1   0.048339  martha           0.114209  0.4488  -7.6597 \n",
       "2825  Topic1   0.048339  runaway          0.114209  0.4488  -7.6597 \n",
       "1806  Topic1   0.056252  janitor          0.133509  0.4443  -7.5081 \n",
       "2460  Topic1   0.047359  pistol           0.113228  0.4370  -7.6802 \n",
       "2088  Topic1   0.046662  miserable        0.112533  0.4283  -7.6950 \n",
       "81    Topic1   0.053836  afelis           0.130466  0.4235  -7.5520 \n",
       "1570  Topic1   0.049050  heaved           0.118982  0.4225  -7.6451 \n",
       "2104  Topic1   0.045714  moby             0.111584  0.4163  -7.7155 \n",
       "1128  Topic1   0.045714  escalator        0.111584  0.4163  -7.7155 \n",
       "3546  Topic1   0.049378  um               0.121523  0.4080  -7.6384 \n",
       "137   Topic1   0.075659  annie            0.235573  0.1728  -7.2117 \n",
       "998   Topic1   0.048486  doorknob         0.122926  0.3783  -7.6567 \n",
       "2897  Topic1   0.053730  scritt           0.191128  0.0397  -7.5540 \n",
       "739   Topic1   0.049678  couch            0.140706  0.2675  -7.6324 \n",
       "2116  Topic1   0.050322  mommy            0.171481  0.0826  -7.6195 \n",
       "2451  Topic2   0.115978  pine             0.185293  1.0181  -6.6065 \n",
       "2112  Topic2   0.091007  molyneaux        0.160318  0.9204  -6.8490 \n",
       "3732  Topic2   0.089768  webcam           0.159080  0.9145  -6.8627 \n",
       "1953  Topic2   0.076055  liza             0.145367  0.8389  -7.0284 \n",
       "2656  Topic2   0.073239  raymond          0.142549  0.8207  -7.0662 \n",
       "2229  Topic2   0.071765  nina             0.141077  0.8108  -7.0865 \n",
       "981   Topic2   0.069381  divers           0.138692  0.7940  -7.1203 \n",
       "223   Topic2   0.069381  badwater         0.138692  0.7940  -7.1203 \n",
       "137   Topic2   0.114091  annie            0.235573  0.7616  -6.6229 \n",
       "3434  Topic2   0.055526  thwack           0.124837  0.6765  -7.3431 \n",
       "2431  Topic2   0.055023  pharmaceuticals  0.124334  0.6714  -7.3521 \n",
       "171   Topic2   0.055023  artifex          0.124334  0.6714  -7.3521 \n",
       "2109  Topic2   0.054987  mods             0.124298  0.6711  -7.3528 \n",
       "2106  Topic2   0.054987  mod              0.124298  0.6711  -7.3528 \n",
       "592   Topic2   0.057419  cigarette        0.131242  0.6600  -7.3095 \n",
       "594   Topic2   0.051961  cindy            0.121272  0.6391  -7.4094 \n",
       "2429  Topic2   0.049644  petite           0.118955  0.6128  -7.4550 \n",
       "3381  Topic2   0.052781  tearing          0.127047  0.6083  -7.3937 \n",
       "1136  Topic2   0.049194  ethan            0.118504  0.6075  -7.4641 \n",
       "2339  Topic2   0.048507  padded           0.117818  0.5992  -7.4782 \n",
       "2131  Topic2   0.048236  moose            0.117548  0.5959  -7.4838 \n",
       "1363  Topic2   0.048048  fuzzy            0.117361  0.5936  -7.4877 \n",
       "1398  Topic2   0.046251  gif              0.115563  0.5709  -7.5258 \n",
       "1785  Topic2   0.046251  ip               0.115563  0.5709  -7.5258 \n",
       "2744  Topic2   0.046792  restrained       0.120161  0.5435  -7.5142 \n",
       "810   Topic2   0.043364  ct               0.112675  0.5318  -7.5903 \n",
       "2698  Topic2   0.043283  refreshed        0.112597  0.5306  -7.5921 \n",
       "1446  Topic2   0.046837  goodnight        0.122712  0.5235  -7.5132 \n",
       "523   Topic2   0.042243  cawk             0.111555  0.5156  -7.6165 \n",
       "3439  Topic2   0.042008  tighter          0.111319  0.5121  -7.6220 \n",
       "3041  Topic2   0.047519  slamming         0.126545  0.5072  -7.4988 \n",
       "781   Topic2   0.054508  creepy           0.153998  0.4481  -7.3616 \n",
       "824   Topic2   0.044903  curled           0.129410  0.4282  -7.5554 \n",
       "1780  Topic2   0.043765  inverted         0.117468  0.4993  -7.5811 \n",
       "2050  Topic2   0.045726  melanie          0.211471 -0.0448  -7.5372 \n",
       "191   Topic3   0.121044  attendant        0.207144  1.0368  -6.4764 \n",
       "192   Topic3   0.120319  attendants       0.206420  1.0343  -6.4824 \n",
       "3769  Topic3   0.104027  whistling        0.184042  1.0035  -6.6279 \n",
       "202   Topic3   0.077455  avi              0.148285  0.9246  -6.9228 \n",
       "1     Topic3   0.070993  03               0.141825  0.8820  -7.0100 \n",
       "229   Topic3   0.067612  balcony          0.138442  0.8574  -7.0588 \n",
       "3428  Topic3   0.063891  thrumming        0.134723  0.8280  -7.1154 \n",
       "830   Topic3   0.060140  curtain          0.135838  0.7592  -7.1759 \n",
       "2840  Topic3   0.054789  samir            0.125620  0.7443  -7.2690 \n",
       "2199  Topic3   0.057552  natalia          0.135152  0.7203  -7.2198 \n",
       "2340  Topic3   0.046606  padlock          0.117437  0.6499  -7.4308 \n",
       "3667  Topic3   0.049321  vibrations       0.125395  0.6409  -7.3742 \n",
       "3492  Topic3   0.045467  tray             0.116301  0.6348  -7.4556 \n",
       "3253  Topic3   0.045467  stopwatch        0.116301  0.6348  -7.4556 \n",
       "1099  Topic3   0.045374  emotionless      0.116205  0.6336  -7.4576 \n",
       "3008  Topic3   0.044578  similarities     0.115410  0.6228  -7.4753 \n",
       "1051  Topic3   0.044578  dusted           0.115410  0.6228  -7.4753 \n",
       "1900  Topic3   0.044240  landlord         0.115072  0.6181  -7.4829 \n",
       "1580  Topic3   0.049154  hemmings         0.129483  0.6054  -7.3776 \n",
       "1700  Topic3   0.058248  incinerator      0.153612  0.6043  -7.2078 \n",
       "412   Topic3   0.042912  brutsen          0.113744  0.5992  -7.5134 \n",
       "323   Topic3   0.053659  blinking         0.142468  0.5976  -7.2899 \n",
       "754   Topic3   0.042689  crackled         0.113521  0.5960  -7.5186 \n",
       "168   Topic3   0.042492  arsonists        0.113323  0.5931  -7.5232 \n",
       "2897  Topic3   0.071626  scritt           0.191128  0.5925  -7.0011 \n",
       "1191  Topic3   0.041633  fastened         0.112466  0.5803  -7.5436 \n",
       "124   Topic3   0.041207  ancestors        0.112039  0.5738  -7.5539 \n",
       "3799  Topic3   0.041207  wording          0.112039  0.5738  -7.5539 \n",
       "2269  Topic3   0.041207  observable       0.112039  0.5738  -7.5539 \n",
       "3023  Topic3   0.041190  siya             0.112021  0.5735  -7.5543 \n",
       "2116  Topic3   0.062216  mommy            0.171481  0.5602  -7.1419 \n",
       "140   Topic3   0.043905  annoyed          0.119740  0.5707  -7.4905 \n",
       "1988  Topic3   0.060699  lyla             0.179028  0.4924  -7.1666 \n",
       "838   Topic3   0.042102  daddy            0.115380  0.5659  -7.5324 \n",
       "1131  Topic3   0.045171  escorted         0.128632  0.5275  -7.4621 \n",
       "3214  Topic3   0.045299  stairwell        0.131544  0.5080  -7.4592 \n",
       "781   Topic3   0.046607  creepy           0.153998  0.3788  -7.4308 \n",
       "751   Topic3   0.043442  coworker         0.124809  0.5187  -7.5011 \n",
       "3819  Topic4   0.084702  ya               0.163231  1.0787  -6.6727 \n",
       "2231  Topic4   0.076544  nirali           0.149857  1.0629  -6.7740 \n",
       "92    Topic4   0.063614  airpods          0.136928  0.9681  -6.9590 \n",
       "1781  Topic4   0.052306  invisible        0.125620  0.8586  -7.1548 \n",
       "2567  Topic4   0.066850  prue             0.162049  0.8492  -6.9094 \n",
       "2065  Topic4   0.048322  mickey           0.121636  0.8115  -7.2340 \n",
       "2154  Topic4   0.052583  mouse            0.133182  0.8054  -7.1495 \n",
       "2111  Topic4   0.056538  molly            0.144256  0.7980  -7.0770 \n",
       "2524  Topic4   0.046583  prentice         0.127022  0.7316  -7.2706 \n",
       "2941  Topic4   0.040444  shanti           0.113758  0.7005  -7.4119 \n",
       "1988  Topic4   0.063543  lyla             0.179028  0.6989  -6.9602 \n",
       "1036  Topic4   0.042400  driveway         0.120494  0.6902  -7.3647 \n",
       "3449  Topic4   0.037881  tinder           0.111196  0.6579  -7.4774 \n",
       "997   Topic4   0.037881  doorbell         0.111196  0.6579  -7.4774 \n",
       "2421  Topic4   0.035004  perks            0.108322  0.6050  -7.5564 \n",
       "1024  Topic4   0.035802  dreaming         0.111675  0.5971  -7.5339 \n",
       "2525  Topic4   0.033908  preoccupied      0.107223  0.5834  -7.5882 \n",
       "2060  Topic4   0.033908  messed           0.107223  0.5834  -7.5882 \n",
       "1920  Topic4   0.032310  leo              0.105624  0.5502  -7.6365 \n",
       "1855  Topic4   0.032310  katherine        0.105624  0.5502  -7.6365 \n",
       "3324  Topic4   0.032181  swat             0.105497  0.5474  -7.6405 \n",
       "2470  Topic4   0.032181  plastered        0.105497  0.5474  -7.6405 \n",
       "1086  Topic4   0.041488  ellie            0.136724  0.5421  -7.3865 \n",
       "3228  Topic4   0.031898  startalk         0.105214  0.5412  -7.6493 \n",
       "325   Topic4   0.031898  blip             0.105214  0.5412  -7.6493 \n",
       "3514  Topic4   0.031898  truffles         0.105214  0.5412  -7.6493 \n",
       "1990  Topic4   0.031898  mackenzie        0.105214  0.5412  -7.6493 \n",
       "2091  Topic4   0.031898  mishear          0.105214  0.5412  -7.6493 \n",
       "298   Topic4   0.031775  biringan         0.105089  0.5386  -7.6532 \n",
       "1419  Topic4   0.031775  gleaming         0.105089  0.5386  -7.6532 \n",
       "361   Topic4   0.031775  bordering        0.105089  0.5386  -7.6532 \n",
       "1903  Topic4   0.031775  lasts            0.105089  0.5386  -7.6532 \n",
       "3753  Topic4   0.031775  wheelchair       0.105089  0.5386  -7.6532 \n",
       "1639  Topic4   0.038409  huh              0.129172  0.5218  -7.4636 \n",
       "177   Topic4   0.034774  ashamed          0.118305  0.5103  -7.5630 \n",
       "3279  Topic4   0.034552  stumbled         0.117408  0.5115  -7.5694 \n",
       "462   Topic4   0.034343  buzzed           0.123811  0.4523  -7.5755 \n",
       "2246  Topic4   0.032601  noteworthy       0.112680  0.4945  -7.6275 \n",
       "739   Topic4   0.033190  couch            0.140706  0.2903  -7.6096 \n",
       "1689  Topic4   0.031945  imposter         0.116736  0.4388  -7.6479 \n",
       "2184  Topic5   0.048325  myron            0.134514  1.0964  -6.8485 \n",
       "3043  Topic5   0.041099  sledgehammer     0.119209  1.0552  -7.0105 \n",
       "3749  Topic5   0.030243  whack            0.108354  0.8440  -7.3172 \n",
       "1119  Topic5   0.029717  envelope         0.107828  0.8313  -7.3348 \n",
       "3532  Topic5   0.027529  tunnels          0.105640  0.7753  -7.4112 \n",
       "2404  Topic5   0.027431  peeping          0.105543  0.7726  -7.4148 \n",
       "2688  Topic5   0.027431  redundancy       0.105543  0.7726  -7.4148 \n",
       "1147  Topic5   0.025894  excuses          0.110014  0.6735  -7.4725 \n",
       "112   Topic5   0.025906  amazed           0.111381  0.6616  -7.4720 \n",
       "793   Topic5   0.023560  crisp            0.101671  0.6579  -7.5669 \n",
       "564   Topic5   0.023560  chick            0.101671  0.6579  -7.5669 \n",
       "3695  Topic5   0.024607  wailing          0.109129  0.6306  -7.5234 \n",
       "2933  Topic5   0.027332  shadows          0.121291  0.6300  -7.4184 \n",
       "3122  Topic5   0.022085  sonata           0.100196  0.6078  -7.6316 \n",
       "2667  Topic5   0.022085  rearview         0.100196  0.6078  -7.6316 \n",
       "3795  Topic5   0.022085  wooded           0.100196  0.6078  -7.6316 \n",
       "3135  Topic5   0.022085  southbound       0.100196  0.6078  -7.6316 \n",
       "1922  Topic5   0.022085  lewiston         0.100196  0.6078  -7.6316 \n",
       "3154  Topic5   0.022085  sped             0.100196  0.6078  -7.6316 \n",
       "945   Topic5   0.022085  disconnected     0.100196  0.6078  -7.6316 \n",
       "42    Topic5   0.022085  95               0.100196  0.6078  -7.6316 \n",
       "1102  Topic5   0.022085  emts             0.100196  0.6078  -7.6316 \n",
       "1666  Topic5   0.022085  hyundai          0.100196  0.6078  -7.6316 \n",
       "1348  Topic5   0.022454  fucked           0.103744  0.5897  -7.6150 \n",
       "3698  Topic5   0.022594  walled           0.105686  0.5773  -7.6088 \n",
       "1357  Topic5   0.020694  furiously        0.098806  0.5568  -7.6966 \n",
       "105   Topic5   0.021068  alley            0.101220  0.5506  -7.6787 \n",
       "3202  Topic5   0.019662  squirting        0.097774  0.5161  -7.7478 \n",
       "1928  Topic5   0.019387  lid              0.097499  0.5049  -7.7619 \n",
       "1961  Topic5   0.019337  logs             0.097451  0.5028  -7.7644 \n",
       "2099  Topic5   0.019337  mixing           0.097451  0.5028  -7.7644 \n",
       "3803  Topic5   0.019337  workspace        0.097451  0.5028  -7.7644 \n",
       "609   Topic5   0.019337  classifieds      0.097451  0.5028  -7.7644 \n",
       "2925  Topic5   0.019337  serenely         0.097451  0.5028  -7.7644 \n",
       "2611  Topic5   0.019337  questionnaires   0.097451  0.5028  -7.7644 \n",
       "2408  Topic5   0.019337  pencils          0.097451  0.5028  -7.7644 \n",
       "166   Topic5   0.019337  arranging        0.097451  0.5028  -7.7644 \n",
       "2986  Topic5   0.022620  shrugged         0.116137  0.4841  -7.6077 \n",
       "2897  Topic5   0.029676  scritt           0.191128  0.2575  -7.3361 \n",
       "1806  Topic5   0.022633  janitor          0.133509  0.3453  -7.6070 \n",
       "489   Topic5   0.021861  canvas           0.125106  0.3756  -7.6418 \n",
       "323   Topic5   0.021835  blinking         0.142468  0.2445  -7.6430 , token_table=Empty DataFrame\n",
       "Columns: [Topic, Freq, Term]\n",
       "Index: [], R=30, lambda_step=0.01, plot_opts={'xlab': 'PC1', 'ylab': 'PC2'}, topic_order=[1, 4, 5, 2, 3])"
      ]
     },
     "execution_count": 383,
     "metadata": {},
     "output_type": "execute_result"
    }
   ],
   "source": [
    "#https://www.machinelearningplus.com/nlp/topic-modeling-gensim-python/\n",
    "#pyLDAvis.sklearn.prepare(model, corpus, words)\n",
    "#https://github.com/bmabey/pyLDAvis/blob/master/notebooks/sklearn.ipynb\n",
    "\n",
    "pyLDAvis.sklearn.prepare(model, doc_words_matrix, vec)"
   ]
  },
  {
   "cell_type": "markdown",
   "metadata": {},
   "source": [
    "### Non-negative matrix factorization"
   ]
  },
  {
   "cell_type": "markdown",
   "metadata": {},
   "source": [
    "### Latent Dirichlet Allocation"
   ]
  },
  {
   "cell_type": "code",
   "execution_count": null,
   "metadata": {},
   "outputs": [],
   "source": [
    "#new TF-IDF Vectorizer\n",
    "cv_tfidf = TfidfVectorizer(stop_words=stopword_list,max_df=0.08,min_df=0.004)\n",
    "# cv_tfidf = TfidfVectorizer(stop_words=stopword_list,max_df=0.6,min_df=0.005,ngram_range=(1, 2))\n",
    "doc_word = cv_tfidf.fit_transform(df_news_clean['title_intro_clean'])\n",
    "print(doc_word.shape)\n",
    "# Convert sparse matrix of counts to a gensim corpus\n",
    "corpus = matutils.Sparse2Corpus(doc_word.transpose())\n",
    "# We need to save a mapping (dict) of row id to word (token) for later use by gensim:\n",
    "id2word = dict((v, k) for k, v in cv_tfidf.vocabulary_.items())\n",
    "# Create lda model (equivalent to \"fit\" in sklearn)\n",
    "lda = models.LdaMulticore(corpus=corpus, num_topics=13, id2word=id2word, passes=5, workers=1)\n",
    "# Transform the docs from the word space to the topic space (like \"transform\" in sklearn)\n",
    "lda_corpus = lda[corpus]\n",
    "# Store the documents' topic vectors in a list so we can take a peak\n",
    "lda_docs = [doc for doc in lda_corpus]\n",
    "# View Topic Distribution\n",
    "doc_cluster = [sorted(doc,key=lambda row:row[1])[::-1][0][0] for doc in lda_docs]\n",
    "sns.barplot(x=pd.Series(doc_cluster).value_counts().keys(),y=pd.Series(doc_cluster).value_counts().values);\n",
    "# # Check out the document vectors in the topic space for the first 5 documents\n",
    "# lda_docs[:5]\n",
    "lda.print_topics()\n",
    "# #Save Trained Model\n",
    "# with open('lda.pkl', 'wb') as picklefile:\n",
    "#     pickle.dump(lda, picklefile)\n",
    "\n",
    "\n",
    "\n"
   ]
  },
  {
   "cell_type": "code",
   "execution_count": null,
   "metadata": {
    "ExecuteTime": {
     "end_time": "2019-11-12T02:40:18.839737Z",
     "start_time": "2019-11-12T02:40:18.837395Z"
    }
   },
   "outputs": [],
   "source": [
    "# def lda_docs(doc_list):\n",
    "#     # A mapping of word IDs to words.\n",
    "#     words = corpora.Dictionary(doc_list)\n",
    "\n",
    "#     # Turns each document into a bag of words.\n",
    "#     corpus = [words.doc2bow(doc) for doc in doc_list]\n",
    "    \n",
    "#     lda_model = gensim.models.ldamodel.LdaMulticore(corpus=corpus,\n",
    "#                                                    id2word=words,\n",
    "#                                                    num_topics=10, \n",
    "#                                                    random_state=RANDOM_STATE,\n",
    "#                                                    update_every=1,\n",
    "#                                                    passes=10,\n",
    "#                                                    alpha='auto',\n",
    "#                                                    per_word_topics=True,\n",
    "#                                                    workers=W)\n",
    "#     return lda_model\n",
    "\n",
    "#https://www.machinelearningplus.com/nlp/topic-modeling-gensim-python/\n",
    "pyLDAvis.gensim.prepare(model, corpus, words)"
   ]
  },
  {
   "cell_type": "code",
   "execution_count": null,
   "metadata": {
    "ExecuteTime": {
     "end_time": "2019-11-12T02:40:22.942823Z",
     "start_time": "2019-11-12T02:40:22.938805Z"
    }
   },
   "outputs": [],
   "source": [
    "\n",
    "#lda_model_a = lda_docs(process_docs(docs_a, base_nlp))\n"
   ]
  },
  {
   "cell_type": "markdown",
   "metadata": {},
   "source": [
    "### Correlation Explanation"
   ]
  },
  {
   "cell_type": "markdown",
   "metadata": {},
   "source": [
    "# Layers"
   ]
  },
  {
   "cell_type": "markdown",
   "metadata": {},
   "source": [
    "## Over time"
   ]
  },
  {
   "cell_type": "markdown",
   "metadata": {},
   "source": [
    "## Segment? (prob no)"
   ]
  },
  {
   "cell_type": "markdown",
   "metadata": {},
   "source": [
    "## Character?"
   ]
  },
  {
   "cell_type": "markdown",
   "metadata": {},
   "source": [
    "# Explore"
   ]
  },
  {
   "cell_type": "markdown",
   "metadata": {},
   "source": [
    "## pyldavis"
   ]
  },
  {
   "cell_type": "markdown",
   "metadata": {},
   "source": [
    "## scattertext"
   ]
  },
  {
   "cell_type": "markdown",
   "metadata": {},
   "source": [
    "# Other"
   ]
  },
  {
   "cell_type": "markdown",
   "metadata": {
    "ExecuteTime": {
     "end_time": "2019-11-11T20:31:44.348997Z",
     "start_time": "2019-11-11T20:31:44.345895Z"
    }
   },
   "source": [
    "## sentiment"
   ]
  },
  {
   "cell_type": "markdown",
   "metadata": {
    "ExecuteTime": {
     "end_time": "2019-11-11T20:31:49.106741Z",
     "start_time": "2019-11-11T20:31:49.103571Z"
    }
   },
   "source": [
    "## word2vec"
   ]
  },
  {
   "cell_type": "code",
   "execution_count": null,
   "metadata": {},
   "outputs": [],
   "source": [
    "def transform_texts(texts):\n",
    "    # Load the annotation models\n",
    "    nlp = English()\n",
    "    # Stream texts through the models. We accumulate a buffer and release\n",
    "    # the GIL around the parser, for efficient multi-threading.\n",
    "    for doc in nlp.pipe(texts, n_threads=4):\n",
    "        # Iterate over base NPs, e.g. \"all their good ideas\"\n",
    "        for np in doc.noun_chunks:\n",
    "            # Only keep adjectives and nouns, e.g. \"good ideas\"\n",
    "            while len(np) > 1 and np[0].dep_ not in ('amod', 'compound'):\n",
    "                np = np[1:]\n",
    "            if len(np) > 1:\n",
    "                # Merge the tokens, e.g. good_ideas\n",
    "                np.merge(np.root.tag_, np.text, np.root.ent_type_)\n",
    "            # Iterate over named entities\n",
    "            for ent in doc.ents:\n",
    "                if len(ent) > 1:\n",
    "                    # Merge them into single tokens\n",
    "                    ent.merge(ent.root.tag_, ent.text, ent.label_)\n",
    "        token_strings = []\n",
    "        for token in tokens:\n",
    "            text = token.text.replace(' ', '_')\n",
    "            tag = token.ent_type_ or token.pos_\n",
    "            token_strings.append('%s|%s' % (text, tag))\n",
    "        yield ' '.join(token_strings)"
   ]
  },
  {
   "cell_type": "markdown",
   "metadata": {
    "ExecuteTime": {
     "end_time": "2019-11-11T20:31:55.614572Z",
     "start_time": "2019-11-11T20:31:55.612227Z"
    }
   },
   "source": [
    "## rec system"
   ]
  },
  {
   "cell_type": "markdown",
   "metadata": {
    "ExecuteTime": {
     "end_time": "2019-11-11T20:32:04.018815Z",
     "start_time": "2019-11-11T20:32:04.016111Z"
    }
   },
   "source": [
    "## clustering"
   ]
  },
  {
   "cell_type": "markdown",
   "metadata": {
    "ExecuteTime": {
     "end_time": "2019-11-11T20:32:25.978060Z",
     "start_time": "2019-11-11T20:32:25.974331Z"
    }
   },
   "source": [
    "# Results"
   ]
  },
  {
   "cell_type": "markdown",
   "metadata": {},
   "source": [
    "## Plotly/Tableau/D3/Flask"
   ]
  },
  {
   "cell_type": "code",
   "execution_count": null,
   "metadata": {},
   "outputs": [],
   "source": []
  }
 ],
 "metadata": {
  "kernelspec": {
   "display_name": "Python 3",
   "language": "python",
   "name": "python3"
  },
  "language_info": {
   "codemirror_mode": {
    "name": "ipython",
    "version": 3
   },
   "file_extension": ".py",
   "mimetype": "text/x-python",
   "name": "python",
   "nbconvert_exporter": "python",
   "pygments_lexer": "ipython3",
   "version": "3.7.5"
  },
  "toc": {
   "base_numbering": 1,
   "nav_menu": {},
   "number_sections": true,
   "sideBar": true,
   "skip_h1_title": false,
   "title_cell": "Table of Contents",
   "title_sidebar": "Contents",
   "toc_cell": false,
   "toc_position": {
    "height": "calc(100% - 180px)",
    "left": "10px",
    "top": "150px",
    "width": "165px"
   },
   "toc_section_display": true,
   "toc_window_display": true
  },
  "varInspector": {
   "cols": {
    "lenName": 16,
    "lenType": 16,
    "lenVar": 40
   },
   "kernels_config": {
    "python": {
     "delete_cmd_postfix": "",
     "delete_cmd_prefix": "del ",
     "library": "var_list.py",
     "varRefreshCmd": "print(var_dic_list())"
    },
    "r": {
     "delete_cmd_postfix": ") ",
     "delete_cmd_prefix": "rm(",
     "library": "var_list.r",
     "varRefreshCmd": "cat(var_dic_list()) "
    }
   },
   "types_to_exclude": [
    "module",
    "function",
    "builtin_function_or_method",
    "instance",
    "_Feature"
   ],
   "window_display": false
  }
 },
 "nbformat": 4,
 "nbformat_minor": 2
}
