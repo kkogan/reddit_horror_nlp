{
 "cells": [
  {
   "cell_type": "markdown",
   "metadata": {},
   "source": [
    "# Imports"
   ]
  },
  {
   "cell_type": "code",
   "execution_count": 1,
   "metadata": {
    "ExecuteTime": {
     "end_time": "2019-11-11T20:43:13.967439Z",
     "start_time": "2019-11-11T20:43:11.479388Z"
    }
   },
   "outputs": [],
   "source": [
    "import logging\n",
    "import os\n",
    "import pprint\n",
    "logging.basicConfig(level=logging.INFO)\n",
    "\n",
    "# http\n",
    "from bs4 import BeautifulSoup\n",
    "import requests\n",
    "import json\n",
    "import backoff\n",
    "from datetime import datetime, date, timedelta\n",
    "import time\n",
    "\n",
    "# data viz\n",
    "import matplotlib.pyplot as plt\n",
    "import seaborn as sns\n",
    "sns.set()\n",
    "%matplotlib inline\n",
    "\n",
    "# data\n",
    "import numpy as np\n",
    "import pandas as pd\n",
    "import pickle\n",
    "from collections import defaultdict\n",
    "import re\n",
    "pd.set_option('display.max_columns', 500)\n",
    "from copy import deepcopy\n",
    "\n",
    "#nlp\n",
    "import spacy\n",
    "from spacy.lemmatizer import Lemmatizer\n",
    "from spacy.lang.en.stop_words import STOP_WORDS\n",
    "import en_core_web_md\n"
   ]
  },
  {
   "cell_type": "code",
   "execution_count": 3,
   "metadata": {
    "ExecuteTime": {
     "end_time": "2019-11-11T20:57:10.519988Z",
     "start_time": "2019-11-11T20:56:30.260871Z"
    }
   },
   "outputs": [],
   "source": [
    "df_full = pd.read_json('/Users/kirill.kogan/Documents/data/reddit/nosleep.txt',lines=True)"
   ]
  },
  {
   "cell_type": "markdown",
   "metadata": {},
   "source": [
    "# Sample"
   ]
  },
  {
   "cell_type": "code",
   "execution_count": 4,
   "metadata": {
    "ExecuteTime": {
     "end_time": "2019-11-11T20:58:09.620797Z",
     "start_time": "2019-11-11T20:58:09.547258Z"
    }
   },
   "outputs": [],
   "source": [
    "df = df_full.sample(10000)"
   ]
  },
  {
   "cell_type": "markdown",
   "metadata": {
    "ExecuteTime": {
     "end_time": "2019-11-09T23:40:12.984924Z",
     "start_time": "2019-11-09T23:40:12.971123Z"
    }
   },
   "source": [
    "# Preprocess"
   ]
  },
  {
   "cell_type": "markdown",
   "metadata": {
    "ExecuteTime": {
     "end_time": "2019-11-11T16:47:26.111617Z",
     "start_time": "2019-11-11T16:47:26.109068Z"
    }
   },
   "source": [
    "## Dataframe columns"
   ]
  },
  {
   "cell_type": "markdown",
   "metadata": {
    "ExecuteTime": {
     "end_time": "2019-11-11T16:23:36.826756Z",
     "start_time": "2019-11-11T16:23:36.823317Z"
    }
   },
   "source": [
    "### Drop duplicates"
   ]
  },
  {
   "cell_type": "code",
   "execution_count": 5,
   "metadata": {
    "ExecuteTime": {
     "end_time": "2019-11-11T20:58:11.607176Z",
     "start_time": "2019-11-11T20:58:11.565153Z"
    }
   },
   "outputs": [],
   "source": [
    "df = df.drop_duplicates(subset='id')"
   ]
  },
  {
   "cell_type": "markdown",
   "metadata": {},
   "source": [
    "### Filter Column Types"
   ]
  },
  {
   "cell_type": "code",
   "execution_count": 6,
   "metadata": {
    "ExecuteTime": {
     "end_time": "2019-11-11T20:58:13.658419Z",
     "start_time": "2019-11-11T20:58:13.638096Z"
    }
   },
   "outputs": [],
   "source": [
    "#df['author_created_utc'] = pd.to_datetime(df['author_created_utc'], unit='s')\n",
    "df['created_utc'] = pd.to_datetime(df['created_utc'], unit='s')\n",
    "df['created_year'] = pd.DatetimeIndex(df['created_utc']).year\n",
    "df['created_month'] = pd.DatetimeIndex(df['created_utc']).month\n",
    "#df['edited'] = pd.to_datetime(df['edited'], unit='s')\n",
    "#df['retrieved_on'] = pd.to_datetime(df['retrieved_on'], unit='s')"
   ]
  },
  {
   "cell_type": "code",
   "execution_count": 7,
   "metadata": {
    "ExecuteTime": {
     "end_time": "2019-11-11T20:58:15.550502Z",
     "start_time": "2019-11-11T20:58:15.544798Z"
    }
   },
   "outputs": [],
   "source": [
    "mask = ['author',\n",
    "        'created_utc',\n",
    "        'created_year',\n",
    "        'created_month', \n",
    "        'score', \n",
    "        'num_comments',\n",
    "        'full_link', \n",
    "        'title', \n",
    "        'selftext',]\n"
   ]
  },
  {
   "cell_type": "code",
   "execution_count": 8,
   "metadata": {
    "ExecuteTime": {
     "end_time": "2019-11-11T20:58:15.856283Z",
     "start_time": "2019-11-11T20:58:15.842189Z"
    }
   },
   "outputs": [],
   "source": [
    "df = df[mask] "
   ]
  },
  {
   "cell_type": "code",
   "execution_count": null,
   "metadata": {},
   "outputs": [],
   "source": []
  },
  {
   "cell_type": "markdown",
   "metadata": {
    "ExecuteTime": {
     "end_time": "2019-11-11T20:04:57.441673Z",
     "start_time": "2019-11-11T20:04:57.433896Z"
    }
   },
   "source": [
    "### Main body text column\n",
    "- selfttext contains utf8 sequences"
   ]
  },
  {
   "cell_type": "code",
   "execution_count": 9,
   "metadata": {
    "ExecuteTime": {
     "end_time": "2019-11-11T20:58:18.317877Z",
     "start_time": "2019-11-11T20:58:17.819092Z"
    }
   },
   "outputs": [],
   "source": [
    "nlp = nlp = spacy.load(\"en_core_web_sm\")"
   ]
  },
  {
   "cell_type": "markdown",
   "metadata": {},
   "source": [
    "#### Stopwords\n",
    "(Notes as I spot them)\n",
    "- trigger warning: <trigger type>\n",
    "- [part %d]\n",
    "- voting thread\n",
    "- mods\n",
    "- http.*\n"
   ]
  },
  {
   "cell_type": "code",
   "execution_count": 10,
   "metadata": {
    "ExecuteTime": {
     "end_time": "2019-11-11T20:58:20.221164Z",
     "start_time": "2019-11-11T20:58:20.217291Z"
    }
   },
   "outputs": [],
   "source": [
    "body_stop_words = []\n"
   ]
  },
  {
   "cell_type": "code",
   "execution_count": 11,
   "metadata": {
    "ExecuteTime": {
     "end_time": "2019-11-11T20:58:25.745170Z",
     "start_time": "2019-11-11T20:58:25.737936Z"
    }
   },
   "outputs": [],
   "source": [
    "nlp.Defaults.stop_words.update(body_stop_words)\n",
    "for word in STOP_WORDS:\n",
    "    lexeme = nlp.vocab[word]\n",
    "    lexeme.is_stop = True"
   ]
  },
  {
   "cell_type": "code",
   "execution_count": null,
   "metadata": {
    "collapsed": true
   },
   "outputs": [],
   "source": []
  },
  {
   "cell_type": "markdown",
   "metadata": {
    "ExecuteTime": {
     "end_time": "2019-11-11T20:05:51.406636Z",
     "start_time": "2019-11-11T20:05:51.403347Z"
    }
   },
   "source": [
    "### Title column"
   ]
  },
  {
   "cell_type": "markdown",
   "metadata": {
    "ExecuteTime": {
     "end_time": "2019-11-11T16:07:53.157538Z",
     "start_time": "2019-11-11T16:07:53.148838Z"
    }
   },
   "source": [
    "# Topics"
   ]
  },
  {
   "cell_type": "markdown",
   "metadata": {
    "ExecuteTime": {
     "end_time": "2019-11-11T16:10:39.901768Z",
     "start_time": "2019-11-11T16:10:39.898927Z"
    }
   },
   "source": [
    "## Topic Text Params"
   ]
  },
  {
   "cell_type": "markdown",
   "metadata": {
    "ExecuteTime": {
     "end_time": "2019-11-11T16:08:40.480750Z",
     "start_time": "2019-11-11T16:08:40.477254Z"
    }
   },
   "source": [
    "### max_df"
   ]
  },
  {
   "cell_type": "markdown",
   "metadata": {},
   "source": [
    "### number topics"
   ]
  },
  {
   "cell_type": "markdown",
   "metadata": {},
   "source": [
    "### Doc length"
   ]
  },
  {
   "cell_type": "markdown",
   "metadata": {},
   "source": [
    "## Topic Modeling"
   ]
  },
  {
   "cell_type": "markdown",
   "metadata": {},
   "source": [
    "### Non-negative matrix factorization"
   ]
  },
  {
   "cell_type": "markdown",
   "metadata": {},
   "source": [
    "### Latent Dirichlet Allocation"
   ]
  },
  {
   "cell_type": "markdown",
   "metadata": {},
   "source": [
    "### Correlation Explanation"
   ]
  },
  {
   "cell_type": "markdown",
   "metadata": {},
   "source": [
    "# Layers"
   ]
  },
  {
   "cell_type": "markdown",
   "metadata": {},
   "source": [
    "## Over time"
   ]
  },
  {
   "cell_type": "markdown",
   "metadata": {},
   "source": [
    "## Segment? (prob no)"
   ]
  },
  {
   "cell_type": "markdown",
   "metadata": {},
   "source": [
    "## Character?"
   ]
  },
  {
   "cell_type": "markdown",
   "metadata": {},
   "source": [
    "# Explore"
   ]
  },
  {
   "cell_type": "markdown",
   "metadata": {},
   "source": [
    "## pyldavis"
   ]
  },
  {
   "cell_type": "markdown",
   "metadata": {},
   "source": [
    "## scattertext"
   ]
  },
  {
   "cell_type": "markdown",
   "metadata": {},
   "source": [
    "# Other"
   ]
  },
  {
   "cell_type": "markdown",
   "metadata": {
    "ExecuteTime": {
     "end_time": "2019-11-11T20:31:44.348997Z",
     "start_time": "2019-11-11T20:31:44.345895Z"
    }
   },
   "source": [
    "## sentiment"
   ]
  },
  {
   "cell_type": "markdown",
   "metadata": {
    "ExecuteTime": {
     "end_time": "2019-11-11T20:31:49.106741Z",
     "start_time": "2019-11-11T20:31:49.103571Z"
    }
   },
   "source": [
    "## word2vec"
   ]
  },
  {
   "cell_type": "markdown",
   "metadata": {
    "ExecuteTime": {
     "end_time": "2019-11-11T20:31:55.614572Z",
     "start_time": "2019-11-11T20:31:55.612227Z"
    }
   },
   "source": [
    "## rec system"
   ]
  },
  {
   "cell_type": "markdown",
   "metadata": {
    "ExecuteTime": {
     "end_time": "2019-11-11T20:32:04.018815Z",
     "start_time": "2019-11-11T20:32:04.016111Z"
    }
   },
   "source": [
    "## clustering"
   ]
  },
  {
   "cell_type": "markdown",
   "metadata": {
    "ExecuteTime": {
     "end_time": "2019-11-11T20:32:25.978060Z",
     "start_time": "2019-11-11T20:32:25.974331Z"
    }
   },
   "source": [
    "# Results"
   ]
  },
  {
   "cell_type": "markdown",
   "metadata": {},
   "source": [
    "## Plotly/Tableau/D3/Flask"
   ]
  },
  {
   "cell_type": "code",
   "execution_count": null,
   "metadata": {},
   "outputs": [],
   "source": []
  }
 ],
 "metadata": {
  "kernelspec": {
   "display_name": "Python 3",
   "language": "python",
   "name": "python3"
  },
  "language_info": {
   "codemirror_mode": {
    "name": "ipython",
    "version": 3
   },
   "file_extension": ".py",
   "mimetype": "text/x-python",
   "name": "python",
   "nbconvert_exporter": "python",
   "pygments_lexer": "ipython3",
   "version": "3.6.9"
  },
  "toc": {
   "base_numbering": 1,
   "nav_menu": {},
   "number_sections": true,
   "sideBar": true,
   "skip_h1_title": false,
   "title_cell": "Table of Contents",
   "title_sidebar": "Contents",
   "toc_cell": false,
   "toc_position": {
    "height": "calc(100% - 180px)",
    "left": "10px",
    "top": "150px",
    "width": "165px"
   },
   "toc_section_display": true,
   "toc_window_display": true
  },
  "varInspector": {
   "cols": {
    "lenName": 16,
    "lenType": 16,
    "lenVar": 40
   },
   "kernels_config": {
    "python": {
     "delete_cmd_postfix": "",
     "delete_cmd_prefix": "del ",
     "library": "var_list.py",
     "varRefreshCmd": "print(var_dic_list())"
    },
    "r": {
     "delete_cmd_postfix": ") ",
     "delete_cmd_prefix": "rm(",
     "library": "var_list.r",
     "varRefreshCmd": "cat(var_dic_list()) "
    }
   },
   "types_to_exclude": [
    "module",
    "function",
    "builtin_function_or_method",
    "instance",
    "_Feature"
   ],
   "window_display": false
  }
 },
 "nbformat": 4,
 "nbformat_minor": 2
}
