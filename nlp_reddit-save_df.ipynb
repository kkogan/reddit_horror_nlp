{
 "cells": [
  {
   "cell_type": "markdown",
   "metadata": {},
   "source": [
    "# Imports"
   ]
  },
  {
   "cell_type": "code",
   "execution_count": 3,
   "metadata": {
    "ExecuteTime": {
     "end_time": "2019-11-14T02:54:51.991038Z",
     "start_time": "2019-11-14T02:54:49.050975Z"
    }
   },
   "outputs": [
    {
     "name": "stdout",
     "output_type": "stream",
     "text": [
      "cores 8\n"
     ]
    },
    {
     "data": {
      "text/html": [
       "<style>.container { width:100% !important; }</style>"
      ],
      "text/plain": [
       "<IPython.core.display.HTML object>"
      ]
     },
     "metadata": {},
     "output_type": "display_data"
    },
    {
     "name": "stderr",
     "output_type": "stream",
     "text": [
      "INFO:gensim.summarization.textcleaner:'pattern' package not found; tag filters are not available for English\n"
     ]
    }
   ],
   "source": [
    "#misc\n",
    "import logging\n",
    "import os\n",
    "import pprint\n",
    "logging.basicConfig(level=logging.INFO)\n",
    "\n",
    "import multiprocessing\n",
    "print(\"cores\", multiprocessing.cpu_count())\n",
    "from IPython.core.display import display, HTML\n",
    "display(HTML(\"<style>.container { width:100% !important; }</style>\"))\n",
    "\n",
    "# http\n",
    "import requests\n",
    "import json\n",
    "from datetime import datetime, date, timedelta\n",
    "import time\n",
    "from bs4 import BeautifulSoup\n",
    "\n",
    "\n",
    "# data viz\n",
    "import matplotlib.pyplot as plt\n",
    "import seaborn as sns\n",
    "sns.set()\n",
    "%matplotlib inline\n",
    "\n",
    "# data\n",
    "import numpy as np\n",
    "#import dask.dataframe as pd\n",
    "import pandas as pd\n",
    "import pickle\n",
    "from collections import defaultdict\n",
    "import re\n",
    "pd.set_option('display.max_columns', 500)\n",
    "pd.set_option('display.max_rows', 500)\n",
    "pd.set_option('display.max_colwidth', -1)\n",
    "from copy import deepcopy\n",
    "\n",
    "#nlp\n",
    "import spacy\n",
    "from spacy.lemmatizer import Lemmatizer\n",
    "from spacy.lang.en.stop_words import STOP_WORDS\n",
    "from sense2vec import Sense2VecComponent\n",
    "from spacy import displacy\n",
    "from tqdm import tqdm_notebook as tqdm\n",
    "\n",
    "\n",
    "import gensim\n",
    "import gensim.corpora as corpora\n",
    "from gensim.utils import simple_preprocess\n",
    "from gensim.models import CoherenceModel\n",
    "from gensim.models.ldamulticore import LdaMulticore\n",
    "from gensim.models.ldamodel import LdaModel\n",
    "from gensim.models.phrases import Phrases, Phraser\n",
    "\n",
    "import pyLDAvis.gensim\n",
    "import pyLDAvis.sklearn\n",
    "pyLDAvis.enable_notebook()\n",
    "\n",
    "import pandas as pd\n",
    "from sklearn.feature_extraction.text import CountVectorizer \n",
    "from sklearn.decomposition import TruncatedSVD\n",
    "from sklearn.decomposition import NMF\n",
    "from sklearn.metrics.pairwise import cosine_similarity\n",
    "\n",
    "# Constants\n",
    "RANDOM_STATE=42\n",
    "SAMPLE_SIZE=2000\n",
    "WORKERS=3"
   ]
  },
  {
   "cell_type": "markdown",
   "metadata": {
    "ExecuteTime": {
     "end_time": "2019-11-12T19:05:56.431740Z",
     "start_time": "2019-11-12T19:05:56.429270Z"
    },
    "heading_collapsed": true
   },
   "source": [
    "# Original data"
   ]
  },
  {
   "cell_type": "code",
   "execution_count": 13,
   "metadata": {
    "ExecuteTime": {
     "end_time": "2019-11-14T01:49:10.836268Z",
     "start_time": "2019-11-14T01:48:28.606566Z"
    },
    "hidden": true
   },
   "outputs": [],
   "source": [
    "df_full = pd.read_json('/Users/kirill.kogan/Documents/data/reddit/nosleep.txt',lines=True)"
   ]
  },
  {
   "cell_type": "code",
   "execution_count": null,
   "metadata": {
    "ExecuteTime": {
     "end_time": "2019-11-12T18:32:56.360367Z",
     "start_time": "2019-11-12T18:32:56.357006Z"
    },
    "hidden": true
   },
   "outputs": [],
   "source": []
  },
  {
   "cell_type": "markdown",
   "metadata": {},
   "source": [
    "# Clean"
   ]
  },
  {
   "cell_type": "markdown",
   "metadata": {
    "heading_collapsed": true
   },
   "source": [
    "## clean it up"
   ]
  },
  {
   "cell_type": "code",
   "execution_count": 14,
   "metadata": {
    "ExecuteTime": {
     "end_time": "2019-11-14T01:49:11.588661Z",
     "start_time": "2019-11-14T01:49:11.556459Z"
    },
    "hidden": true
   },
   "outputs": [],
   "source": [
    "def clean_frame(frame):\n",
    "    df = frame.copy()\n",
    "    \n",
    "    ##############\n",
    "    # Duplicates\n",
    "    ##############\n",
    "    df = df.drop_duplicates(subset='id')\n",
    "    \n",
    "    #######\n",
    "    # NAs\n",
    "    #######\n",
    "    df = df.dropna(subset=['selftext'])\n",
    "    #df = df[df['selftext'] != '[removed]']\n",
    "    #df = df[df['selftext'] != '[deleted]']\n",
    "    df = df[df['selftext'].str.len() > 300]\n",
    "    df = df[df['score'] > 0]\n",
    "    \n",
    "    ########\n",
    "    # Text cleaning\n",
    "    ########\n",
    "    df['selftext'] = df['selftext'].replace(value = '', regex = 'amp;\\\\S+') \n",
    "    df = df[df['title'].str.contains('voting thread') != True]\n",
    "    \n",
    "    ##################\n",
    "    # Date processing\n",
    "    ##################\n",
    "    df['created_utc'] = pd.to_datetime(df['created_utc'], unit='s')\n",
    "    df['created_year'] = pd.DatetimeIndex(df['created_utc']).year\n",
    "    df['created_month'] = pd.DatetimeIndex(df['created_utc']).month\n",
    "    #df['edited'] = pd.to_datetime(df['edited'], unit='s')\n",
    "    #df['retrieved_on'] = pd.to_datetime(df['retrieved_on'], unit='s')\n",
    "    #df['author_created_utc'] = pd.to_datetime(df['author_created_utc'], unit='s')\n",
    "\n",
    "    mask = ['author',\n",
    "        'created_utc',\n",
    "        'created_year',\n",
    "        'created_month', \n",
    "        'score', \n",
    "        'num_comments',\n",
    "        'full_link', \n",
    "        'title', \n",
    "        'selftext',]\n",
    "    \n",
    "    return df[mask] "
   ]
  },
  {
   "cell_type": "code",
   "execution_count": 15,
   "metadata": {
    "ExecuteTime": {
     "end_time": "2019-11-14T01:49:17.761451Z",
     "start_time": "2019-11-14T01:49:11.926482Z"
    },
    "hidden": true
   },
   "outputs": [],
   "source": [
    "df_clean = clean_frame(df_full)\n"
   ]
  },
  {
   "cell_type": "code",
   "execution_count": 16,
   "metadata": {
    "ExecuteTime": {
     "end_time": "2019-11-14T01:49:18.331340Z",
     "start_time": "2019-11-14T01:49:18.253265Z"
    },
    "hidden": true
   },
   "outputs": [],
   "source": [
    "df_clean.sort_values(['score'], ascending=False, inplace=True)"
   ]
  },
  {
   "cell_type": "code",
   "execution_count": 17,
   "metadata": {
    "ExecuteTime": {
     "end_time": "2019-11-14T01:49:35.490579Z",
     "start_time": "2019-11-14T01:49:18.643025Z"
    },
    "hidden": true
   },
   "outputs": [],
   "source": [
    "df_clean.to_pickle(\"/Users/kirill.kogan/Documents/data/reddit/reddit_df_clean.pkl\")"
   ]
  },
  {
   "cell_type": "markdown",
   "metadata": {},
   "source": [
    "## Load clean pickle"
   ]
  },
  {
   "cell_type": "code",
   "execution_count": 4,
   "metadata": {
    "ExecuteTime": {
     "end_time": "2019-11-14T02:54:54.086880Z",
     "start_time": "2019-11-14T02:54:52.006178Z"
    }
   },
   "outputs": [],
   "source": [
    "df_clean = pd.read_pickle('/Users/kirill.kogan/Documents/data/reddit/reddit_df_clean.pkl')"
   ]
  },
  {
   "cell_type": "code",
   "execution_count": 13,
   "metadata": {
    "ExecuteTime": {
     "end_time": "2019-11-13T04:51:35.497523Z",
     "start_time": "2019-11-13T04:51:30.745322Z"
    }
   },
   "outputs": [],
   "source": [
    "df_19_sub = df_clean[df_clean['created_year'] == 2019].head(200)\n",
    "df_19_sub.to_pickle('./reddit_df_19_sub.pkl')"
   ]
  },
  {
   "cell_type": "code",
   "execution_count": 18,
   "metadata": {
    "ExecuteTime": {
     "end_time": "2019-11-14T01:49:37.404634Z",
     "start_time": "2019-11-14T01:49:35.784916Z"
    }
   },
   "outputs": [],
   "source": [
    "df_clean_sub = df_clean.head(25000).sample(3200, random_state=RANDOM_STATE)\n",
    "df_clean_sub.to_pickle('./reddit_df_clean_sub.pkl')"
   ]
  },
  {
   "cell_type": "markdown",
   "metadata": {},
   "source": [
    "## Check terms"
   ]
  },
  {
   "cell_type": "code",
   "execution_count": 5,
   "metadata": {
    "ExecuteTime": {
     "end_time": "2019-11-14T02:54:55.469950Z",
     "start_time": "2019-11-14T02:54:54.183491Z"
    }
   },
   "outputs": [
    {
     "data": {
      "text/html": [
       "<div>\n",
       "<style scoped>\n",
       "    .dataframe tbody tr th:only-of-type {\n",
       "        vertical-align: middle;\n",
       "    }\n",
       "\n",
       "    .dataframe tbody tr th {\n",
       "        vertical-align: top;\n",
       "    }\n",
       "\n",
       "    .dataframe thead th {\n",
       "        text-align: right;\n",
       "    }\n",
       "</style>\n",
       "<table border=\"1\" class=\"dataframe\">\n",
       "  <thead>\n",
       "    <tr style=\"text-align: right;\">\n",
       "      <th></th>\n",
       "      <th>author</th>\n",
       "      <th>created_utc</th>\n",
       "      <th>created_year</th>\n",
       "      <th>created_month</th>\n",
       "      <th>score</th>\n",
       "      <th>num_comments</th>\n",
       "      <th>full_link</th>\n",
       "      <th>title</th>\n",
       "      <th>selftext</th>\n",
       "    </tr>\n",
       "  </thead>\n",
       "  <tbody>\n",
       "    <tr>\n",
       "      <th>257018</th>\n",
       "      <td>wysteria1</td>\n",
       "      <td>2019-06-03 08:06:59</td>\n",
       "      <td>2019</td>\n",
       "      <td>6</td>\n",
       "      <td>62</td>\n",
       "      <td>14</td>\n",
       "      <td>https://www.reddit.com/r/nosleep/comments/bw86hu/the_end_of_times/</td>\n",
       "      <td>The End of Times</td>\n",
       "      <td>God finally returned to Earth.\\n\\nContrary to religious beliefs, there is no \"apocalypse\" or \"end of days\" or \"ragnarok\" as others may call it. Literally none of those things happened.\\n\\nIt was 11th in February when the skies seemingly opened and out came God, in all his glory. Angels lined up on either sides of the opening, blaring their trumpets, singing songs of praise as God descended from heaven in a golden horse.\\n\\nEveryone got mixed reactions. Others ran away scared, others like me bowed down in greeting, while some others brushed it off as mass hysteria or some crap.\\n\\nNevertheless, God is back.\\n\\nLike I said, there were no apocalypse. God is simply back. \\n\\nGod then announced that peace will be restored to the world once again, and that God himself will do it.\\n\\nGod then went around the world, healing sick people, ending wars, touching the hearts and egos of even the most hardened politician. God also fixed the earth, turning forests and ecosystems around the world back to its former state.\\n\\nThe best part is, God also restored extinct animals, like mammoths, dodos, northern white rhinos, etc.\\n\\nLike God said, these were all done for the benefit of humanity.\\n\\nEveryone was happy. In fact, happy is an understatement. So happy in fact, that nobody even questioned as to why God was a female.\\n\\nYou heard me right. God is a she.\\n\\nNevertheless, nobody was bothered by this fact. Why would it matter anyway? God is back. Peace is here. Salvation is here.\\n\\nSo as you might guess, there is no more evil in the world. Everyone was doing good deeds, while God would occasionally stroll around and meet people. Children would run up to her, adults would be greeting her and giving thanks. She even walked up to me one time while I was at the park reading a book. \\n\\nShe greeted me with her beautiful smile that made me freeze for like 2 minutes. She then talked to me about lots of stuff, assuring me that everyone would be with her in heaven.\\n\\nUntil, she broke the news.\\n\\nOne day God descended from heaven and hovered above the world, announcing that heaven was almost full, so the first ones to die would be the only ones accepted. She then proceeded to announce that taking one's own life is now acceptable. Basically entering heaven became first-come, first-served.\\n\\nThat's when the suicides began.\\n\\nMillions and millions of people proceeded to kill themselves that day. It's being announced in the news, on the radio, heck even the streets are filled with dead men, women, and children. You can't really blame them though, everyone wanted to go to heaven. EVERYONE.\\n\\nEven those who used to be corrupt politicians encouraged their men and took their own lives altogether.\\n\\nIt's been 5 days since God's announcement. Everything is quiet. Real quiet.\\n\\n&amp;\\n\\nGod climbed up her throne, gazing at the millions of souls before her. She took a seat, taking pleasure in watching her followers who heeded her announcement, all screaming, burning in the eternal flames on the fields of hell. A servant comes in and took her magnificent robe, revealing red skin, goat horns, and a barbed tail. She marveled at her greatest achievement.\\n\\nThe world was at peace once again.</td>\n",
       "    </tr>\n",
       "    <tr>\n",
       "      <th>212316</th>\n",
       "      <td>duofinu17</td>\n",
       "      <td>2018-06-16 00:18:52</td>\n",
       "      <td>2018</td>\n",
       "      <td>6</td>\n",
       "      <td>20</td>\n",
       "      <td>6</td>\n",
       "      <td>https://www.reddit.com/r/nosleep/comments/8rfnic/flyingeddys_blog/</td>\n",
       "      <td>FlyingEddy's Blog.</td>\n",
       "      <td>This has kept me up for days. I needed to find people to talk to about this so I made a Reddit account just so that at least one person would know about my story.\\n\\nAbout a year ago I was browsing the web when I stumbled upon a blog belonging to an individual who went by the username FlyingEddy. His blog was fairly interesting; he enjoyed travelling the world and posted pictures and stories about his adventures for his followers to see. His page was very small, only 43 followers at the time I found it. I've had dreams of travelling the world since I was young, and I occasionally spent my spare time exploring Earth through Google street view, visiting places I plan on going to one day when I get older. The only strange thing about the blog that at the time was slightly annoying was that FlyingEddy blocked comments, so his users weren't able to comment on any of his posts. I assumed he had received some harassment in the past and simply didn't want to deal with it. Regardless, it was natural for me to click the follow button on FlyingEddy's page. His posts were detailed but not too long so that reading them would get boring, and his pictures were always pretty to look at. He would post every once in a while and each post would follow the same format in terms of title: The date followed by an interesting caption, and then @ the place he was at. It made searching through his posts easier and it made the blog more organized as a whole. I visited his page every once in a while and found amusement through his tales of exploration. It was fun to see what the world was like and even though I wasn't able to be there myself, being able to at least see it through FlyingEddy's lens gave me a sense of pleasure.\\n\\nFast forward a few weeks when he posts something very odd.\\n\\nThe title was formatted the same way as he always did, but right from the date the post caught my attention. It was titled \"April 23, 2017: I found you, ragnarok98. @Oslo, Norway.\" Attached to the post wasn't a picture of Oslo's gorgeous landscapes or something scenic, something that was in every picture that FlyingEddy posted.\\n\\nIt was a body.\\n\\nIt was cold and lifeless, limbs sprawled across the concrete backdrop which I assumed was a sidewalk. There was no text. Just the image. Nothing else. The problem with the post wasn't just the morbid image, it was the date. It had been titled \"April 23, 2017\", but it had been posted on April 9, 2017, two weeks before the titled date. I assumed it was just some prank that FlyingEddy organized with one of his followers. Sure enough, by investigating the followers list on the blog, ragnarok98 was on the list. Maybe they had won a giveaway.\\n\\nTwo weeks later I decided to check on the blog, see if anything changed. Perhaps the prank was over and that there was a nice surprise waiting for me. Perhaps I'd get a good laugh out of it.\\n\\nThe blog hadn't changed. No new posts since the once from the 9th, and none of the blog's layout had changed. The only thing I noticed was that the follower number had gone down from 44 to 43. No one new followed since I did, and that was no surprise to me. FlyingEddy was clearly not a superstar on the web and was just a modest guy looking to share his stories to the internet, so I accepted the fact that new followers would be a rare thing. I checked the followers list and what caught my eye was that ragnarok98 was gone. I double, triple checked, and they weren't there on the list. At first it was obviously slightly concerning, but I just assumed that FlyingEddy was going far with this prank and that ragnarok98 was maybe a close friend of his. However, this wouldn't be the last ominous post from FlyingEddy.\\n\\nA month after the previous one, another showed up, and like the post for ragnarok98, it was the same. This time it was for username PeepingRog. Again, the date titled in the post was two weeks ahead. Again, the post only consisted of someone's corpse. Two weeks later, the follower count dropped to 42, and sure enough, PeepingRog was gone from the list. As more and more posts showed up over the following weeks and months, it became clear to me that these posts weren't merely a sick and twisted prank. It couldn't have been. Post after post, photos of bodies showed up on the blog feed, and exactly two weeks after each post was submitted, a user disappeared from the followers list. One thing that was consistent throughout every post was the title:\\n\\n\"I found you.\"\\n\\nRarely, a new follower showed up only to be gone two weeks after their own bodies showed up on the page. By the end of May the follower count for FlyingEddy's blog had dropped down to just one. That last one is me.\\n\\nOn the first of June this year, a post popped up on the feed: \"June 15, 2018: I found you, duofinu17. @Toronto, Canada\" I live in Toronto.\\n\\nKeeping with the other posts, a picture was there.\\n\\nIt was me.\\n\\nDead.\\n\\nI froze. Not because of the photo of my own corpse, lying there dead and lifeless, it was the background. I recognized it as a park I frequented. I take walks there regularly, almost daily, just to get some fresh air or to clear my head. But now I was supposed to believe that it would be the site of my death.\\n\\nUp until that point I was never 100&amp; sure that all the bodies I saw on the blog actually belonged to their respective usernames. I never knew any of the other followers so I had no concrete proof that any of this was real. Regardless, I was terrified.\\n\\nToday is my due date. It has been two weeks since that post and if I'm anything like the other users, I'm set to die today. Or at least that's what I assume. As I write this I am shaking with every inch of my body, and I hoped that putting this all down would calm my nerves, but I feel like it's almost done the opposite.\\n\\nI think I'll take a walk around the park after I post this. Maybe clear my head a bit.</td>\n",
       "    </tr>\n",
       "    <tr>\n",
       "      <th>267357</th>\n",
       "      <td>dnzprs</td>\n",
       "      <td>2019-08-19 10:15:48</td>\n",
       "      <td>2019</td>\n",
       "      <td>8</td>\n",
       "      <td>10</td>\n",
       "      <td>8</td>\n",
       "      <td>https://www.reddit.com/r/nosleep/comments/csf4at/im_being_watched_by_fivedimensional_beings_part_i/</td>\n",
       "      <td>I'm being watched by five-dimensional beings - Part I</td>\n",
       "      <td>I am in a lot of trouble right now and I'm being watched by a number of higher dimension beings. They're everywhere I turn and I'm scared. I don't know what to do. \\n\\nLet me explain. I am a Tragnan. For those of you who don't know, and I assume that's pretty much everyone reading my post, a Tragnan is a follower of a lesser known school of magic called the Kblan Tragna. It mainly focuses on magic on different astral levels that is provided by beings of higher dimensions. \\n\\nA little back story here. I am in a very bad place in my life right now. I am stressed beyond my ability to handle. I am scared for my future. I just got a new job, which is a lot better than my old one, but I work part time, so I earn a lot less. My husband is paying for almost everything and we do make ends meet but... I did a pregnancy test three days ago and it came out positive. How are we going to afford a baby now? My husband doesn't know yet. How can I tell him? He would make me quit school and eventually work, but I need this school. I need to graduate in order to get a real paying job. \\n\\nSo with all these thoughts in my head, I wanted a solution. A new perspective. This is why I did the contacting ritual last night. Without boring you with the details (and mostly because the information on how to do the rituals is magically protected by my mentor), I got in contact with a five dimensional being. \\n\\nI am going to try to simply explain how this works, so that you have an idea of other dimensions. There are certain steps that need to be followed and some mantras that need to be chanted to get to the astral world (sorry folks, this part is protected). There are seven astral levels and in each one beings of different levels of intelligence. The beings of the first level are very much like plants. They neither have the ability to form complex thoughts and feelings, nor are they able to move. Beings of second level are like animals, meaning they can move but only act on instincts. The third level is the multiverse we live in (yes, this school of magic believes in the multiverse and that different outcomes to different situations have a place in its own universe). Beings of level four can control space, whereas beings on level five can control time, as well. Level six is where \"gods\" live. I used \"gods\" losely here, and mean beings that can change fate by it. Another fun fact about them is that you can't contact them directly. You *can* contact them through a level five being or by leaving your physical body behind (though the latter is a myth and the only person to have contacted a being of the sixth level -the other mentor- died a couple years ago). \\n\\nEveryone's perception of the astral world is unique. It is shaped by the preexisting forms on each person's subconscious mind, because astral bodies don't have a physical form and the mind can't produce new forms, only use old ones, if that makes sense. \\n\\nSo I closed my eyes, took a deep breath and started chanting the mantras to enter the astral planes and landed on level zero. It is basically the hallway between the physical and astral worlds, and for me it's always the empty beach with cut tree trunks on the side. For anyone interested in psychology, it is a sign of father figure problems in early childhood. \\n\\nAnyways, I walked towards the first pyramid, which indicates the entrance to the first plane. Inside on the shelves were things just how I left them. My home, my husband, my job... I thought I need to make a new shelf for my pregnancy as soon as possible. \\n\\nTo explain it a little, there is a shelf for each important person, thing and situation in each pyramid of the planes. These project everything in my physical world, and each new important event, happening, person, etc. needs to be transferred to the pyramids. Kind of like a memory palace, if you will. \\n \\nI left the pyramid from its back door and entered the second pyramid, then the third, forth, fifth. These are shortcuts to each plane that would take a long time to get to otherwise. \\n\\nI left the fifth pyramid from the left door. The sky was bright red and the air was sweet as always. I sat down on the big rock next to the pyramid and chanted to summon the Saki, a being of the fifth dimension that passes infos to and between the beings of lower and higher planes. When I felt a tingling sensation on my shoulder, I knew I was ready. I opened my eyes and before me stood a familiar creature looking like a mixture of Cernunnos and Pan. He greeted me by blinking a long blick and started a telephatic conversation (beings of fourth plane and upwards don't communicate by words and they don't have a spoken language, just a written one with picture-like symbols that correspond to letters in our alphabet and devoid of grammar). \\n\\n\"It's been a long time. Baby is not safe here without an astral body. Do it now!\" \\n\\nAnother thing about the beings of fifth (and sixth, rumor has it) plane is they lack emotion and are very direct because of it. Saki is no exception. \\n\\nFor a brief moment, I felt a weirdness around the space I was at. I felt like my body melted and just slid through or swam across the space around me. I was inside the pyramid and the pregnancy test I used was on the table. I use the table as a temporary storage until I move things to the shelves, which takes time. But I hadn't put the pregnancy test there. It was Saki. I took a deep breath and concentrated on building a shelf for my baby. I imagined the pieces coming together to form the shelf. I took the test in my hands and reached towards the shelf when the door slammed open. There were around twenty beings half the size of my astral body but they looked very stong. \\n\\n\"You can't do that! Go back to your time now!\"\\n\\nWith that I felt like my whole body fell down from a very high hill and slammed on the ground. Fuck. Saki didn't just send me to the original pyramid. He sent me to three days ago. These were the protectors of the fifth plane and they were pissed. \\n\\nI admit I did some things wrong. For one, each new step taken in the astral plane must be done with the presence of an operator, which is basically another Tragnan that leads the operation and keeps the Tragnan in trance grounded. My operator was also my mentor before I moved to this city. Since he is hours away by car, I've had to do everything I've done so far alone, which was fine. But anything new (like summoning the Saki for the first time) I had to do with him. At least I could've added the baby shelf before summoning the Saki but I was so panicked and in desperate need of help that I skipped this process. I should've known better. I should've known that everything of significance needs an astral body. It was one of the first things my mentor has taught me. \\n\\nMy eyes were still closed while I thought about all this. I tried to concentrate being in the pyramid again, but I couldn't. I was thrown out. Great. Now I had to do it all over again and Gods know if I could summon the Saki ever again. I closed my eyes, concentrated, and chanted. I landed on the beach again. I walked the pathway alongside the cut tree trunks. I could see the pyramid in the distance but the more I concentrated, the better I could see the little creatures marching towards me. But I was entering my pyramid through my time. What more did they want? \\n\\nI kept walking towards the pyramid. They kept marching towards me. We met halfway. \\n\\n\"Let me through,\" I said (since all the conversations on this plane are held telepathically, I'm just going to say \"I said\" but you know what I mean). \"I need to make an astral body. I am in my own time now.\"\\n\\nThe one that seemed to be leading the crowd stepped forward. \\n\\n\"No, you cannot. You tried to break the laws of your plane. You are banned.\"\\n\\n\"I didn't do anything. I am not capable of manipulating the space-time continuum. I just need to add a new astral body. Please let me...\" \\n\\n\\nAgain I felt the familiar sensation of falling and slamming on my bed. Fuck. These guys really aren't the chatty type, I thought. What was I going to do now? \\n\\nI looked at the clock. It was a little past two, which meant that I spent over three hours on the astral plane for nothing. My husband was sleeping peacefully next to me. I was mad but also tired. I fell asleep. \\n\\nI did not dream at all last night. I mean, it was all black. I did sleep surprisingly well though. I started the filter coffee machine and went to shower until my morning coffee was ready. My husband had already left for work and I didn't have work today, again. I hated it. \\n\\nThe warmth of the water calmed my thoughts a little. I knew I had to get to the astral plane as soon as possible. Just as I was thinking about this, a shadow passed from behind me. I could see it from my peripheral vision. No, I could see them. They were the beings of the fifth plane. But nce I turned around to see them, they were gone. \\n\\nWhile I was getting dressed, drinking my morning coffee, putting last night's dishes away, I've been seeing them. They're watching me. Since I have enough time today, I thought I'd share this with you. Maybe someone will know what to do. I'll update you if anything new happens.</td>\n",
       "    </tr>\n",
       "  </tbody>\n",
       "</table>\n",
       "</div>"
      ],
      "text/plain": [
       "           author         created_utc  created_year  created_month  score  \\\n",
       "257018  wysteria1 2019-06-03 08:06:59  2019          6              62      \n",
       "212316  duofinu17 2018-06-16 00:18:52  2018          6              20      \n",
       "267357  dnzprs    2019-08-19 10:15:48  2019          8              10      \n",
       "\n",
       "        num_comments  \\\n",
       "257018  14             \n",
       "212316  6              \n",
       "267357  8              \n",
       "\n",
       "                                                                                                  full_link  \\\n",
       "257018  https://www.reddit.com/r/nosleep/comments/bw86hu/the_end_of_times/                                    \n",
       "212316  https://www.reddit.com/r/nosleep/comments/8rfnic/flyingeddys_blog/                                    \n",
       "267357  https://www.reddit.com/r/nosleep/comments/csf4at/im_being_watched_by_fivedimensional_beings_part_i/   \n",
       "\n",
       "                                                        title  \\\n",
       "257018  The End of Times                                        \n",
       "212316  FlyingEddy's Blog.                                      \n",
       "267357  I'm being watched by five-dimensional beings - Part I   \n",
       "\n",
       "                                                                                                                                                                                                                                                                                                                                                                                                                                                                                                                                                                                                                                                                                                                                                                                                                                                                                                                                                                                                                                                                                                                                                                                                                                                                                                                                                                                                                                                                                                                                                                                                                                                                                                                                                                                                                                                                                                                                                                                                                                                                                                                                                                                                                                                                                                                                                                                                                                                                                                                                                                                                                                                                                                                                                                                                                                                                                                                                                                                                                                                                                                                                                                                                                                                                                                                                                                                                                                                                                                                                                                                                                                                                                                                                                                                                                                                                                                                                                                                                                                                                                                                                                                                                                                                                                                                                                                                                                                                                                                                                                                                                                                                                                                                                                                                                                                                                                                                                                                                                                                                                                                                                                                                                                                                                                                                                                                                                                                                                                                                                                                                                                                                                                                                                                                                                                                                                                                                                                                                                                                                                                                                                                                                                                                                                                                                                                                                                                                                                                                                                                                                                                                                                                                                                                                                                                                                                                                                                                                                                                                                                                                                                                                                                                                                                                                                                                                                                                                                                                                                                                                                                                                                                                                                                                                                                                                                                                                                                                                                                                                                                                                                                                                                                                                                                                                                                                                                                                                                                                                                                                                                                                                                                                                                                                                                                                                                                                                                                                                                                                                                                                                                                                                                                                                                                                                                                                                                                                                                                                                                                                                                                                                    selftext  \n",
       "257018  God finally returned to Earth.\\n\\nContrary to religious beliefs, there is no \"apocalypse\" or \"end of days\" or \"ragnarok\" as others may call it. Literally none of those things happened.\\n\\nIt was 11th in February when the skies seemingly opened and out came God, in all his glory. Angels lined up on either sides of the opening, blaring their trumpets, singing songs of praise as God descended from heaven in a golden horse.\\n\\nEveryone got mixed reactions. Others ran away scared, others like me bowed down in greeting, while some others brushed it off as mass hysteria or some crap.\\n\\nNevertheless, God is back.\\n\\nLike I said, there were no apocalypse. God is simply back. \\n\\nGod then announced that peace will be restored to the world once again, and that God himself will do it.\\n\\nGod then went around the world, healing sick people, ending wars, touching the hearts and egos of even the most hardened politician. God also fixed the earth, turning forests and ecosystems around the world back to its former state.\\n\\nThe best part is, God also restored extinct animals, like mammoths, dodos, northern white rhinos, etc.\\n\\nLike God said, these were all done for the benefit of humanity.\\n\\nEveryone was happy. In fact, happy is an understatement. So happy in fact, that nobody even questioned as to why God was a female.\\n\\nYou heard me right. God is a she.\\n\\nNevertheless, nobody was bothered by this fact. Why would it matter anyway? God is back. Peace is here. Salvation is here.\\n\\nSo as you might guess, there is no more evil in the world. Everyone was doing good deeds, while God would occasionally stroll around and meet people. Children would run up to her, adults would be greeting her and giving thanks. She even walked up to me one time while I was at the park reading a book. \\n\\nShe greeted me with her beautiful smile that made me freeze for like 2 minutes. She then talked to me about lots of stuff, assuring me that everyone would be with her in heaven.\\n\\nUntil, she broke the news.\\n\\nOne day God descended from heaven and hovered above the world, announcing that heaven was almost full, so the first ones to die would be the only ones accepted. She then proceeded to announce that taking one's own life is now acceptable. Basically entering heaven became first-come, first-served.\\n\\nThat's when the suicides began.\\n\\nMillions and millions of people proceeded to kill themselves that day. It's being announced in the news, on the radio, heck even the streets are filled with dead men, women, and children. You can't really blame them though, everyone wanted to go to heaven. EVERYONE.\\n\\nEven those who used to be corrupt politicians encouraged their men and took their own lives altogether.\\n\\nIt's been 5 days since God's announcement. Everything is quiet. Real quiet.\\n\\n&\\n\\nGod climbed up her throne, gazing at the millions of souls before her. She took a seat, taking pleasure in watching her followers who heeded her announcement, all screaming, burning in the eternal flames on the fields of hell. A servant comes in and took her magnificent robe, revealing red skin, goat horns, and a barbed tail. She marveled at her greatest achievement.\\n\\nThe world was at peace once again.                                                                                                                                                                                                                                                                                                                                                                                                                                                                                                                                                                                                                                                                                                                                                                                                                                                                                                                                                                                                                                                                                                                                                                                                                                                                                                                                                                                                                                                                                                                                                                                                                                                                                                                                                                                                                                                                                                                                                                                                                                                                                                                                                                                                                                                                                                                                                                                                                                                                                                                                                                                                                                                                                                                                                                                                                                                                                                                                                                                                                                                                                                                                                                                                                                                                                                                                                                                                                                                                                                                                                                                                                                                                                                                                                                                                                                                                                                                                                                                                                                                                                                                                                                                                                                                                                                                                                                                                                                                                                                                                                                                                                                                                                                                                                                                                                                                                                                                                                                                                                                                                                                                                                                                                                                                                                                                                                                                                                                                                                                                                                                                                                                                                                                                                                                                                                                                                                                                                                                                                                                                                                                                                                                                                                                                                                        \n",
       "212316  This has kept me up for days. I needed to find people to talk to about this so I made a Reddit account just so that at least one person would know about my story.\\n\\nAbout a year ago I was browsing the web when I stumbled upon a blog belonging to an individual who went by the username FlyingEddy. His blog was fairly interesting; he enjoyed travelling the world and posted pictures and stories about his adventures for his followers to see. His page was very small, only 43 followers at the time I found it. I've had dreams of travelling the world since I was young, and I occasionally spent my spare time exploring Earth through Google street view, visiting places I plan on going to one day when I get older. The only strange thing about the blog that at the time was slightly annoying was that FlyingEddy blocked comments, so his users weren't able to comment on any of his posts. I assumed he had received some harassment in the past and simply didn't want to deal with it. Regardless, it was natural for me to click the follow button on FlyingEddy's page. His posts were detailed but not too long so that reading them would get boring, and his pictures were always pretty to look at. He would post every once in a while and each post would follow the same format in terms of title: The date followed by an interesting caption, and then @ the place he was at. It made searching through his posts easier and it made the blog more organized as a whole. I visited his page every once in a while and found amusement through his tales of exploration. It was fun to see what the world was like and even though I wasn't able to be there myself, being able to at least see it through FlyingEddy's lens gave me a sense of pleasure.\\n\\nFast forward a few weeks when he posts something very odd.\\n\\nThe title was formatted the same way as he always did, but right from the date the post caught my attention. It was titled \"April 23, 2017: I found you, ragnarok98. @Oslo, Norway.\" Attached to the post wasn't a picture of Oslo's gorgeous landscapes or something scenic, something that was in every picture that FlyingEddy posted.\\n\\nIt was a body.\\n\\nIt was cold and lifeless, limbs sprawled across the concrete backdrop which I assumed was a sidewalk. There was no text. Just the image. Nothing else. The problem with the post wasn't just the morbid image, it was the date. It had been titled \"April 23, 2017\", but it had been posted on April 9, 2017, two weeks before the titled date. I assumed it was just some prank that FlyingEddy organized with one of his followers. Sure enough, by investigating the followers list on the blog, ragnarok98 was on the list. Maybe they had won a giveaway.\\n\\nTwo weeks later I decided to check on the blog, see if anything changed. Perhaps the prank was over and that there was a nice surprise waiting for me. Perhaps I'd get a good laugh out of it.\\n\\nThe blog hadn't changed. No new posts since the once from the 9th, and none of the blog's layout had changed. The only thing I noticed was that the follower number had gone down from 44 to 43. No one new followed since I did, and that was no surprise to me. FlyingEddy was clearly not a superstar on the web and was just a modest guy looking to share his stories to the internet, so I accepted the fact that new followers would be a rare thing. I checked the followers list and what caught my eye was that ragnarok98 was gone. I double, triple checked, and they weren't there on the list. At first it was obviously slightly concerning, but I just assumed that FlyingEddy was going far with this prank and that ragnarok98 was maybe a close friend of his. However, this wouldn't be the last ominous post from FlyingEddy.\\n\\nA month after the previous one, another showed up, and like the post for ragnarok98, it was the same. This time it was for username PeepingRog. Again, the date titled in the post was two weeks ahead. Again, the post only consisted of someone's corpse. Two weeks later, the follower count dropped to 42, and sure enough, PeepingRog was gone from the list. As more and more posts showed up over the following weeks and months, it became clear to me that these posts weren't merely a sick and twisted prank. It couldn't have been. Post after post, photos of bodies showed up on the blog feed, and exactly two weeks after each post was submitted, a user disappeared from the followers list. One thing that was consistent throughout every post was the title:\\n\\n\"I found you.\"\\n\\nRarely, a new follower showed up only to be gone two weeks after their own bodies showed up on the page. By the end of May the follower count for FlyingEddy's blog had dropped down to just one. That last one is me.\\n\\nOn the first of June this year, a post popped up on the feed: \"June 15, 2018: I found you, duofinu17. @Toronto, Canada\" I live in Toronto.\\n\\nKeeping with the other posts, a picture was there.\\n\\nIt was me.\\n\\nDead.\\n\\nI froze. Not because of the photo of my own corpse, lying there dead and lifeless, it was the background. I recognized it as a park I frequented. I take walks there regularly, almost daily, just to get some fresh air or to clear my head. But now I was supposed to believe that it would be the site of my death.\\n\\nUp until that point I was never 100& sure that all the bodies I saw on the blog actually belonged to their respective usernames. I never knew any of the other followers so I had no concrete proof that any of this was real. Regardless, I was terrified.\\n\\nToday is my due date. It has been two weeks since that post and if I'm anything like the other users, I'm set to die today. Or at least that's what I assume. As I write this I am shaking with every inch of my body, and I hoped that putting this all down would calm my nerves, but I feel like it's almost done the opposite.\\n\\nI think I'll take a walk around the park after I post this. Maybe clear my head a bit.                                                                                                                                                                                                                                                                                                                                                                                                                                                                                                                                                                                                                                                                                                                                                                                                                                                                                                                                                                                                                                                                                                                                                                                                                                                                                                                                                                                                                                                                                                                                                                                                                                                                                                                                                                                                                                                                                                                                                                                                                                                                                                                                                                                                                                                                                                                                                                                                                                                                                                                                                                                                                                                                                                                                                                                                                                                                                                                                                                                                                                                                                                                                                                                                                                                                                                                                                                                                                                                                                           \n",
       "267357  I am in a lot of trouble right now and I'm being watched by a number of higher dimension beings. They're everywhere I turn and I'm scared. I don't know what to do. \\n\\nLet me explain. I am a Tragnan. For those of you who don't know, and I assume that's pretty much everyone reading my post, a Tragnan is a follower of a lesser known school of magic called the Kblan Tragna. It mainly focuses on magic on different astral levels that is provided by beings of higher dimensions. \\n\\nA little back story here. I am in a very bad place in my life right now. I am stressed beyond my ability to handle. I am scared for my future. I just got a new job, which is a lot better than my old one, but I work part time, so I earn a lot less. My husband is paying for almost everything and we do make ends meet but... I did a pregnancy test three days ago and it came out positive. How are we going to afford a baby now? My husband doesn't know yet. How can I tell him? He would make me quit school and eventually work, but I need this school. I need to graduate in order to get a real paying job. \\n\\nSo with all these thoughts in my head, I wanted a solution. A new perspective. This is why I did the contacting ritual last night. Without boring you with the details (and mostly because the information on how to do the rituals is magically protected by my mentor), I got in contact with a five dimensional being. \\n\\nI am going to try to simply explain how this works, so that you have an idea of other dimensions. There are certain steps that need to be followed and some mantras that need to be chanted to get to the astral world (sorry folks, this part is protected). There are seven astral levels and in each one beings of different levels of intelligence. The beings of the first level are very much like plants. They neither have the ability to form complex thoughts and feelings, nor are they able to move. Beings of second level are like animals, meaning they can move but only act on instincts. The third level is the multiverse we live in (yes, this school of magic believes in the multiverse and that different outcomes to different situations have a place in its own universe). Beings of level four can control space, whereas beings on level five can control time, as well. Level six is where \"gods\" live. I used \"gods\" losely here, and mean beings that can change fate by it. Another fun fact about them is that you can't contact them directly. You *can* contact them through a level five being or by leaving your physical body behind (though the latter is a myth and the only person to have contacted a being of the sixth level -the other mentor- died a couple years ago). \\n\\nEveryone's perception of the astral world is unique. It is shaped by the preexisting forms on each person's subconscious mind, because astral bodies don't have a physical form and the mind can't produce new forms, only use old ones, if that makes sense. \\n\\nSo I closed my eyes, took a deep breath and started chanting the mantras to enter the astral planes and landed on level zero. It is basically the hallway between the physical and astral worlds, and for me it's always the empty beach with cut tree trunks on the side. For anyone interested in psychology, it is a sign of father figure problems in early childhood. \\n\\nAnyways, I walked towards the first pyramid, which indicates the entrance to the first plane. Inside on the shelves were things just how I left them. My home, my husband, my job... I thought I need to make a new shelf for my pregnancy as soon as possible. \\n\\nTo explain it a little, there is a shelf for each important person, thing and situation in each pyramid of the planes. These project everything in my physical world, and each new important event, happening, person, etc. needs to be transferred to the pyramids. Kind of like a memory palace, if you will. \\n \\nI left the pyramid from its back door and entered the second pyramid, then the third, forth, fifth. These are shortcuts to each plane that would take a long time to get to otherwise. \\n\\nI left the fifth pyramid from the left door. The sky was bright red and the air was sweet as always. I sat down on the big rock next to the pyramid and chanted to summon the Saki, a being of the fifth dimension that passes infos to and between the beings of lower and higher planes. When I felt a tingling sensation on my shoulder, I knew I was ready. I opened my eyes and before me stood a familiar creature looking like a mixture of Cernunnos and Pan. He greeted me by blinking a long blick and started a telephatic conversation (beings of fourth plane and upwards don't communicate by words and they don't have a spoken language, just a written one with picture-like symbols that correspond to letters in our alphabet and devoid of grammar). \\n\\n\"It's been a long time. Baby is not safe here without an astral body. Do it now!\" \\n\\nAnother thing about the beings of fifth (and sixth, rumor has it) plane is they lack emotion and are very direct because of it. Saki is no exception. \\n\\nFor a brief moment, I felt a weirdness around the space I was at. I felt like my body melted and just slid through or swam across the space around me. I was inside the pyramid and the pregnancy test I used was on the table. I use the table as a temporary storage until I move things to the shelves, which takes time. But I hadn't put the pregnancy test there. It was Saki. I took a deep breath and concentrated on building a shelf for my baby. I imagined the pieces coming together to form the shelf. I took the test in my hands and reached towards the shelf when the door slammed open. There were around twenty beings half the size of my astral body but they looked very stong. \\n\\n\"You can't do that! Go back to your time now!\"\\n\\nWith that I felt like my whole body fell down from a very high hill and slammed on the ground. Fuck. Saki didn't just send me to the original pyramid. He sent me to three days ago. These were the protectors of the fifth plane and they were pissed. \\n\\nI admit I did some things wrong. For one, each new step taken in the astral plane must be done with the presence of an operator, which is basically another Tragnan that leads the operation and keeps the Tragnan in trance grounded. My operator was also my mentor before I moved to this city. Since he is hours away by car, I've had to do everything I've done so far alone, which was fine. But anything new (like summoning the Saki for the first time) I had to do with him. At least I could've added the baby shelf before summoning the Saki but I was so panicked and in desperate need of help that I skipped this process. I should've known better. I should've known that everything of significance needs an astral body. It was one of the first things my mentor has taught me. \\n\\nMy eyes were still closed while I thought about all this. I tried to concentrate being in the pyramid again, but I couldn't. I was thrown out. Great. Now I had to do it all over again and Gods know if I could summon the Saki ever again. I closed my eyes, concentrated, and chanted. I landed on the beach again. I walked the pathway alongside the cut tree trunks. I could see the pyramid in the distance but the more I concentrated, the better I could see the little creatures marching towards me. But I was entering my pyramid through my time. What more did they want? \\n\\nI kept walking towards the pyramid. They kept marching towards me. We met halfway. \\n\\n\"Let me through,\" I said (since all the conversations on this plane are held telepathically, I'm just going to say \"I said\" but you know what I mean). \"I need to make an astral body. I am in my own time now.\"\\n\\nThe one that seemed to be leading the crowd stepped forward. \\n\\n\"No, you cannot. You tried to break the laws of your plane. You are banned.\"\\n\\n\"I didn't do anything. I am not capable of manipulating the space-time continuum. I just need to add a new astral body. Please let me...\" \\n\\n\\nAgain I felt the familiar sensation of falling and slamming on my bed. Fuck. These guys really aren't the chatty type, I thought. What was I going to do now? \\n\\nI looked at the clock. It was a little past two, which meant that I spent over three hours on the astral plane for nothing. My husband was sleeping peacefully next to me. I was mad but also tired. I fell asleep. \\n\\nI did not dream at all last night. I mean, it was all black. I did sleep surprisingly well though. I started the filter coffee machine and went to shower until my morning coffee was ready. My husband had already left for work and I didn't have work today, again. I hated it. \\n\\nThe warmth of the water calmed my thoughts a little. I knew I had to get to the astral plane as soon as possible. Just as I was thinking about this, a shadow passed from behind me. I could see it from my peripheral vision. No, I could see them. They were the beings of the fifth plane. But nce I turned around to see them, they were gone. \\n\\nWhile I was getting dressed, drinking my morning coffee, putting last night's dishes away, I've been seeing them. They're watching me. Since I have enough time today, I thought I'd share this with you. Maybe someone will know what to do. I'll update you if anything new happens.  "
      ]
     },
     "execution_count": 5,
     "metadata": {},
     "output_type": "execute_result"
    }
   ],
   "source": [
    "df_clean[df_clean['selftext'].str.contains('ragna')]"
   ]
  },
  {
   "cell_type": "code",
   "execution_count": null,
   "metadata": {},
   "outputs": [],
   "source": []
  }
 ],
 "metadata": {
  "kernelspec": {
   "display_name": "Python 3",
   "language": "python",
   "name": "python3"
  },
  "language_info": {
   "codemirror_mode": {
    "name": "ipython",
    "version": 3
   },
   "file_extension": ".py",
   "mimetype": "text/x-python",
   "name": "python",
   "nbconvert_exporter": "python",
   "pygments_lexer": "ipython3",
   "version": "3.7.5"
  },
  "toc": {
   "base_numbering": 1,
   "nav_menu": {},
   "number_sections": true,
   "sideBar": true,
   "skip_h1_title": false,
   "title_cell": "Table of Contents",
   "title_sidebar": "Contents",
   "toc_cell": false,
   "toc_position": {
    "height": "calc(100% - 180px)",
    "left": "10px",
    "top": "150px",
    "width": "165px"
   },
   "toc_section_display": true,
   "toc_window_display": false
  },
  "varInspector": {
   "cols": {
    "lenName": 16,
    "lenType": 16,
    "lenVar": 40
   },
   "kernels_config": {
    "python": {
     "delete_cmd_postfix": "",
     "delete_cmd_prefix": "del ",
     "library": "var_list.py",
     "varRefreshCmd": "print(var_dic_list())"
    },
    "r": {
     "delete_cmd_postfix": ") ",
     "delete_cmd_prefix": "rm(",
     "library": "var_list.r",
     "varRefreshCmd": "cat(var_dic_list()) "
    }
   },
   "types_to_exclude": [
    "module",
    "function",
    "builtin_function_or_method",
    "instance",
    "_Feature"
   ],
   "window_display": false
  }
 },
 "nbformat": 4,
 "nbformat_minor": 2
}
