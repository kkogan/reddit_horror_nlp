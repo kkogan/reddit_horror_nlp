{
 "cells": [
  {
   "cell_type": "markdown",
   "metadata": {},
   "source": [
    "# Imports"
   ]
  },
  {
   "cell_type": "code",
   "execution_count": 12,
   "metadata": {
    "ExecuteTime": {
     "end_time": "2019-11-13T04:04:50.667134Z",
     "start_time": "2019-11-13T04:04:50.409779Z"
    }
   },
   "outputs": [
    {
     "name": "stdout",
     "output_type": "stream",
     "text": [
      "cores 8\n"
     ]
    },
    {
     "data": {
      "text/html": [
       "<style>.container { width:100% !important; }</style>"
      ],
      "text/plain": [
       "<IPython.core.display.HTML object>"
      ]
     },
     "metadata": {},
     "output_type": "display_data"
    }
   ],
   "source": [
    "#misc\n",
    "import logging\n",
    "import os\n",
    "import pprint\n",
    "logging.basicConfig(level=logging.INFO)\n",
    "\n",
    "import multiprocessing\n",
    "print(\"cores\", multiprocessing.cpu_count())\n",
    "from IPython.core.display import display, HTML\n",
    "display(HTML(\"<style>.container { width:100% !important; }</style>\"))\n",
    "\n",
    "# http\n",
    "import requests\n",
    "import json\n",
    "from datetime import datetime, date, timedelta\n",
    "import time\n",
    "from bs4 import BeautifulSoup\n",
    "\n",
    "\n",
    "# data viz\n",
    "import matplotlib.pyplot as plt\n",
    "import seaborn as sns\n",
    "sns.set()\n",
    "%matplotlib inline\n",
    "\n",
    "# data\n",
    "import numpy as np\n",
    "#import dask.dataframe as pd\n",
    "import pandas as pd\n",
    "import pickle\n",
    "from collections import defaultdict\n",
    "import re\n",
    "pd.set_option('display.max_columns', 500)\n",
    "pd.set_option('display.max_rows', 500)\n",
    "pd.set_option('display.max_colwidth', -1)\n",
    "from copy import deepcopy\n",
    "\n",
    "#nlp\n",
    "import spacy\n",
    "from spacy.lemmatizer import Lemmatizer\n",
    "from spacy.lang.en.stop_words import STOP_WORDS\n",
    "from sense2vec import Sense2VecComponent\n",
    "from spacy import displacy\n",
    "from tqdm import tqdm_notebook as tqdm\n",
    "\n",
    "\n",
    "import gensim\n",
    "import gensim.corpora as corpora\n",
    "from gensim.utils import simple_preprocess\n",
    "from gensim.models import CoherenceModel\n",
    "from gensim.models.ldamulticore import LdaMulticore\n",
    "from gensim.models.ldamodel import LdaModel\n",
    "from gensim.models.phrases import Phrases, Phraser\n",
    "\n",
    "import pyLDAvis.gensim\n",
    "import pyLDAvis.sklearn\n",
    "pyLDAvis.enable_notebook()\n",
    "\n",
    "import pandas as pd\n",
    "from sklearn.feature_extraction.text import CountVectorizer \n",
    "from sklearn.decomposition import TruncatedSVD\n",
    "from sklearn.decomposition import NMF\n",
    "from sklearn.metrics.pairwise import cosine_similarity\n",
    "\n",
    "# Constants\n",
    "RANDOM_STATE=42\n",
    "SAMPLE_SIZE=2000\n",
    "WORKERS=3"
   ]
  },
  {
   "cell_type": "markdown",
   "metadata": {
    "ExecuteTime": {
     "end_time": "2019-11-12T19:05:56.431740Z",
     "start_time": "2019-11-12T19:05:56.429270Z"
    }
   },
   "source": [
    "# Original data"
   ]
  },
  {
   "cell_type": "code",
   "execution_count": 2,
   "metadata": {
    "ExecuteTime": {
     "end_time": "2019-11-12T22:24:11.624872Z",
     "start_time": "2019-11-12T22:23:29.375614Z"
    }
   },
   "outputs": [],
   "source": [
    "df_full = pd.read_json('/Users/kirill.kogan/Documents/data/reddit/nosleep.txt',lines=True)"
   ]
  },
  {
   "cell_type": "code",
   "execution_count": null,
   "metadata": {
    "ExecuteTime": {
     "end_time": "2019-11-12T18:32:56.360367Z",
     "start_time": "2019-11-12T18:32:56.357006Z"
    }
   },
   "outputs": [],
   "source": []
  },
  {
   "cell_type": "markdown",
   "metadata": {},
   "source": [
    "# Clean"
   ]
  },
  {
   "cell_type": "code",
   "execution_count": 3,
   "metadata": {
    "ExecuteTime": {
     "end_time": "2019-11-12T22:24:11.825895Z",
     "start_time": "2019-11-12T22:24:11.803295Z"
    }
   },
   "outputs": [],
   "source": [
    "def clean_frame(frame):\n",
    "    df = frame.copy()\n",
    "    \n",
    "    ##############\n",
    "    # Duplicates\n",
    "    ##############\n",
    "    df = df.drop_duplicates(subset='id')\n",
    "    \n",
    "    #######\n",
    "    # NAs\n",
    "    #######\n",
    "    df = df.dropna(subset=['selftext'])\n",
    "    #df = df[df['selftext'] != '[removed]']\n",
    "    #df = df[df['selftext'] != '[deleted]']\n",
    "    df = df[df['selftext'].str.len() > 300]\n",
    "    df = df[df['score'] > 0]\n",
    "    \n",
    "    ########\n",
    "    # Text cleaning\n",
    "    ########\n",
    "    df['selftext'] = df['selftext'].replace(value = '', regex = 'amp;\\\\S+') \n",
    "    \n",
    "    ##################\n",
    "    # Date processing\n",
    "    ##################\n",
    "    df['created_utc'] = pd.to_datetime(df['created_utc'], unit='s')\n",
    "    df['created_year'] = pd.DatetimeIndex(df['created_utc']).year\n",
    "    df['created_month'] = pd.DatetimeIndex(df['created_utc']).month\n",
    "    #df['edited'] = pd.to_datetime(df['edited'], unit='s')\n",
    "    #df['retrieved_on'] = pd.to_datetime(df['retrieved_on'], unit='s')\n",
    "    #df['author_created_utc'] = pd.to_datetime(df['author_created_utc'], unit='s')\n",
    "\n",
    "    mask = ['author',\n",
    "        'created_utc',\n",
    "        'created_year',\n",
    "        'created_month', \n",
    "        'score', \n",
    "        'num_comments',\n",
    "        'full_link', \n",
    "        'title', \n",
    "        'selftext',]\n",
    "    \n",
    "    return df[mask] "
   ]
  },
  {
   "cell_type": "code",
   "execution_count": 5,
   "metadata": {
    "ExecuteTime": {
     "end_time": "2019-11-12T22:24:32.803456Z",
     "start_time": "2019-11-12T22:24:27.145106Z"
    }
   },
   "outputs": [],
   "source": [
    "df_clean = clean_frame(df_full)\n"
   ]
  },
  {
   "cell_type": "code",
   "execution_count": 6,
   "metadata": {
    "ExecuteTime": {
     "end_time": "2019-11-12T22:24:33.188966Z",
     "start_time": "2019-11-12T22:24:33.084723Z"
    }
   },
   "outputs": [],
   "source": [
    "df_clean.sort_values(['score'], ascending=False, inplace=True)"
   ]
  },
  {
   "cell_type": "code",
   "execution_count": 7,
   "metadata": {
    "ExecuteTime": {
     "end_time": "2019-11-12T22:24:54.639198Z",
     "start_time": "2019-11-12T22:24:33.385259Z"
    }
   },
   "outputs": [],
   "source": [
    "df_clean.to_pickle(\"/Users/kirill.kogan/Documents/data/reddit/reddit_df_clean.pkl\")"
   ]
  },
  {
   "cell_type": "code",
   "execution_count": 11,
   "metadata": {
    "ExecuteTime": {
     "end_time": "2019-11-12T22:26:07.201179Z",
     "start_time": "2019-11-12T22:26:07.177155Z"
    }
   },
   "outputs": [],
   "source": [
    "df_19_sub = df_clean[df_clean['created_year'] == 2019].head(100)\n",
    "df_19_sub.to_pickle('./reddit_df_19_sub.pkl')"
   ]
  },
  {
   "cell_type": "code",
   "execution_count": null,
   "metadata": {},
   "outputs": [],
   "source": []
  }
 ],
 "metadata": {
  "kernelspec": {
   "display_name": "Python 3",
   "language": "python",
   "name": "python3"
  },
  "language_info": {
   "codemirror_mode": {
    "name": "ipython",
    "version": 3
   },
   "file_extension": ".py",
   "mimetype": "text/x-python",
   "name": "python",
   "nbconvert_exporter": "python",
   "pygments_lexer": "ipython3",
   "version": "3.7.5"
  },
  "toc": {
   "base_numbering": 1,
   "nav_menu": {},
   "number_sections": true,
   "sideBar": true,
   "skip_h1_title": false,
   "title_cell": "Table of Contents",
   "title_sidebar": "Contents",
   "toc_cell": false,
   "toc_position": {
    "height": "calc(100% - 180px)",
    "left": "10px",
    "top": "150px",
    "width": "165px"
   },
   "toc_section_display": true,
   "toc_window_display": true
  },
  "varInspector": {
   "cols": {
    "lenName": 16,
    "lenType": 16,
    "lenVar": 40
   },
   "kernels_config": {
    "python": {
     "delete_cmd_postfix": "",
     "delete_cmd_prefix": "del ",
     "library": "var_list.py",
     "varRefreshCmd": "print(var_dic_list())"
    },
    "r": {
     "delete_cmd_postfix": ") ",
     "delete_cmd_prefix": "rm(",
     "library": "var_list.r",
     "varRefreshCmd": "cat(var_dic_list()) "
    }
   },
   "types_to_exclude": [
    "module",
    "function",
    "builtin_function_or_method",
    "instance",
    "_Feature"
   ],
   "window_display": false
  }
 },
 "nbformat": 4,
 "nbformat_minor": 2
}
