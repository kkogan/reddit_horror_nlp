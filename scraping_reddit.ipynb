{
 "cells": [
  {
   "cell_type": "code",
   "execution_count": 1,
   "metadata": {
    "ExecuteTime": {
     "end_time": "2019-11-10T00:47:23.929549Z",
     "start_time": "2019-11-10T00:47:21.963479Z"
    }
   },
   "outputs": [],
   "source": [
    "import logging\n",
    "import os\n",
    "import pprint\n",
    "logging.basicConfig(level=logging.INFO)\n",
    "logging.getLogger('backoff').addHandler(logging.StreamHandler())\n",
    "\n",
    "# http\n",
    "from bs4 import BeautifulSoup\n",
    "import requests\n",
    "import json\n",
    "import backoff\n",
    "from datetime import datetime, date, timedelta\n",
    "import time\n",
    "\n",
    "# data viz\n",
    "import matplotlib.pyplot as plt\n",
    "import seaborn as sns\n",
    "sns.set()\n",
    "%matplotlib inline\n",
    "\n",
    "# data\n",
    "import numpy as np\n",
    "import pandas as pd\n",
    "import pickle\n",
    "from collections import defaultdict\n",
    "import re\n"
   ]
  },
  {
   "cell_type": "markdown",
   "metadata": {
    "ExecuteTime": {
     "end_time": "2019-11-09T23:40:12.984924Z",
     "start_time": "2019-11-09T23:40:12.971123Z"
    }
   },
   "source": [
    "# ['libraryofshadows', 'nosleep']"
   ]
  },
  {
   "cell_type": "code",
   "execution_count": 5,
   "metadata": {
    "ExecuteTime": {
     "end_time": "2019-11-10T00:58:43.035963Z",
     "start_time": "2019-11-10T00:58:43.029365Z"
    }
   },
   "outputs": [],
   "source": [
    "@backoff.on_exception(backoff.expo,\n",
    "                      requests.exceptions.Timeout,\n",
    "                      max_time=600)\n",
    "@backoff.on_exception(backoff.expo,\n",
    "                      requests.exceptions.RequestException,\n",
    "                      max_time=300,\n",
    "                      jitter=backoff.full_jitter)\n",
    "def get_url(url, params={}):\n",
    "    res = requests.get(url, params)\n",
    "    if res.status_code in [429] or res.status_code >= 500:\n",
    "        res.raise_for_status() \n",
    "    return res"
   ]
  },
  {
   "cell_type": "code",
   "execution_count": 14,
   "metadata": {
    "ExecuteTime": {
     "end_time": "2019-11-10T02:04:33.885807Z",
     "start_time": "2019-11-10T02:04:33.873128Z"
    }
   },
   "outputs": [],
   "source": [
    "def process_result(res, outfile):\n",
    "    json_response = res.json()\n",
    "    print(\"records retreived:\", len(json_response['data']), flush=True)\n",
    "    #pprint.pprint(json_response)\n",
    "    with open(outfile, 'a+') as file:\n",
    "        for data in json_response['data']:  \n",
    "            json.dump(data, file)\n",
    "            file.write('\\n')\n",
    "    \n",
    "\n",
    "def iterate_subreddit(subreddit, datestart, dateend, days_delta=1):\n",
    "    while datestart < dateend:\n",
    "        print(datestart, datestart + timedelta(days=days_delta), flush=True)\n",
    "        res = get_url('https://api.pushshift.io/reddit/search/submission/',\n",
    "                      params={'subreddit':subreddit, \n",
    "                              'sort':'desc',\n",
    "                              'sort_type':'created_utc',\n",
    "                              'after':int(datestart.timestamp()),\n",
    "                              'before':int((datestart + timedelta(days=days_delta)).timestamp()),\n",
    "                              'size':2000})\n",
    "        process_result(res, outfile=f'{subreddit}.txt')             \n",
    "        datestart += timedelta(days=days_delta)\n",
    "        time.sleep(2)\n",
    "    print(\"done\")\n",
    "\n"
   ]
  },
  {
   "cell_type": "code",
   "execution_count": 15,
   "metadata": {
    "ExecuteTime": {
     "end_time": "2019-11-10T02:04:48.138133Z",
     "start_time": "2019-11-10T02:04:34.481113Z"
    }
   },
   "outputs": [
    {
     "name": "stdout",
     "output_type": "stream",
     "text": [
      "2018-03-18 00:00:00 2018-03-19 00:00:00\n",
      "records retreived: 90\n",
      "2018-03-19 00:00:00 2018-03-20 00:00:00\n",
      "records retreived: 1000\n",
      "2018-03-20 00:00:00 2018-03-21 00:00:00\n",
      "records retreived: 571\n",
      "2018-03-21 00:00:00 2018-03-22 00:00:00\n",
      "records retreived: 568\n",
      "2018-03-22 00:00:00 2018-03-23 00:00:00\n",
      "records retreived: 124\n",
      "done\n"
     ]
    }
   ],
   "source": [
    "iterate_subreddit('nosleep', datetime(2018,3,18), datetime(2018,3,23))\n",
    "# should fetch more than 1000 2018-03-19 00:00:00 2018-03-20 00:00:00"
   ]
  }
 ],
 "metadata": {
  "kernelspec": {
   "display_name": "Python 3",
   "language": "python",
   "name": "python3"
  },
  "language_info": {
   "codemirror_mode": {
    "name": "ipython",
    "version": 3
   },
   "file_extension": ".py",
   "mimetype": "text/x-python",
   "name": "python",
   "nbconvert_exporter": "python",
   "pygments_lexer": "ipython3",
   "version": "3.6.9"
  },
  "toc": {
   "base_numbering": 1,
   "nav_menu": {},
   "number_sections": true,
   "sideBar": true,
   "skip_h1_title": false,
   "title_cell": "Table of Contents",
   "title_sidebar": "Contents",
   "toc_cell": false,
   "toc_position": {},
   "toc_section_display": true,
   "toc_window_display": false
  },
  "varInspector": {
   "cols": {
    "lenName": 16,
    "lenType": 16,
    "lenVar": 40
   },
   "kernels_config": {
    "python": {
     "delete_cmd_postfix": "",
     "delete_cmd_prefix": "del ",
     "library": "var_list.py",
     "varRefreshCmd": "print(var_dic_list())"
    },
    "r": {
     "delete_cmd_postfix": ") ",
     "delete_cmd_prefix": "rm(",
     "library": "var_list.r",
     "varRefreshCmd": "cat(var_dic_list()) "
    }
   },
   "types_to_exclude": [
    "module",
    "function",
    "builtin_function_or_method",
    "instance",
    "_Feature"
   ],
   "window_display": false
  }
 },
 "nbformat": 4,
 "nbformat_minor": 2
}
